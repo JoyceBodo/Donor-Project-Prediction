{
 "cells": [
  {
   "cell_type": "markdown",
   "id": "66545990",
   "metadata": {},
   "source": [
    "# Donor-Funded Project Success Prediction in Kenya\n",
    "\n",
    "This notebook builds a predictive system using machine learning models to forecast the success of donor-funded projects in Kenya."
   ]
  },
  {
   "cell_type": "code",
   "execution_count": 3,
   "id": "c06492ad",
   "metadata": {},
   "outputs": [],
   "source": [
    "import pandas as pd\n",
    "import numpy as np\n",
    "import matplotlib.pyplot as plt\n",
    "import seaborn as sns\n",
    "\n",
    "from sklearn.model_selection import train_test_split\n",
    "from sklearn.linear_model import LogisticRegression\n",
    "from sklearn.tree import DecisionTreeClassifier\n",
    "from sklearn.ensemble import RandomForestClassifier\n",
    "from xgboost import XGBClassifier\n",
    "from sklearn.metrics import classification_report, accuracy_score\n"
   ]
  },
  {
   "cell_type": "code",
   "execution_count": null,
   "id": "5542688d",
   "metadata": {},
   "outputs": [
    {
     "data": {
      "application/vnd.microsoft.datawrangler.viewer.v0+json": {
       "columns": [
        {
         "name": "index",
         "rawType": "int64",
         "type": "integer"
        },
        {
         "name": "Unspecified",
         "rawType": "object",
         "type": "string"
        },
        {
         "name": "Unnamed: 1",
         "rawType": "object",
         "type": "unknown"
        },
        {
         "name": "Unnamed: 2",
         "rawType": "object",
         "type": "unknown"
        },
        {
         "name": "Unnamed: 3",
         "rawType": "object",
         "type": "unknown"
        },
        {
         "name": "Unnamed: 4",
         "rawType": "object",
         "type": "unknown"
        },
        {
         "name": "Unnamed: 5",
         "rawType": "object",
         "type": "unknown"
        },
        {
         "name": "Unnamed: 6",
         "rawType": "object",
         "type": "unknown"
        },
        {
         "name": "Unnamed: 7",
         "rawType": "object",
         "type": "unknown"
        },
        {
         "name": "Unnamed: 8",
         "rawType": "object",
         "type": "unknown"
        },
        {
         "name": "Unnamed: 9",
         "rawType": "object",
         "type": "unknown"
        },
        {
         "name": "Unnamed: 10",
         "rawType": "object",
         "type": "unknown"
        },
        {
         "name": "Unnamed: 11",
         "rawType": "object",
         "type": "unknown"
        }
       ],
       "conversionMethod": "pd.DataFrame",
       "ref": "1850d1e7-58b1-4c56-be9d-5500d0bbe91f",
       "rows": [
        [
         "0",
         "Unspecified",
         null,
         null,
         null,
         null,
         null,
         null,
         null,
         null,
         null,
         null,
         null
        ],
        [
         "1",
         "Project",
         "Project Title",
         "Total Project Cost (KES)",
         "Funding Type",
         "Funding Source",
         "Start Date (Planned)",
         "Start Date (Actual)",
         "Duration (Months)",
         "Vision 2030 Flagship Ministry",
         "MTEF Sector",
         "Implementing Agency",
         "Implementation Status"
        ],
        [
         "2",
         "2010/051489",
         "Construction Of Kiambu West District Headquarters",
         "18,300,000",
         "GoK; Unspecified",
         "Government of Kenya",
         "09/01/2009",
         "09/01/2009",
         "33 months",
         "Unspecified",
         "Governance, Justice, Law and Order (GJLOS)",
         "102 - Ministry of Interior and Coordination of National Government",
         "Ongoing"
        ],
        [
         "3",
         "2010/051491",
         "Construction Of Taveta District Headquarters",
         "45,024,924",
         "GoK; Unspecified",
         "Government of Kenya",
         "06/08/2008",
         "06/02/2008",
         "48 months",
         "Unspecified",
         "Governance, Justice, Law and Order (GJLOS)",
         "102 - Ministry of Interior and Coordination of National Government",
         "Ongoing"
        ],
        [
         "4",
         "2010/051501",
         "Construction Of Kyuso District Headquarters",
         "50,000,000",
         "GoK; Unspecified",
         "Government of Kenya",
         "03/02/2008",
         "04/02/2008",
         "51 months",
         "Unspecified",
         "Governance, Justice, Law and Order (GJLOS)",
         "102 - Ministry of Interior and Coordination of National Government",
         "Ongoing"
        ]
       ],
       "shape": {
        "columns": 12,
        "rows": 5
       }
      },
      "text/html": [
       "<div>\n",
       "<style scoped>\n",
       "    .dataframe tbody tr th:only-of-type {\n",
       "        vertical-align: middle;\n",
       "    }\n",
       "\n",
       "    .dataframe tbody tr th {\n",
       "        vertical-align: top;\n",
       "    }\n",
       "\n",
       "    .dataframe thead th {\n",
       "        text-align: right;\n",
       "    }\n",
       "</style>\n",
       "<table border=\"1\" class=\"dataframe\">\n",
       "  <thead>\n",
       "    <tr style=\"text-align: right;\">\n",
       "      <th></th>\n",
       "      <th>Unspecified</th>\n",
       "      <th>Unnamed: 1</th>\n",
       "      <th>Unnamed: 2</th>\n",
       "      <th>Unnamed: 3</th>\n",
       "      <th>Unnamed: 4</th>\n",
       "      <th>Unnamed: 5</th>\n",
       "      <th>Unnamed: 6</th>\n",
       "      <th>Unnamed: 7</th>\n",
       "      <th>Unnamed: 8</th>\n",
       "      <th>Unnamed: 9</th>\n",
       "      <th>Unnamed: 10</th>\n",
       "      <th>Unnamed: 11</th>\n",
       "    </tr>\n",
       "  </thead>\n",
       "  <tbody>\n",
       "    <tr>\n",
       "      <th>0</th>\n",
       "      <td>Unspecified</td>\n",
       "      <td>NaN</td>\n",
       "      <td>NaN</td>\n",
       "      <td>NaN</td>\n",
       "      <td>NaN</td>\n",
       "      <td>NaN</td>\n",
       "      <td>NaN</td>\n",
       "      <td>NaN</td>\n",
       "      <td>NaN</td>\n",
       "      <td>NaN</td>\n",
       "      <td>NaN</td>\n",
       "      <td>NaN</td>\n",
       "    </tr>\n",
       "    <tr>\n",
       "      <th>1</th>\n",
       "      <td>Project</td>\n",
       "      <td>Project Title</td>\n",
       "      <td>Total Project Cost (KES)</td>\n",
       "      <td>Funding Type</td>\n",
       "      <td>Funding Source</td>\n",
       "      <td>Start Date (Planned)</td>\n",
       "      <td>Start Date (Actual)</td>\n",
       "      <td>Duration (Months)</td>\n",
       "      <td>Vision 2030 Flagship Ministry</td>\n",
       "      <td>MTEF Sector</td>\n",
       "      <td>Implementing Agency</td>\n",
       "      <td>Implementation Status</td>\n",
       "    </tr>\n",
       "    <tr>\n",
       "      <th>2</th>\n",
       "      <td>2010/051489</td>\n",
       "      <td>Construction Of Kiambu West District Headquarters</td>\n",
       "      <td>18,300,000</td>\n",
       "      <td>GoK; Unspecified</td>\n",
       "      <td>Government of Kenya</td>\n",
       "      <td>09/01/2009</td>\n",
       "      <td>09/01/2009</td>\n",
       "      <td>33 months</td>\n",
       "      <td>Unspecified</td>\n",
       "      <td>Governance, Justice, Law and Order (GJLOS)</td>\n",
       "      <td>102 - Ministry of Interior and Coordination of...</td>\n",
       "      <td>Ongoing</td>\n",
       "    </tr>\n",
       "    <tr>\n",
       "      <th>3</th>\n",
       "      <td>2010/051491</td>\n",
       "      <td>Construction Of Taveta District Headquarters</td>\n",
       "      <td>45,024,924</td>\n",
       "      <td>GoK; Unspecified</td>\n",
       "      <td>Government of Kenya</td>\n",
       "      <td>06/08/2008</td>\n",
       "      <td>06/02/2008</td>\n",
       "      <td>48 months</td>\n",
       "      <td>Unspecified</td>\n",
       "      <td>Governance, Justice, Law and Order (GJLOS)</td>\n",
       "      <td>102 - Ministry of Interior and Coordination of...</td>\n",
       "      <td>Ongoing</td>\n",
       "    </tr>\n",
       "    <tr>\n",
       "      <th>4</th>\n",
       "      <td>2010/051501</td>\n",
       "      <td>Construction Of Kyuso District Headquarters</td>\n",
       "      <td>50,000,000</td>\n",
       "      <td>GoK; Unspecified</td>\n",
       "      <td>Government of Kenya</td>\n",
       "      <td>03/02/2008</td>\n",
       "      <td>04/02/2008</td>\n",
       "      <td>51 months</td>\n",
       "      <td>Unspecified</td>\n",
       "      <td>Governance, Justice, Law and Order (GJLOS)</td>\n",
       "      <td>102 - Ministry of Interior and Coordination of...</td>\n",
       "      <td>Ongoing</td>\n",
       "    </tr>\n",
       "  </tbody>\n",
       "</table>\n",
       "</div>"
      ],
      "text/plain": [
       "   Unspecified                                         Unnamed: 1  \\\n",
       "0  Unspecified                                                NaN   \n",
       "1      Project                                      Project Title   \n",
       "2  2010/051489  Construction Of Kiambu West District Headquarters   \n",
       "3  2010/051491       Construction Of Taveta District Headquarters   \n",
       "4  2010/051501        Construction Of Kyuso District Headquarters   \n",
       "\n",
       "                 Unnamed: 2        Unnamed: 3           Unnamed: 4  \\\n",
       "0                       NaN               NaN                  NaN   \n",
       "1  Total Project Cost (KES)      Funding Type       Funding Source   \n",
       "2                18,300,000  GoK; Unspecified  Government of Kenya   \n",
       "3                45,024,924  GoK; Unspecified  Government of Kenya   \n",
       "4                50,000,000  GoK; Unspecified  Government of Kenya   \n",
       "\n",
       "             Unnamed: 5           Unnamed: 6         Unnamed: 7  \\\n",
       "0                   NaN                  NaN                NaN   \n",
       "1  Start Date (Planned)  Start Date (Actual)  Duration (Months)   \n",
       "2            09/01/2009           09/01/2009          33 months   \n",
       "3            06/08/2008           06/02/2008          48 months   \n",
       "4            03/02/2008           04/02/2008          51 months   \n",
       "\n",
       "                      Unnamed: 8                                  Unnamed: 9  \\\n",
       "0                            NaN                                         NaN   \n",
       "1  Vision 2030 Flagship Ministry                                 MTEF Sector   \n",
       "2                    Unspecified  Governance, Justice, Law and Order (GJLOS)   \n",
       "3                    Unspecified  Governance, Justice, Law and Order (GJLOS)   \n",
       "4                    Unspecified  Governance, Justice, Law and Order (GJLOS)   \n",
       "\n",
       "                                         Unnamed: 10            Unnamed: 11  \n",
       "0                                                NaN                    NaN  \n",
       "1                                Implementing Agency  Implementation Status  \n",
       "2  102 - Ministry of Interior and Coordination of...                Ongoing  \n",
       "3  102 - Ministry of Interior and Coordination of...                Ongoing  \n",
       "4  102 - Ministry of Interior and Coordination of...                Ongoing  "
      ]
     },
     "execution_count": 4,
     "metadata": {},
     "output_type": "execute_result"
    }
   ],
   "source": [
    "# Data loading\n",
    "# Load the dataset with a specified encoding\n",
    "df = pd.read_csv(\"G:\\My Drive\\MSc. DSA\\Module V\\DSA 8502 Predictive & Optimisation Analytics\\End of Module Project\\donor-funded-projects-in-kenya-per-county-in-line-with-mdgs.csv\", encoding='ISO-8859-1')\n",
    "\n",
    "# Display the first few rows\n",
    "df.head()\n"
   ]
  },
  {
   "cell_type": "code",
   "execution_count": 10,
   "id": "6e3fdc27",
   "metadata": {},
   "outputs": [
    {
     "name": "stdout",
     "output_type": "stream",
     "text": [
      "rows 6351\n",
      "cols 13\n"
     ]
    },
    {
     "data": {
      "text/plain": [
       "Index(['Project', 'Project Title', 'Total Project Cost (KES)', 'Funding Type',\n",
       "       'Funding Source', 'Start Date (Planned)', 'Start Date (Actual)',\n",
       "       'Duration (Months)', 'Vision 2030 Flagship Ministry', 'MTEF Sector',\n",
       "       'Implementing Agency', 'Implementation Status', 'Success'],\n",
       "      dtype='object')"
      ]
     },
     "execution_count": 10,
     "metadata": {},
     "output_type": "execute_result"
    }
   ],
   "source": [
    "# Get the shape of the dataframe\n",
    "rows, cols = df.shape\n",
    "print(f'rows {rows}\\ncols {cols}')\n",
    "\n",
    "df.columns"
   ]
  },
  {
   "cell_type": "code",
   "execution_count": 12,
   "id": "306b85ad",
   "metadata": {},
   "outputs": [
    {
     "data": {
      "application/vnd.microsoft.datawrangler.viewer.v0+json": {
       "columns": [
        {
         "name": "index",
         "rawType": "int64",
         "type": "integer"
        },
        {
         "name": "Total Project Cost (KES)",
         "rawType": "float64",
         "type": "float"
        },
        {
         "name": "Duration (Months)",
         "rawType": "float64",
         "type": "float"
        },
        {
         "name": "Success",
         "rawType": "int64",
         "type": "integer"
        },
        {
         "name": "Funding Type_GoK; Unspecified",
         "rawType": "bool",
         "type": "boolean"
        },
        {
         "name": "Funding Type_Grant",
         "rawType": "bool",
         "type": "boolean"
        },
        {
         "name": "Funding Type_Grant; GoK",
         "rawType": "bool",
         "type": "boolean"
        },
        {
         "name": "Funding Type_Grant; GoK; Unspecified",
         "rawType": "bool",
         "type": "boolean"
        },
        {
         "name": "Funding Type_Grant; Unspecified",
         "rawType": "bool",
         "type": "boolean"
        },
        {
         "name": "Funding Type_Loan",
         "rawType": "bool",
         "type": "boolean"
        },
        {
         "name": "Funding Type_Loan ; GoK",
         "rawType": "bool",
         "type": "boolean"
        },
        {
         "name": "Funding Type_Loan ; GoK; Unspecified",
         "rawType": "bool",
         "type": "boolean"
        },
        {
         "name": "Funding Type_Loan ; Grant",
         "rawType": "bool",
         "type": "boolean"
        },
        {
         "name": "Funding Type_Loan ; Grant; GoK",
         "rawType": "bool",
         "type": "boolean"
        },
        {
         "name": "Funding Type_Loan ; Grant; GoK; Unspecified",
         "rawType": "bool",
         "type": "boolean"
        },
        {
         "name": "Funding Type_Loan ; Grant; Unspecified",
         "rawType": "bool",
         "type": "boolean"
        },
        {
         "name": "Funding Type_Loan ; Unspecified",
         "rawType": "bool",
         "type": "boolean"
        },
        {
         "name": "Funding Type_Unspecified",
         "rawType": "bool",
         "type": "boolean"
        },
        {
         "name": "Funding Source_001 - Government of Denmark; 002 - Government of Norway; 004 - Government of Sweden",
         "rawType": "bool",
         "type": "boolean"
        },
        {
         "name": "Funding Source_001 - Government of Denmark; 003 - Government of Netherlands; 040 - United Kingdom DFID (UK); 517 - United Nations Development Programme (UNDP)",
         "rawType": "bool",
         "type": "boolean"
        },
        {
         "name": "Funding Source_001 - Government of Denmark; 004 - Government of Sweden; Government of Kenya",
         "rawType": "bool",
         "type": "boolean"
        },
        {
         "name": "Funding Source_001 - Government of Denmark; 011 - Government of Italy; 031 - Government of United States of America (USAID)",
         "rawType": "bool",
         "type": "boolean"
        },
        {
         "name": "Funding Source_001 - Government of Denmark; Government of Kenya",
         "rawType": "bool",
         "type": "boolean"
        },
        {
         "name": "Funding Source_002 - Government of Norway",
         "rawType": "bool",
         "type": "boolean"
        },
        {
         "name": "Funding Source_002 - Government of Norway; 003 - Government of Netherlands",
         "rawType": "bool",
         "type": "boolean"
        },
        {
         "name": "Funding Source_002 - Government of Norway; 034 - FORD Foundation",
         "rawType": "bool",
         "type": "boolean"
        },
        {
         "name": "Funding Source_003 - Government of Netherlands",
         "rawType": "bool",
         "type": "boolean"
        },
        {
         "name": "Funding Source_003 - Government of Netherlands; 040 - United Kingdom DFID (UK); 501 - International Development Association (IDA); 505 - European Development Fund; 517 - United Nations Development Programme (UNDP); Government of Kenya",
         "rawType": "bool",
         "type": "boolean"
        },
        {
         "name": "Funding Source_003 - Government of Netherlands; Government of Kenya",
         "rawType": "bool",
         "type": "boolean"
        },
        {
         "name": "Funding Source_004 - Government of Sweden",
         "rawType": "bool",
         "type": "boolean"
        },
        {
         "name": "Funding Source_004 - Government of Sweden; 522 - United Nations International Children Education Fund (UNICEF)",
         "rawType": "bool",
         "type": "boolean"
        },
        {
         "name": "Funding Source_004 - Government of Sweden; Government of Kenya",
         "rawType": "bool",
         "type": "boolean"
        },
        {
         "name": "Funding Source_005 - Government of Switzerland",
         "rawType": "bool",
         "type": "boolean"
        },
        {
         "name": "Funding Source_006 - Government of Finland",
         "rawType": "bool",
         "type": "boolean"
        },
        {
         "name": "Funding Source_006 - Government of Finland; Government of Kenya",
         "rawType": "bool",
         "type": "boolean"
        },
        {
         "name": "Funding Source_007 - Government of Belgium",
         "rawType": "bool",
         "type": "boolean"
        },
        {
         "name": "Funding Source_007 - Government of Belgium; Government of Kenya",
         "rawType": "bool",
         "type": "boolean"
        },
        {
         "name": "Funding Source_007 - Government of Belgium; Government of Kenya; 042 - KBC Bank - Belgium",
         "rawType": "bool",
         "type": "boolean"
        },
        {
         "name": "Funding Source_008 - Government of Egypt",
         "rawType": "bool",
         "type": "boolean"
        },
        {
         "name": "Funding Source_011 - Government of Italy",
         "rawType": "bool",
         "type": "boolean"
        },
        {
         "name": "Funding Source_011 - Government of Italy; Government of Kenya",
         "rawType": "bool",
         "type": "boolean"
        },
        {
         "name": "Funding Source_012 - Government of Spain",
         "rawType": "bool",
         "type": "boolean"
        },
        {
         "name": "Funding Source_012 - Government of Spain; Government of Kenya",
         "rawType": "bool",
         "type": "boolean"
        },
        {
         "name": "Funding Source_013 - Government of Austria",
         "rawType": "bool",
         "type": "boolean"
        },
        {
         "name": "Funding Source_014 - Government of Germany (KFW-GERMANY)",
         "rawType": "bool",
         "type": "boolean"
        },
        {
         "name": "Funding Source_014 - Government of Germany (KFW-GERMANY); 016 - Government of France; Government of Kenya",
         "rawType": "bool",
         "type": "boolean"
        },
        {
         "name": "Funding Source_014 - Government of Germany (KFW-GERMANY); 031 - Government of United States of America (USAID); 501 - International Development Association (IDA); 510 - African Development Bank/ Fund; 529 - The Commonwealth; 525 - Food and Agricultural Organization; Government of Kenya",
         "rawType": "bool",
         "type": "boolean"
        },
        {
         "name": "Funding Source_014 - Government of Germany (KFW-GERMANY); Government of Kenya",
         "rawType": "bool",
         "type": "boolean"
        },
        {
         "name": "Funding Source_015 - Government of Germany (GIZ-GERMANY)",
         "rawType": "bool",
         "type": "boolean"
        },
        {
         "name": "Funding Source_015 - Government of Germany (GIZ-GERMANY); 520 - United Nations Industrial Development Organization (UNIDO); 521 - United Nations Environmental Programme (UNEP)",
         "rawType": "bool",
         "type": "boolean"
        },
        {
         "name": "Funding Source_015 - Government of Germany (GIZ-GERMANY); Government of Kenya",
         "rawType": "bool",
         "type": "boolean"
        },
        {
         "name": "Funding Source_016 - Government of France",
         "rawType": "bool",
         "type": "boolean"
        },
        {
         "name": "Funding Source_016 - Government of France; 501 - International Development Association (IDA); 510 - African Development Bank/ Fund; Government of Kenya",
         "rawType": "bool",
         "type": "boolean"
        },
        {
         "name": "Funding Source_016 - Government of France; 506 - European Investment Bank",
         "rawType": "bool",
         "type": "boolean"
        },
        {
         "name": "Funding Source_016 - Government of France; 506 - European Investment Bank; 510 - African Development Bank/ Fund; Government of Kenya",
         "rawType": "bool",
         "type": "boolean"
        },
        {
         "name": "Funding Source_016 - Government of France; Government of Kenya",
         "rawType": "bool",
         "type": "boolean"
        },
        {
         "name": "Funding Source_018 - Kuwait Fund for Arab Development",
         "rawType": "bool",
         "type": "boolean"
        },
        {
         "name": "Funding Source_018 - Kuwait Fund for Arab Development; 019 - Saudi Fund for Development; 512 - Arab Bank for Economic Development in Africa (BADEA); 513 - Organization of Petroleum Exporting Countries (OPEC); 020 - Abhu Dhabi Fund",
         "rawType": "bool",
         "type": "boolean"
        },
        {
         "name": "Funding Source_018 - Kuwait Fund for Arab Development; 512 - Arab Bank for Economic Development in Africa (BADEA); 513 - Organization of Petroleum Exporting Countries (OPEC)",
         "rawType": "bool",
         "type": "boolean"
        },
        {
         "name": "Funding Source_018 - Kuwait Fund for Arab Development; Government of Kenya",
         "rawType": "bool",
         "type": "boolean"
        },
        {
         "name": "Funding Source_019 - Saudi Fund for Development; 512 - Arab Bank for Economic Development in Africa (BADEA); 513 - Organization of Petroleum Exporting Countries (OPEC)",
         "rawType": "bool",
         "type": "boolean"
        },
        {
         "name": "Funding Source_019 - Saudi Fund for Development; 512 - Arab Bank for Economic Development in Africa (BADEA); 513 - Organization of Petroleum Exporting Countries (OPEC); 020 - Abhu Dhabi Fund; Government of Kenya",
         "rawType": "bool",
         "type": "boolean"
        },
        {
         "name": "Funding Source_019 - Saudi Fund for Development; 512 - Arab Bank for Economic Development in Africa (BADEA); 513 - Organization of Petroleum Exporting Countries (OPEC); Government of Kenya",
         "rawType": "bool",
         "type": "boolean"
        },
        {
         "name": "Funding Source_021 - Government of Japan",
         "rawType": "bool",
         "type": "boolean"
        },
        {
         "name": "Funding Source_021 - Government of Japan; Government of Kenya",
         "rawType": "bool",
         "type": "boolean"
        },
        {
         "name": "Funding Source_023 - Government of India",
         "rawType": "bool",
         "type": "boolean"
        },
        {
         "name": "Funding Source_023 - Government of India; Government of Kenya",
         "rawType": "bool",
         "type": "boolean"
        },
        {
         "name": "Funding Source_024 - Government of South Korea",
         "rawType": "bool",
         "type": "boolean"
        },
        {
         "name": "Funding Source_025 - Government of China",
         "rawType": "bool",
         "type": "boolean"
        },
        {
         "name": "Funding Source_025 - Government of China; Government of Kenya",
         "rawType": "bool",
         "type": "boolean"
        },
        {
         "name": "Funding Source_030 - Government of Canada",
         "rawType": "bool",
         "type": "boolean"
        },
        {
         "name": "Funding Source_031 - Government of United States of America (USAID)",
         "rawType": "bool",
         "type": "boolean"
        },
        {
         "name": "Funding Source_031 - Government of United States of America (USAID); 519 - United Nations Fund for Population Activities (UNFPA)",
         "rawType": "bool",
         "type": "boolean"
        },
        {
         "name": "Funding Source_031 - Government of United States of America (USAID); Government of Kenya",
         "rawType": "bool",
         "type": "boolean"
        },
        {
         "name": "Funding Source_032 - US Embassy",
         "rawType": "bool",
         "type": "boolean"
        },
        {
         "name": "Funding Source_033 - Rockefeller Foundation",
         "rawType": "bool",
         "type": "boolean"
        },
        {
         "name": "Funding Source_034 - FORD Foundation",
         "rawType": "bool",
         "type": "boolean"
        },
        {
         "name": "Funding Source_035 - Baylor College of Medicine (USA)",
         "rawType": "bool",
         "type": "boolean"
        },
        {
         "name": "Funding Source_038 - Government of Israel",
         "rawType": "bool",
         "type": "boolean"
        },
        {
         "name": "Funding Source_040 - United Kingdom DFID (UK)",
         "rawType": "bool",
         "type": "boolean"
        },
        {
         "name": "Funding Source_040 - United Kingdom DFID (UK); 517 - United Nations Development Programme (UNDP)",
         "rawType": "bool",
         "type": "boolean"
        },
        {
         "name": "Funding Source_040 - United Kingdom DFID (UK); Government of Kenya",
         "rawType": "bool",
         "type": "boolean"
        },
        {
         "name": "Funding Source_043 - Government of Poland",
         "rawType": "bool",
         "type": "boolean"
        },
        {
         "name": "Funding Source_106 - MOES&T - Kabianga University College",
         "rawType": "bool",
         "type": "boolean"
        },
        {
         "name": "Funding Source_106 - MOES&T - Kisii University; Government of Kenya",
         "rawType": "bool",
         "type": "boolean"
        },
        {
         "name": "Funding Source_106 - MOES&T - Masinde Muliro University; Government of Kenya",
         "rawType": "bool",
         "type": "boolean"
        },
        {
         "name": "Funding Source_106 - MOES&T - University of Nairobi",
         "rawType": "bool",
         "type": "boolean"
        },
        {
         "name": "Funding Source_106 - MOES&T - University of Nairobi; Government of Kenya",
         "rawType": "bool",
         "type": "boolean"
        },
        {
         "name": "Funding Source_114 - MOMS - Kenya Medical Training College (KMTC)",
         "rawType": "bool",
         "type": "boolean"
        },
        {
         "name": "Funding Source_115 - MOE&P- Kenya Electricity Generating Company Ltd (KENGEN)",
         "rawType": "bool",
         "type": "boolean"
        },
        {
         "name": "Funding Source_115 - MOMS - Kenyatta National Hospital",
         "rawType": "bool",
         "type": "boolean"
        },
        {
         "name": "Funding Source_132 - MRDA - Tana and Athi River Development Authority",
         "rawType": "bool",
         "type": "boolean"
        },
        {
         "name": "Funding Source_132 - MRDA - Tana and Athi River Development Authority; Government of Kenya",
         "rawType": "bool",
         "type": "boolean"
        },
        {
         "name": "Funding Source_132 - MRDA - Tana and Athi River Development Authority; Private Sector; Government of Kenya",
         "rawType": "bool",
         "type": "boolean"
        },
        {
         "name": "Funding Source_166 - MOWI - National Irrigation Board",
         "rawType": "bool",
         "type": "boolean"
        },
        {
         "name": "Funding Source_501 - International Development Association (IDA)",
         "rawType": "bool",
         "type": "boolean"
        },
        {
         "name": "Funding Source_501 - International Development Association (IDA); 502 - Global Environmental Trust Fund",
         "rawType": "bool",
         "type": "boolean"
        },
        {
         "name": "Funding Source_501 - International Development Association (IDA); 505 - European Development Fund",
         "rawType": "bool",
         "type": "boolean"
        },
        {
         "name": "Funding Source_501 - International Development Association (IDA); 522 - United Nations International Children Education Fund (UNICEF); Government of Kenya",
         "rawType": "bool",
         "type": "boolean"
        },
        {
         "name": "Funding Source_501 - International Development Association (IDA); Government of Kenya",
         "rawType": "bool",
         "type": "boolean"
        },
        {
         "name": "Funding Source_502 - Global Environmental Trust Fund",
         "rawType": "bool",
         "type": "boolean"
        },
        {
         "name": "Funding Source_502 - Global Environmental Trust Fund; 517 - United Nations Development Programme (UNDP); Government of Kenya",
         "rawType": "bool",
         "type": "boolean"
        },
        {
         "name": "Funding Source_503 - Global Fund",
         "rawType": "bool",
         "type": "boolean"
        },
        {
         "name": "Funding Source_504 - African Union",
         "rawType": "bool",
         "type": "boolean"
        },
        {
         "name": "Funding Source_505 - European Development Fund",
         "rawType": "bool",
         "type": "boolean"
        },
        {
         "name": "Funding Source_505 - European Development Fund; 506 - European Investment Bank",
         "rawType": "bool",
         "type": "boolean"
        },
        {
         "name": "Funding Source_505 - European Development Fund; 510 - African Development Bank/ Fund",
         "rawType": "bool",
         "type": "boolean"
        },
        {
         "name": "Funding Source_505 - European Development Fund; Government of Kenya",
         "rawType": "bool",
         "type": "boolean"
        },
        {
         "name": "Funding Source_506 - European Investment Bank",
         "rawType": "bool",
         "type": "boolean"
        },
        {
         "name": "Funding Source_506 - European Investment Bank; Government of Kenya",
         "rawType": "bool",
         "type": "boolean"
        },
        {
         "name": "Funding Source_507 - InterGovernmental Authority on Development",
         "rawType": "bool",
         "type": "boolean"
        },
        {
         "name": "Funding Source_510 - African Development Bank/ Fund",
         "rawType": "bool",
         "type": "boolean"
        },
        {
         "name": "Funding Source_510 - African Development Bank/ Fund; 513 - Organization of Petroleum Exporting Countries (OPEC)",
         "rawType": "bool",
         "type": "boolean"
        },
        {
         "name": "Funding Source_510 - African Development Bank/ Fund; Constituency Development Fund (CDF)",
         "rawType": "bool",
         "type": "boolean"
        },
        {
         "name": "Funding Source_510 - African Development Bank/ Fund; Government of Kenya",
         "rawType": "bool",
         "type": "boolean"
        },
        {
         "name": "Funding Source_512 - Arab Bank for Economic Development in Africa (BADEA)",
         "rawType": "bool",
         "type": "boolean"
        },
        {
         "name": "Funding Source_512 - Arab Bank for Economic Development in Africa (BADEA); 513 - Organization of Petroleum Exporting Countries (OPEC)",
         "rawType": "bool",
         "type": "boolean"
        },
        {
         "name": "Funding Source_512 - Arab Bank for Economic Development in Africa (BADEA); 513 - Organization of Petroleum Exporting Countries (OPEC); Government of Kenya",
         "rawType": "bool",
         "type": "boolean"
        },
        {
         "name": "Funding Source_512 - Arab Bank for Economic Development in Africa (BADEA); Government of Kenya",
         "rawType": "bool",
         "type": "boolean"
        },
        {
         "name": "Funding Source_513 - Organization of Petroleum Exporting Countries (OPEC)",
         "rawType": "bool",
         "type": "boolean"
        },
        {
         "name": "Funding Source_517 - United Nations Development Programme (UNDP)",
         "rawType": "bool",
         "type": "boolean"
        },
        {
         "name": "Funding Source_517 - United Nations Development Programme (UNDP); 521 - United Nations Environmental Programme (UNEP); Constituency Development Fund (CDF) ; Government of Kenya",
         "rawType": "bool",
         "type": "boolean"
        },
        {
         "name": "Funding Source_517 - United Nations Development Programme (UNDP); Government of Kenya",
         "rawType": "bool",
         "type": "boolean"
        },
        {
         "name": "Funding Source_519 - United Nations Fund for Population Activities (UNFPA)",
         "rawType": "bool",
         "type": "boolean"
        },
        {
         "name": "Funding Source_519 - United Nations Fund for Population Activities (UNFPA); Government of Kenya",
         "rawType": "bool",
         "type": "boolean"
        },
        {
         "name": "Funding Source_520 - United Nations Industrial Development Organization (UNIDO)",
         "rawType": "bool",
         "type": "boolean"
        },
        {
         "name": "Funding Source_521 - United Nations Environmental Programme (UNEP)",
         "rawType": "bool",
         "type": "boolean"
        },
        {
         "name": "Funding Source_522 - United Nations International Children Education Fund (UNICEF)",
         "rawType": "bool",
         "type": "boolean"
        },
        {
         "name": "Funding Source_522 - United Nations International Children Education Fund (UNICEF); Government of Kenya",
         "rawType": "bool",
         "type": "boolean"
        },
        {
         "name": "Funding Source_523 - World Food Programme",
         "rawType": "bool",
         "type": "boolean"
        },
        {
         "name": "Funding Source_523 - World Food Programme; Government of Kenya",
         "rawType": "bool",
         "type": "boolean"
        },
        {
         "name": "Funding Source_524 - Global Alliance Vaccine Initiative",
         "rawType": "bool",
         "type": "boolean"
        },
        {
         "name": "Funding Source_525 - Food and Agricultural Organization",
         "rawType": "bool",
         "type": "boolean"
        },
        {
         "name": "Funding Source_526 - International Fund for Agricultural Development (IFAD)",
         "rawType": "bool",
         "type": "boolean"
        },
        {
         "name": "Funding Source_526 - International Fund for Agricultural Development (IFAD); Government of Kenya",
         "rawType": "bool",
         "type": "boolean"
        },
        {
         "name": "Funding Source_527 - Nordic Development Fund (NDF)",
         "rawType": "bool",
         "type": "boolean"
        },
        {
         "name": "Funding Source_527 - Nordic Development Fund (NDF); 016 - Government of France; 501 - International Development Association (IDA); 506 - European Investment Bank",
         "rawType": "bool",
         "type": "boolean"
        },
        {
         "name": "Funding Source_527 - Nordic Development Fund (NDF); 016 - Government of France; 501 - International Development Association (IDA); 506 - European Investment Bank; 510 - African Development Bank/ Fund; Government of Kenya",
         "rawType": "bool",
         "type": "boolean"
        },
        {
         "name": "Funding Source_528 - Investment Climate Facility (ICF)",
         "rawType": "bool",
         "type": "boolean"
        },
        {
         "name": "Funding Source_530 - United Nations Women (UN Women)",
         "rawType": "bool",
         "type": "boolean"
        },
        {
         "name": "Funding Source_531 - Alliance For A Green Revolution In Africa (AGRA)",
         "rawType": "bool",
         "type": "boolean"
        },
        {
         "name": "Funding Source_Bill and Melinda Gates",
         "rawType": "bool",
         "type": "boolean"
        },
        {
         "name": "Funding Source_Constituency Development Fund (CDF)",
         "rawType": "bool",
         "type": "boolean"
        },
        {
         "name": "Funding Source_Constituency Development Fund (CDF) ; Government of Kenya",
         "rawType": "bool",
         "type": "boolean"
        },
        {
         "name": "Funding Source_Government of Kenya",
         "rawType": "bool",
         "type": "boolean"
        },
        {
         "name": "Funding Source_International Atomic Energy Agency (IAEA)",
         "rawType": "bool",
         "type": "boolean"
        },
        {
         "name": "Funding Source_Kenya Red Cross Society",
         "rawType": "bool",
         "type": "boolean"
        },
        {
         "name": "Funding Source_Private Sector",
         "rawType": "bool",
         "type": "boolean"
        },
        {
         "name": "Funding Source_Private Sector; Government of Kenya",
         "rawType": "bool",
         "type": "boolean"
        },
        {
         "name": "Funding Source_Road Maintenance Levy Fund",
         "rawType": "bool",
         "type": "boolean"
        },
        {
         "name": "Funding Source_Unspecified",
         "rawType": "bool",
         "type": "boolean"
        },
        {
         "name": "Funding Source_Youth Enterprise Fund (YEF)",
         "rawType": "bool",
         "type": "boolean"
        },
        {
         "name": "Vision 2030 Flagship Ministry_Ministry of Agriculture, Livestock and Fisheries",
         "rawType": "bool",
         "type": "boolean"
        },
        {
         "name": "Vision 2030 Flagship Ministry_Ministry of Commerce Tourism and East African Affairs",
         "rawType": "bool",
         "type": "boolean"
        },
        {
         "name": "Vision 2030 Flagship Ministry_Ministry of Devolution and Planning",
         "rawType": "bool",
         "type": "boolean"
        },
        {
         "name": "Vision 2030 Flagship Ministry_Ministry of Education",
         "rawType": "bool",
         "type": "boolean"
        },
        {
         "name": "Vision 2030 Flagship Ministry_Ministry of Environment Water and Natural Resources",
         "rawType": "bool",
         "type": "boolean"
        },
        {
         "name": "Vision 2030 Flagship Ministry_Ministry of Health",
         "rawType": "bool",
         "type": "boolean"
        },
        {
         "name": "Vision 2030 Flagship Ministry_Ministry of Industrialization and Enterprise Development",
         "rawType": "bool",
         "type": "boolean"
        },
        {
         "name": "Vision 2030 Flagship Ministry_Ministry of Information and Communications and Technology",
         "rawType": "bool",
         "type": "boolean"
        },
        {
         "name": "Vision 2030 Flagship Ministry_Ministry of Interior and Coordination of National Government",
         "rawType": "bool",
         "type": "boolean"
        },
        {
         "name": "Vision 2030 Flagship Ministry_Ministry of Labour Social Security and Services",
         "rawType": "bool",
         "type": "boolean"
        },
        {
         "name": "Vision 2030 Flagship Ministry_Ministry of Land Housing and Urban Development",
         "rawType": "bool",
         "type": "boolean"
        },
        {
         "name": "Vision 2030 Flagship Ministry_Ministry of Sports Culture and Arts",
         "rawType": "bool",
         "type": "boolean"
        },
        {
         "name": "Vision 2030 Flagship Ministry_Ministry of Transport and Infrastructure",
         "rawType": "bool",
         "type": "boolean"
        },
        {
         "name": "Vision 2030 Flagship Ministry_Office of The Attorney General and Department of Justice",
         "rawType": "bool",
         "type": "boolean"
        },
        {
         "name": "Vision 2030 Flagship Ministry_Unspecified",
         "rawType": "bool",
         "type": "boolean"
        },
        {
         "name": "MTEF Sector_Agriculture, Rural and Urban Development (ARUD); Education",
         "rawType": "bool",
         "type": "boolean"
        },
        {
         "name": "MTEF Sector_Agriculture, Rural and Urban Development (ARUD); Environmental Protection, Water and Natural Resources",
         "rawType": "bool",
         "type": "boolean"
        },
        {
         "name": "MTEF Sector_Agriculture, Rural and Urban Development (ARUD); Public Administration and International Relations (PAIR)",
         "rawType": "bool",
         "type": "boolean"
        },
        {
         "name": "MTEF Sector_Agriculture, Rural and Urban Development (ARUD); Unallocated",
         "rawType": "bool",
         "type": "boolean"
        },
        {
         "name": "MTEF Sector_Education",
         "rawType": "bool",
         "type": "boolean"
        },
        {
         "name": "MTEF Sector_Energy, Infrastructure and ICT",
         "rawType": "bool",
         "type": "boolean"
        },
        {
         "name": "MTEF Sector_Energy, Infrastructure and ICT; Health",
         "rawType": "bool",
         "type": "boolean"
        },
        {
         "name": "MTEF Sector_Energy, Infrastructure and ICT; Unallocated",
         "rawType": "bool",
         "type": "boolean"
        },
        {
         "name": "MTEF Sector_Environmental Protection, Water and Natural Resources",
         "rawType": "bool",
         "type": "boolean"
        },
        {
         "name": "MTEF Sector_Environmental Protection, Water and Natural Resources ; Unallocated",
         "rawType": "bool",
         "type": "boolean"
        },
        {
         "name": "MTEF Sector_General Economic and Commercial Affairs",
         "rawType": "bool",
         "type": "boolean"
        },
        {
         "name": "MTEF Sector_Governance, Justice, Law and Order (GJLOS)",
         "rawType": "bool",
         "type": "boolean"
        },
        {
         "name": "MTEF Sector_Governance, Justice, Law and Order (GJLOS); Unallocated",
         "rawType": "bool",
         "type": "boolean"
        },
        {
         "name": "MTEF Sector_Health",
         "rawType": "bool",
         "type": "boolean"
        },
        {
         "name": "MTEF Sector_Health; Unallocated",
         "rawType": "bool",
         "type": "boolean"
        },
        {
         "name": "MTEF Sector_National Security",
         "rawType": "bool",
         "type": "boolean"
        },
        {
         "name": "MTEF Sector_Public Administration and International Relations (PAIR)",
         "rawType": "bool",
         "type": "boolean"
        },
        {
         "name": "MTEF Sector_Public Administration and International Relations (PAIR); Governance, Justice, Law and Order (GJLOS)",
         "rawType": "bool",
         "type": "boolean"
        },
        {
         "name": "MTEF Sector_Public Administration and International Relations (PAIR); Unallocated",
         "rawType": "bool",
         "type": "boolean"
        },
        {
         "name": "MTEF Sector_Social Protection, Culture and Recreation",
         "rawType": "bool",
         "type": "boolean"
        },
        {
         "name": "MTEF Sector_Unallocated; Education",
         "rawType": "bool",
         "type": "boolean"
        },
        {
         "name": "MTEF Sector_Unspecified",
         "rawType": "bool",
         "type": "boolean"
        },
        {
         "name": "Implementing Agency_1011 - The Presidency; 103 - Ministry of Devolution and Planning",
         "rawType": "bool",
         "type": "boolean"
        },
        {
         "name": "Implementing Agency_1011 - The Presidency; 103 - Ministry of Devolution and Planning; 110 - Ministry of Environment Water and Natural Resources; 110 - MOEW&NR - National Environment Management Authority (NEMA); 1031 - State Department for Planning; 1032 - State Department for Devolution; 1101 - State Department for Environment and Natural Resources",
         "rawType": "bool",
         "type": "boolean"
        },
        {
         "name": "Implementing Agency_1011 - The Presidency; 1071 - The National Treasury; 1121 - Ministry of Information and Communications and Technology",
         "rawType": "bool",
         "type": "boolean"
        },
        {
         "name": "Implementing Agency_1011 - The Presidency; 1071 - The National Treasury; 118 - Ministry of Commerce Tourism and East African Affairs; 1171 - Ministry of Industrialization and Enterprise Development",
         "rawType": "bool",
         "type": "boolean"
        },
        {
         "name": "Implementing Agency_1011 - The Presidency; 1071 - The National Treasury; 1251 - Office of The Attorney General and Department of Justice; 1121 - Ministry of Information and Communications and Technology; 104 - MOIC - Postal Corporation of Kenya",
         "rawType": "bool",
         "type": "boolean"
        },
        {
         "name": "Implementing Agency_1011 - The Presidency; 1121 - Ministry of Information and Communications and Technology",
         "rawType": "bool",
         "type": "boolean"
        },
        {
         "name": "Implementing Agency_102 - MOIC - Kenya College of Communications Technology",
         "rawType": "bool",
         "type": "boolean"
        },
        {
         "name": "Implementing Agency_102 - Ministry of Interior and Coordination of National Government",
         "rawType": "bool",
         "type": "boolean"
        },
        {
         "name": "Implementing Agency_102 - Ministry of Interior and Coordination of National Government; 1011 - The Presidency",
         "rawType": "bool",
         "type": "boolean"
        },
        {
         "name": "Implementing Agency_102 - Ministry of Interior and Coordination of National Government; 1021 - State Department for Interior",
         "rawType": "bool",
         "type": "boolean"
        },
        {
         "name": "Implementing Agency_102 - Ministry of Interior and Coordination of National Government; 103 - Ministry of Devolution and Planning; 1032 - State Department for Devolution",
         "rawType": "bool",
         "type": "boolean"
        },
        {
         "name": "Implementing Agency_102 - Ministry of Interior and Coordination of National Government; 1111 - Ministry of Land Housing and Urban Development",
         "rawType": "bool",
         "type": "boolean"
        },
        {
         "name": "Implementing Agency_102 - Ministry of Interior and Coordination of National Government; 118 - Ministry of Commerce Tourism and East African Affairs",
         "rawType": "bool",
         "type": "boolean"
        },
        {
         "name": "Implementing Agency_1021 - State Department for Interior",
         "rawType": "bool",
         "type": "boolean"
        },
        {
         "name": "Implementing Agency_103 - Ministry of Devolution and Planning",
         "rawType": "bool",
         "type": "boolean"
        },
        {
         "name": "Implementing Agency_103 - Ministry of Devolution and Planning; 1031 - State Department for Planning",
         "rawType": "bool",
         "type": "boolean"
        },
        {
         "name": "Implementing Agency_103 - Ministry of Devolution and Planning; 1032 - State Department for Devolution",
         "rawType": "bool",
         "type": "boolean"
        },
        {
         "name": "Implementing Agency_103 - Ministry of Devolution and Planning; 106 - Ministry of Education; 1061 - State Department for Education",
         "rawType": "bool",
         "type": "boolean"
        },
        {
         "name": "Implementing Agency_103 - Ministry of Devolution and Planning; 106 - Ministry of Education; 1131 - Ministry of Sports Culture and Arts; 1061 - State Department for Education",
         "rawType": "bool",
         "type": "boolean"
        },
        {
         "name": "Implementing Agency_103 - Ministry of Devolution and Planning; 1071 - The National Treasury; 1031 - State Department for Planning",
         "rawType": "bool",
         "type": "boolean"
        },
        {
         "name": "Implementing Agency_103 - Ministry of Devolution and Planning; 1071 - The National Treasury; 1081 - Ministry of Health",
         "rawType": "bool",
         "type": "boolean"
        },
        {
         "name": "Implementing Agency_103 - Ministry of Devolution and Planning; 1071 - The National Treasury; 110 - Ministry of Environment Water and Natural Resources",
         "rawType": "bool",
         "type": "boolean"
        },
        {
         "name": "Implementing Agency_103 - Ministry of Devolution and Planning; 1081 - Ministry of Health",
         "rawType": "bool",
         "type": "boolean"
        },
        {
         "name": "Implementing Agency_103 - Ministry of Devolution and Planning; 1081 - Ministry of Health; 1032 - State Department for Devolution",
         "rawType": "bool",
         "type": "boolean"
        },
        {
         "name": "Implementing Agency_103 - Ministry of Devolution and Planning; 1081 - Ministry of Health; 111 - NACC - National Aids Control Council",
         "rawType": "bool",
         "type": "boolean"
        },
        {
         "name": "Implementing Agency_103 - Ministry of Devolution and Planning; 109 - Ministry of Transport and Infrastructure; 153 - MOT - Kenya Airports Authority; 154 - MOT - Kenya Civil Aviation Authority",
         "rawType": "bool",
         "type": "boolean"
        },
        {
         "name": "Implementing Agency_103 - Ministry of Devolution and Planning; 110 - Ministry of Environment Water and Natural Resources",
         "rawType": "bool",
         "type": "boolean"
        },
        {
         "name": "Implementing Agency_103 - Ministry of Devolution and Planning; 1111 - Ministry of Land Housing and Urban Development",
         "rawType": "bool",
         "type": "boolean"
        },
        {
         "name": "Implementing Agency_103 - Ministry of Devolution and Planning; 1131 - Ministry of Sports Culture and Arts; 1031 - State Department for Planning",
         "rawType": "bool",
         "type": "boolean"
        },
        {
         "name": "Implementing Agency_103 - Ministry of Devolution and Planning; 1141 - Ministry of Labour Social Security and Services",
         "rawType": "bool",
         "type": "boolean"
        },
        {
         "name": "Implementing Agency_103 - Ministry of Devolution and Planning; 1141 - Ministry of Labour Social Security and Services; 1031 - State Department for Planning",
         "rawType": "bool",
         "type": "boolean"
        },
        {
         "name": "Implementing Agency_103 - Ministry of Devolution and Planning; 1141 - Ministry of Labour Social Security and Services; 1251 - Office of The Attorney General and Department of Justice; 1031 - State Department for Planning",
         "rawType": "bool",
         "type": "boolean"
        },
        {
         "name": "Implementing Agency_103 - Ministry of Devolution and Planning; 116 - Ministry of Agriculture, Livestock and Fisheries",
         "rawType": "bool",
         "type": "boolean"
        },
        {
         "name": "Implementing Agency_103 - Ministry of Devolution and Planning; 116 - Ministry of Agriculture, Livestock and Fisheries; 1081 - Ministry of Health",
         "rawType": "bool",
         "type": "boolean"
        },
        {
         "name": "Implementing Agency_103 - Ministry of Devolution and Planning; 116 - Ministry of Agriculture, Livestock and Fisheries; 116 - MOAL&F - Coffee Research Foundation (CRF); 116 - MOAL&F - Kenya Agricultural Research Institute (KARI); 1032 - State Department for Devolution; 1161 - State Department for Agriculture",
         "rawType": "bool",
         "type": "boolean"
        },
        {
         "name": "Implementing Agency_103 - Ministry of Devolution and Planning; 123 - MOPND - Kenya Institute for Public Policy Research and Analysis  KIPPRA; 1031 - State Department for Planning; 1032 - State Department for Devolution",
         "rawType": "bool",
         "type": "boolean"
        },
        {
         "name": "Implementing Agency_103 - Ministry of Devolution and Planning; 125 - MOPND - National Cordinating Agency for Population and Dev. (NCAPD); 1031 - State Department for Planning",
         "rawType": "bool",
         "type": "boolean"
        },
        {
         "name": "Implementing Agency_103 - Ministry of Devolution and Planning; 1251 - Office of The Attorney General and Department of Justice; 1111 - Ministry of Land Housing and Urban Development",
         "rawType": "bool",
         "type": "boolean"
        },
        {
         "name": "Implementing Agency_1031 - State Department for Planning",
         "rawType": "bool",
         "type": "boolean"
        },
        {
         "name": "Implementing Agency_1032 - State Department for Devolution",
         "rawType": "bool",
         "type": "boolean"
        },
        {
         "name": "Implementing Agency_1041 - Ministry of Defence",
         "rawType": "bool",
         "type": "boolean"
        },
        {
         "name": "Implementing Agency_1051 - Ministry of Foreign Affairs and International Trade",
         "rawType": "bool",
         "type": "boolean"
        },
        {
         "name": "Implementing Agency_106 - MOES&T - Chuka University",
         "rawType": "bool",
         "type": "boolean"
        },
        {
         "name": "Implementing Agency_106 - MOES&T - Egerton University (EU)",
         "rawType": "bool",
         "type": "boolean"
        },
        {
         "name": "Implementing Agency_106 - MOES&T - Embu University College",
         "rawType": "bool",
         "type": "boolean"
        },
        {
         "name": "Implementing Agency_106 - MOES&T - Jaramogi Oginga Odinga University of\n Science and Technology",
         "rawType": "bool",
         "type": "boolean"
        },
        {
         "name": "Implementing Agency_106 - MOES&T - Jomo Kenyatta University of Agriculture & Technology (JKUAT)",
         "rawType": "bool",
         "type": "boolean"
        },
        {
         "name": "Implementing Agency_106 - MOES&T - Kabianga University College",
         "rawType": "bool",
         "type": "boolean"
        },
        {
         "name": "Implementing Agency_106 - MOES&T - Karatina University College",
         "rawType": "bool",
         "type": "boolean"
        },
        {
         "name": "Implementing Agency_106 - MOES&T - Kenya National Examination Council (KNEC); 1061 - State Department for Education",
         "rawType": "bool",
         "type": "boolean"
        },
        {
         "name": "Implementing Agency_106 - MOES&T - Kenyatta University (KU)",
         "rawType": "bool",
         "type": "boolean"
        },
        {
         "name": "Implementing Agency_106 - MOES&T - Kimathi University of Science and Technology",
         "rawType": "bool",
         "type": "boolean"
        },
        {
         "name": "Implementing Agency_106 - MOES&T - Kirinyaga University College",
         "rawType": "bool",
         "type": "boolean"
        },
        {
         "name": "Implementing Agency_106 - MOES&T - Kisii University",
         "rawType": "bool",
         "type": "boolean"
        },
        {
         "name": "Implementing Agency_106 - MOES&T - Laikipia University College",
         "rawType": "bool",
         "type": "boolean"
        },
        {
         "name": "Implementing Agency_106 - MOES&T - Masinde Muliro University",
         "rawType": "bool",
         "type": "boolean"
        },
        {
         "name": "Implementing Agency_106 - MOES&T - Meru University of Science and Technology",
         "rawType": "bool",
         "type": "boolean"
        },
        {
         "name": "Implementing Agency_106 - MOES&T - Moi University",
         "rawType": "bool",
         "type": "boolean"
        },
        {
         "name": "Implementing Agency_106 - MOES&T - Muranga University College",
         "rawType": "bool",
         "type": "boolean"
        },
        {
         "name": "Implementing Agency_106 - MOES&T - Pwani University",
         "rawType": "bool",
         "type": "boolean"
        },
        {
         "name": "Implementing Agency_106 - MOES&T - South Eastern University College",
         "rawType": "bool",
         "type": "boolean"
        },
        {
         "name": "Implementing Agency_106 - MOES&T - Taita Taveta University College",
         "rawType": "bool",
         "type": "boolean"
        },
        {
         "name": "Implementing Agency_106 - MOES&T - Technical University of Mombasa",
         "rawType": "bool",
         "type": "boolean"
        },
        {
         "name": "Implementing Agency_106 - MOES&T - University of Nairobi",
         "rawType": "bool",
         "type": "boolean"
        },
        {
         "name": "Implementing Agency_106 - Ministry of Education",
         "rawType": "bool",
         "type": "boolean"
        },
        {
         "name": "Implementing Agency_106 - Ministry of Education; 102 - MOIC - Kenya College of Communications Technology",
         "rawType": "bool",
         "type": "boolean"
        },
        {
         "name": "Implementing Agency_106 - Ministry of Education; 106 - MOES&T - Chepkoilel University College",
         "rawType": "bool",
         "type": "boolean"
        },
        {
         "name": "Implementing Agency_106 - Ministry of Education; 106 - MOES&T - Egerton University (EU)",
         "rawType": "bool",
         "type": "boolean"
        },
        {
         "name": "Implementing Agency_106 - Ministry of Education; 106 - MOES&T - Egerton University (EU); 1062 - State Department for Science and Technology",
         "rawType": "bool",
         "type": "boolean"
        },
        {
         "name": "Implementing Agency_106 - Ministry of Education; 106 - MOES&T - Kenyatta University (KU)",
         "rawType": "bool",
         "type": "boolean"
        },
        {
         "name": "Implementing Agency_106 - Ministry of Education; 106 - MOES&T - Pwani University",
         "rawType": "bool",
         "type": "boolean"
        },
        {
         "name": "Implementing Agency_106 - Ministry of Education; 106 - MOES&T - South Eastern University College",
         "rawType": "bool",
         "type": "boolean"
        },
        {
         "name": "Implementing Agency_106 - Ministry of Education; 106 - MOES&T - Technical University of Mombasa",
         "rawType": "bool",
         "type": "boolean"
        },
        {
         "name": "Implementing Agency_106 - Ministry of Education; 106 - MOES&T - University of Nairobi",
         "rawType": "bool",
         "type": "boolean"
        },
        {
         "name": "Implementing Agency_106 - Ministry of Education; 106 - MOES&T - University of Nairobi; 1062 - State Department for Science and Technology",
         "rawType": "bool",
         "type": "boolean"
        },
        {
         "name": "Implementing Agency_106 - Ministry of Education; 1061 - State Department for Education",
         "rawType": "bool",
         "type": "boolean"
        },
        {
         "name": "Implementing Agency_106 - Ministry of Education; 1061 - State Department for Education; 1062 - State Department for Science and Technology",
         "rawType": "bool",
         "type": "boolean"
        },
        {
         "name": "Implementing Agency_106 - Ministry of Education; 1062 - State Department for Science and Technology",
         "rawType": "bool",
         "type": "boolean"
        },
        {
         "name": "Implementing Agency_106 - Ministry of Education; 1111 - Ministry of Land Housing and Urban Development",
         "rawType": "bool",
         "type": "boolean"
        },
        {
         "name": "Implementing Agency_106 - Ministry of Education; 1131 - Ministry of Sports Culture and Arts",
         "rawType": "bool",
         "type": "boolean"
        },
        {
         "name": "Implementing Agency_106 - Ministry of Education; Constituency Development Fund (CDF)",
         "rawType": "bool",
         "type": "boolean"
        },
        {
         "name": "Implementing Agency_106 - Ministry of Education; MOES&T- Kenya Institute of Special Education (KISE)",
         "rawType": "bool",
         "type": "boolean"
        },
        {
         "name": "Implementing Agency_106 - Ministry of Education; MOIC - Department of Information (DI)",
         "rawType": "bool",
         "type": "boolean"
        },
        {
         "name": "Implementing Agency_106 - Ministry of Education; MoHEST - Bushiangala Technical Training institute; MoHEST - Matili Technical Training Institute; MoHEST - Kisiwa Technical Training Institute; MoHEST - Keroka Technical Training Institute; MoHEST - Wote Technical Training Institute; MoHEST - Kiirua Technical Training Institute; 106 - MOES&T - Muranga University College; MoHEST - Rift Valley Institute of Science and Technology",
         "rawType": "bool",
         "type": "boolean"
        },
        {
         "name": "Implementing Agency_106 - Ministry of Education; MoHEST - Coast Institute of Technology",
         "rawType": "bool",
         "type": "boolean"
        },
        {
         "name": "Implementing Agency_106 - Ministry of Education; MoHEST - Gusii Institute of Technology",
         "rawType": "bool",
         "type": "boolean"
        },
        {
         "name": "Implementing Agency_106 - Ministry of Education; MoHEST - Kaimosi College of Technology",
         "rawType": "bool",
         "type": "boolean"
        },
        {
         "name": "Implementing Agency_106 - Ministry of Education; MoHEST - Kenya Technical Teachers College",
         "rawType": "bool",
         "type": "boolean"
        },
        {
         "name": "Implementing Agency_106 - Ministry of Education; MoHEST - Kiirua Technical Training Institute",
         "rawType": "bool",
         "type": "boolean"
        },
        {
         "name": "Implementing Agency_106 - Ministry of Education; MoHEST - Kisiwa Technical Training Institute",
         "rawType": "bool",
         "type": "boolean"
        },
        {
         "name": "Implementing Agency_106 - Ministry of Education; MoHEST - Kitale Technical Training Institute",
         "rawType": "bool",
         "type": "boolean"
        },
        {
         "name": "Implementing Agency_106 - Ministry of Education; MoHEST - Matili Technical Training Institute",
         "rawType": "bool",
         "type": "boolean"
        },
        {
         "name": "Implementing Agency_106 - Ministry of Education; MoHEST - Meru Technical Training Institute",
         "rawType": "bool",
         "type": "boolean"
        },
        {
         "name": "Implementing Agency_106 - Ministry of Education; MoHEST - Nkabune Technical Training Institute",
         "rawType": "bool",
         "type": "boolean"
        },
        {
         "name": "Implementing Agency_106 - Ministry of Education; MoHEST - Ramogi Institute of Advanced Technology",
         "rawType": "bool",
         "type": "boolean"
        },
        {
         "name": "Implementing Agency_106 - Ministry of Education; MoHEST - Rwika Institute of Technology",
         "rawType": "bool",
         "type": "boolean"
        },
        {
         "name": "Implementing Agency_106 - Ministry of Education; MoHEST - Thika Technical Training Institute",
         "rawType": "bool",
         "type": "boolean"
        },
        {
         "name": "Implementing Agency_1061 - State Department for Education",
         "rawType": "bool",
         "type": "boolean"
        },
        {
         "name": "Implementing Agency_1061 - State Department for Education; MOES&T- Kenya Institute of Special Education (KISE)",
         "rawType": "bool",
         "type": "boolean"
        },
        {
         "name": "Implementing Agency_1062 - State Department for Science and Technology",
         "rawType": "bool",
         "type": "boolean"
        },
        {
         "name": "Implementing Agency_1071 - The National Treasury",
         "rawType": "bool",
         "type": "boolean"
        },
        {
         "name": "Implementing Agency_1071 - The National Treasury; 1041 - Ministry of Defence",
         "rawType": "bool",
         "type": "boolean"
        },
        {
         "name": "Implementing Agency_1071 - The National Treasury; 107 - TNT - Kenya Trade Network Agency",
         "rawType": "bool",
         "type": "boolean"
        },
        {
         "name": "Implementing Agency_1071 - The National Treasury; 1081 - Ministry of Health",
         "rawType": "bool",
         "type": "boolean"
        },
        {
         "name": "Implementing Agency_1071 - The National Treasury; 109 - Ministry of Transport and Infrastructure; 52 - ODPMMOF - Kenya Revenue Authority ; 133 - MOR - Kenya National Highway Authority; 157 - MOT - Kenya Ports Authority; 158 - MOT - Kenya Railways Corporation; 1091 - State Department of Infrastructure; 1092 - State Department of Transport",
         "rawType": "bool",
         "type": "boolean"
        },
        {
         "name": "Implementing Agency_1071 - The National Treasury; 110 - Ministry of Environment Water and Natural Resources; 1102 - State Department for Water and Regional Authorities.",
         "rawType": "bool",
         "type": "boolean"
        },
        {
         "name": "Implementing Agency_1071 - The National Treasury; 1141 - Ministry of Labour Social Security and Services",
         "rawType": "bool",
         "type": "boolean"
        },
        {
         "name": "Implementing Agency_1071 - The National Treasury; 116 - Ministry of Agriculture, Livestock and Fisheries; 1171 - Ministry of Industrialization and Enterprise Development; 116 - MOAL&F - Kenya Plant Health Inspectorate Service (KEPHIS); 93 - MOIND - Kenya Bureau of Standards; 1161 - State Department for Agriculture; 1162 - State Department for Livestock",
         "rawType": "bool",
         "type": "boolean"
        },
        {
         "name": "Implementing Agency_1071 - The National Treasury; 1171 - Ministry of Industrialization and Enterprise Development; 1151 - Ministry of Energy & Petroleum",
         "rawType": "bool",
         "type": "boolean"
        },
        {
         "name": "Implementing Agency_1071 - The National Treasury; 1191 - Ministry of Mining",
         "rawType": "bool",
         "type": "boolean"
        },
        {
         "name": "Implementing Agency_1081 - Ministry of Health",
         "rawType": "bool",
         "type": "boolean"
        },
        {
         "name": "Implementing Agency_1081 - Ministry of Health; 106 - Ministry of Education",
         "rawType": "bool",
         "type": "boolean"
        },
        {
         "name": "Implementing Agency_1081 - Ministry of Health; 1111 - Ministry of Land Housing and Urban Development",
         "rawType": "bool",
         "type": "boolean"
        },
        {
         "name": "Implementing Agency_1081 - Ministry of Health; 1121 - Ministry of Information and Communications and Technology; 1131 - Ministry of Sports Culture and Arts",
         "rawType": "bool",
         "type": "boolean"
        },
        {
         "name": "Implementing Agency_1081 - Ministry of Health; 113 - MOMS - Kenya Medical Supplies Agency (KEMSA)",
         "rawType": "bool",
         "type": "boolean"
        },
        {
         "name": "Implementing Agency_1081 - Ministry of Health; 114 - MOMS - Kenya Medical Training College (KMTC)",
         "rawType": "bool",
         "type": "boolean"
        },
        {
         "name": "Implementing Agency_1081 - Ministry of Health; 115 - MOMS - Kenyatta National Hospital",
         "rawType": "bool",
         "type": "boolean"
        },
        {
         "name": "Implementing Agency_1081 - Ministry of Health; 116 - MOMS - Moi Teaching & Referral Hospital; 1062 - State Department for Science and Technology",
         "rawType": "bool",
         "type": "boolean"
        },
        {
         "name": "Implementing Agency_109 - Ministry of Transport and Infrastructure",
         "rawType": "bool",
         "type": "boolean"
        },
        {
         "name": "Implementing Agency_109 - Ministry of Transport and Infrastructure; 106 - MOES&T - Taita Taveta University College",
         "rawType": "bool",
         "type": "boolean"
        },
        {
         "name": "Implementing Agency_109 - Ministry of Transport and Infrastructure; 1091 - State Department of Infrastructure",
         "rawType": "bool",
         "type": "boolean"
        },
        {
         "name": "Implementing Agency_109 - Ministry of Transport and Infrastructure; 1091 - State Department of Infrastructure; 1092 - State Department of Transport",
         "rawType": "bool",
         "type": "boolean"
        },
        {
         "name": "Implementing Agency_109 - Ministry of Transport and Infrastructure; 1092 - State Department of Transport",
         "rawType": "bool",
         "type": "boolean"
        },
        {
         "name": "Implementing Agency_109 - Ministry of Transport and Infrastructure; 1171 - Ministry of Industrialization and Enterprise Development",
         "rawType": "bool",
         "type": "boolean"
        },
        {
         "name": "Implementing Agency_109 - Ministry of Transport and Infrastructure; 118 - Ministry of Commerce Tourism and East African Affairs; Private Sector",
         "rawType": "bool",
         "type": "boolean"
        },
        {
         "name": "Implementing Agency_109 - Ministry of Transport and Infrastructure; 133 - MOR - Kenya National Highway Authority",
         "rawType": "bool",
         "type": "boolean"
        },
        {
         "name": "Implementing Agency_109 - Ministry of Transport and Infrastructure; 133 - MOR - Kenya National Highway Authority; 1091 - State Department of Infrastructure",
         "rawType": "bool",
         "type": "boolean"
        },
        {
         "name": "Implementing Agency_109 - Ministry of Transport and Infrastructure; 133 - MOR - Kenya National Highway Authority; 136 - MOR - Kenya Urban Roads Authority (KURA); 154 - MOT - Kenya Civil Aviation Authority; 1091 - State Department of Infrastructure; 1092 - State Department of Transport",
         "rawType": "bool",
         "type": "boolean"
        },
        {
         "name": "Implementing Agency_109 - Ministry of Transport and Infrastructure; 133 - MOR - Kenya National Highway Authority; 153 - MOT - Kenya Airports Authority; 154 - MOT - Kenya Civil Aviation Authority; 1091 - State Department of Infrastructure; 1092 - State Department of Transport",
         "rawType": "bool",
         "type": "boolean"
        },
        {
         "name": "Implementing Agency_109 - Ministry of Transport and Infrastructure; 135 - MOR - Kenya Rural Roads Authority (KERA)",
         "rawType": "bool",
         "type": "boolean"
        },
        {
         "name": "Implementing Agency_109 - Ministry of Transport and Infrastructure; 135 - MOR - Kenya Rural Roads Authority (KERA); 1091 - State Department of Infrastructure",
         "rawType": "bool",
         "type": "boolean"
        },
        {
         "name": "Implementing Agency_109 - Ministry of Transport and Infrastructure; 136 - MOR - Kenya Urban Roads Authority (KURA)",
         "rawType": "bool",
         "type": "boolean"
        },
        {
         "name": "Implementing Agency_109 - Ministry of Transport and Infrastructure; 136 - MOR - Kenya Urban Roads Authority (KURA); 1091 - State Department of Infrastructure",
         "rawType": "bool",
         "type": "boolean"
        },
        {
         "name": "Implementing Agency_109 - Ministry of Transport and Infrastructure; 153 - MOT - Kenya Airports Authority; 154 - MOT - Kenya Civil Aviation Authority",
         "rawType": "bool",
         "type": "boolean"
        },
        {
         "name": "Implementing Agency_109 - Ministry of Transport and Infrastructure; 158 - MOT - Kenya Railways Corporation; Private Sector",
         "rawType": "bool",
         "type": "boolean"
        },
        {
         "name": "Implementing Agency_1091 - State Department of Infrastructure",
         "rawType": "bool",
         "type": "boolean"
        },
        {
         "name": "Implementing Agency_1092 - State Department of Transport",
         "rawType": "bool",
         "type": "boolean"
        },
        {
         "name": "Implementing Agency_110 - MOEW&NR - National Environment Management Authority (NEMA)",
         "rawType": "bool",
         "type": "boolean"
        },
        {
         "name": "Implementing Agency_110 - Ministry of Environment Water and Natural Resources",
         "rawType": "bool",
         "type": "boolean"
        },
        {
         "name": "Implementing Agency_110 - Ministry of Environment Water and Natural Resources; 106 - MOES&T - South Eastern University College",
         "rawType": "bool",
         "type": "boolean"
        },
        {
         "name": "Implementing Agency_110 - Ministry of Environment Water and Natural Resources; 1062 - State Department for Science and Technology; 1101 - State Department for Environment and Natural Resources; 1102 - State Department for Water and Regional Authorities.",
         "rawType": "bool",
         "type": "boolean"
        },
        {
         "name": "Implementing Agency_110 - Ministry of Environment Water and Natural Resources; 1081 - Ministry of Health",
         "rawType": "bool",
         "type": "boolean"
        },
        {
         "name": "Implementing Agency_110 - Ministry of Environment Water and Natural Resources; 109 - Ministry of Transport and Infrastructure; 1091 - State Department of Infrastructure",
         "rawType": "bool",
         "type": "boolean"
        },
        {
         "name": "Implementing Agency_110 - Ministry of Environment Water and Natural Resources; 110 - MOEW&NR - National Environment Management Authority (NEMA); 1101 - State Department for Environment and Natural Resources",
         "rawType": "bool",
         "type": "boolean"
        },
        {
         "name": "Implementing Agency_110 - Ministry of Environment Water and Natural Resources; 1101 - State Department for Environment and Natural Resources",
         "rawType": "bool",
         "type": "boolean"
        },
        {
         "name": "Implementing Agency_110 - Ministry of Environment Water and Natural Resources; 1101 - State Department for Environment and Natural Resources; 1102 - State Department for Water and Regional Authorities.",
         "rawType": "bool",
         "type": "boolean"
        },
        {
         "name": "Implementing Agency_110 - Ministry of Environment Water and Natural Resources; 1101 - State Department for Environment and Natural Resources; 1161 - State Department for Agriculture",
         "rawType": "bool",
         "type": "boolean"
        },
        {
         "name": "Implementing Agency_110 - Ministry of Environment Water and Natural Resources; 1102 - State Department for Water and Regional Authorities.",
         "rawType": "bool",
         "type": "boolean"
        },
        {
         "name": "Implementing Agency_110 - Ministry of Environment Water and Natural Resources; 116 - MOAL&F - Kenya Forestry Service",
         "rawType": "bool",
         "type": "boolean"
        },
        {
         "name": "Implementing Agency_110 - Ministry of Environment Water and Natural Resources; 116 - MOAL&F - Kenya Forestry Service; 1101 - State Department for Environment and Natural Resources",
         "rawType": "bool",
         "type": "boolean"
        },
        {
         "name": "Implementing Agency_110 - Ministry of Environment Water and Natural Resources; 116 - MOAL&F - Kenya Wildlife Services; 1101 - State Department for Environment and Natural Resources",
         "rawType": "bool",
         "type": "boolean"
        },
        {
         "name": "Implementing Agency_110 - Ministry of Environment Water and Natural Resources; 116 - Ministry of Agriculture, Livestock and Fisheries",
         "rawType": "bool",
         "type": "boolean"
        },
        {
         "name": "Implementing Agency_110 - Ministry of Environment Water and Natural Resources; 116 - Ministry of Agriculture, Livestock and Fisheries; 1101 - State Department for Environment and Natural Resources; 1102 - State Department for Water and Regional Authorities.",
         "rawType": "bool",
         "type": "boolean"
        },
        {
         "name": "Implementing Agency_110 - Ministry of Environment Water and Natural Resources; 116 - Ministry of Agriculture, Livestock and Fisheries; 1101 - State Department for Environment and Natural Resources; 1161 - State Department for Agriculture",
         "rawType": "bool",
         "type": "boolean"
        },
        {
         "name": "Implementing Agency_110 - Ministry of Environment Water and Natural Resources; 116 - Ministry of Agriculture, Livestock and Fisheries; 1161 - State Department for Agriculture",
         "rawType": "bool",
         "type": "boolean"
        },
        {
         "name": "Implementing Agency_110 - Ministry of Environment Water and Natural Resources; 127 - MRDA - Coast Development Authority (CDA)",
         "rawType": "bool",
         "type": "boolean"
        },
        {
         "name": "Implementing Agency_110 - Ministry of Environment Water and Natural Resources; 128 - MRDA - Ewaso Ngiro North Dev. Authority (ENNDA)",
         "rawType": "bool",
         "type": "boolean"
        },
        {
         "name": "Implementing Agency_110 - Ministry of Environment Water and Natural Resources; 131 - MRDA - Lake Basin Dev. Authority",
         "rawType": "bool",
         "type": "boolean"
        },
        {
         "name": "Implementing Agency_110 - Ministry of Environment Water and Natural Resources; 132 - MRDA - Tana and Athi River Development Authority",
         "rawType": "bool",
         "type": "boolean"
        },
        {
         "name": "Implementing Agency_110 - Ministry of Environment Water and Natural Resources; 159 - MOWI - Athi Water Service Board",
         "rawType": "bool",
         "type": "boolean"
        },
        {
         "name": "Implementing Agency_110 - Ministry of Environment Water and Natural Resources; 159 - MOWI - Athi Water Service Board; 1102 - State Department for Water and Regional Authorities.",
         "rawType": "bool",
         "type": "boolean"
        },
        {
         "name": "Implementing Agency_110 - Ministry of Environment Water and Natural Resources; 159 - MOWI - Athi Water Service Board; 161 - MOWI - Coast Water Services Board; 163 - MOWI - Lake Victoria North Water Services; 1102 - State Department for Water and Regional Authorities.",
         "rawType": "bool",
         "type": "boolean"
        },
        {
         "name": "Implementing Agency_110 - Ministry of Environment Water and Natural Resources; 164 - MOWI - Lake Victoria South Water Services Board",
         "rawType": "bool",
         "type": "boolean"
        },
        {
         "name": "Implementing Agency_110 - Ministry of Environment Water and Natural Resources; 166 - MOWI - National Irrigation Board",
         "rawType": "bool",
         "type": "boolean"
        },
        {
         "name": "Implementing Agency_110 - Ministry of Environment Water and Natural Resources; 169 - MOWI - Rift Valley Water Services Board",
         "rawType": "bool",
         "type": "boolean"
        },
        {
         "name": "Implementing Agency_110 - Ministry of Environment Water and Natural Resources; 169 - MOWI - Rift Valley Water Services Board ; 1102 - State Department for Water and Regional Authorities.",
         "rawType": "bool",
         "type": "boolean"
        },
        {
         "name": "Implementing Agency_110 - Ministry of Environment Water and Natural Resources; 170 - MOWI - Tana Water Services Board",
         "rawType": "bool",
         "type": "boolean"
        },
        {
         "name": "Implementing Agency_110 - Ministry of Environment Water and Natural Resources; 174 - MOWI - Water Services Trust Fund, Kenya; 1102 - State Department for Water and Regional Authorities.",
         "rawType": "bool",
         "type": "boolean"
        },
        {
         "name": "Implementing Agency_110 - Ministry of Environment Water and Natural Resources; Constituency Development Fund (CDF)",
         "rawType": "bool",
         "type": "boolean"
        },
        {
         "name": "Implementing Agency_1101 - State Department for Environment and Natural Resources",
         "rawType": "bool",
         "type": "boolean"
        },
        {
         "name": "Implementing Agency_1102 - State Department for Water and Regional Authorities.",
         "rawType": "bool",
         "type": "boolean"
        },
        {
         "name": "Implementing Agency_111 - NACC - National Aids Control Council",
         "rawType": "bool",
         "type": "boolean"
        },
        {
         "name": "Implementing Agency_1111 - Ministry of Land Housing and Urban Development",
         "rawType": "bool",
         "type": "boolean"
        },
        {
         "name": "Implementing Agency_1111 - Ministry of Land Housing and Urban Development; 1061 - State Department for Education",
         "rawType": "bool",
         "type": "boolean"
        },
        {
         "name": "Implementing Agency_1111 - Ministry of Land Housing and Urban Development; 1131 - Ministry of Sports Culture and Arts",
         "rawType": "bool",
         "type": "boolean"
        },
        {
         "name": "Implementing Agency_1111 - Ministry of Land Housing and Urban Development; 135 - MOR - Kenya Rural Roads Authority (KERA)",
         "rawType": "bool",
         "type": "boolean"
        },
        {
         "name": "Implementing Agency_1121 - Ministry of Information and Communications and Technology",
         "rawType": "bool",
         "type": "boolean"
        },
        {
         "name": "Implementing Agency_1121 - Ministry of Information and Communications and Technology; 99 - MOIC - Communications Technology Board",
         "rawType": "bool",
         "type": "boolean"
        },
        {
         "name": "Implementing Agency_1121 - Ministry of Information and Communications and Technology; Private Sector",
         "rawType": "bool",
         "type": "boolean"
        },
        {
         "name": "Implementing Agency_113 - MOMS - Kenya Medical Supplies Agency (KEMSA)",
         "rawType": "bool",
         "type": "boolean"
        },
        {
         "name": "Implementing Agency_1131 - Ministry of Sports Culture and Arts",
         "rawType": "bool",
         "type": "boolean"
        },
        {
         "name": "Implementing Agency_1131 - Ministry of Sports Culture and Arts; 119 - MONHC - National Museums of Kenya",
         "rawType": "bool",
         "type": "boolean"
        },
        {
         "name": "Implementing Agency_114 - MOMS - Kenya Medical Training College (KMTC)",
         "rawType": "bool",
         "type": "boolean"
        },
        {
         "name": "Implementing Agency_1141 - Ministry of Labour Social Security and Services",
         "rawType": "bool",
         "type": "boolean"
        },
        {
         "name": "Implementing Agency_1141 - Ministry of Labour Social Security and Services; 1171 - Ministry of Industrialization and Enterprise Development",
         "rawType": "bool",
         "type": "boolean"
        },
        {
         "name": "Implementing Agency_115 - MOE&P - Kenya Electricity Transmission Company Limited (KETRACO)",
         "rawType": "bool",
         "type": "boolean"
        },
        {
         "name": "Implementing Agency_115 - MOE&P - Rural Electrification Authority",
         "rawType": "bool",
         "type": "boolean"
        },
        {
         "name": "Implementing Agency_115 - MOMS - Kenyatta National Hospital",
         "rawType": "bool",
         "type": "boolean"
        },
        {
         "name": "Implementing Agency_1151 - Ministry of Energy & Petroleum",
         "rawType": "bool",
         "type": "boolean"
        },
        {
         "name": "Implementing Agency_1151 - Ministry of Energy & Petroleum; 106 - MOES&T - University of Nairobi; 93 - MOIND - Kenya Bureau of Standards",
         "rawType": "bool",
         "type": "boolean"
        },
        {
         "name": "Implementing Agency_1151 - Ministry of Energy & Petroleum; 115 - MOE&P - Geothermal Development Company",
         "rawType": "bool",
         "type": "boolean"
        },
        {
         "name": "Implementing Agency_1151 - Ministry of Energy & Petroleum; 115 - MOE&P - Kenya Electricity Transmission Company Limited (KETRACO)",
         "rawType": "bool",
         "type": "boolean"
        },
        {
         "name": "Implementing Agency_1151 - Ministry of Energy & Petroleum; 115 - MOE&P - Kenya Pipeline Co.(KPL)",
         "rawType": "bool",
         "type": "boolean"
        },
        {
         "name": "Implementing Agency_1151 - Ministry of Energy & Petroleum; 115 - MOE&P - Kenya Power and Lighting Company",
         "rawType": "bool",
         "type": "boolean"
        },
        {
         "name": "Implementing Agency_1151 - Ministry of Energy & Petroleum; 115 - MOE&P- Kenya Electricity Generating Company Ltd (KENGEN)",
         "rawType": "bool",
         "type": "boolean"
        },
        {
         "name": "Implementing Agency_1151 - Ministry of Energy & Petroleum; 115 - MOE&P- Kenya Electricity Generating Company Ltd (KENGEN); 115 - MOE&P - Geothermal Development Company",
         "rawType": "bool",
         "type": "boolean"
        },
        {
         "name": "Implementing Agency_1151 - Ministry of Energy & Petroleum; 115 - MOE&P- Kenya Electricity Generating Company Ltd (KENGEN); 115 - MOE&P - Kenya Power and Lighting Company",
         "rawType": "bool",
         "type": "boolean"
        },
        {
         "name": "Implementing Agency_1151 - Ministry of Energy & Petroleum; 115 - MOE&P- Kenya Electricity Generating Company Ltd (KENGEN); 115 - MOE&P - Kenya Power and Lighting Company; 115 - MOE&P - Rural Electrification Authority",
         "rawType": "bool",
         "type": "boolean"
        },
        {
         "name": "Implementing Agency_1151 - Ministry of Energy & Petroleum; Kenya Renewable Energy Association (KEREA)",
         "rawType": "bool",
         "type": "boolean"
        },
        {
         "name": "Implementing Agency_1151 - Ministry of Energy & Petroleum; Practical Action Eastern Africa",
         "rawType": "bool",
         "type": "boolean"
        },
        {
         "name": "Implementing Agency_1151 - Ministry of Energy & Petroleum; Private Sector",
         "rawType": "bool",
         "type": "boolean"
        },
        {
         "name": "Implementing Agency_116 - MOAL&F - Kenya Agricultural Research Institute (KARI)",
         "rawType": "bool",
         "type": "boolean"
        },
        {
         "name": "Implementing Agency_116 - MOAL&F - Kenya Marine & Fisheries Research Institute",
         "rawType": "bool",
         "type": "boolean"
        },
        {
         "name": "Implementing Agency_116 - MOAL&F - Kenya Plant Health Inspectorate Service (KEPHIS)",
         "rawType": "bool",
         "type": "boolean"
        },
        {
         "name": "Implementing Agency_116 - MOAL&F - Kenya Wildlife Services",
         "rawType": "bool",
         "type": "boolean"
        },
        {
         "name": "Implementing Agency_116 - MOMS - Moi Teaching & Referral Hospital",
         "rawType": "bool",
         "type": "boolean"
        },
        {
         "name": "Implementing Agency_116 - Ministry of Agriculture, Livestock and Fisheries",
         "rawType": "bool",
         "type": "boolean"
        },
        {
         "name": "Implementing Agency_116 - Ministry of Agriculture, Livestock and Fisheries; 1111 - Ministry of Land Housing and Urban Development; 1163 - State Department for Fisheries",
         "rawType": "bool",
         "type": "boolean"
        },
        {
         "name": "Implementing Agency_116 - Ministry of Agriculture, Livestock and Fisheries; 116 - MOAL&F - Kenya Agricultural Research Institute (KARI)",
         "rawType": "bool",
         "type": "boolean"
        },
        {
         "name": "Implementing Agency_116 - Ministry of Agriculture, Livestock and Fisheries; 116 - MOAL&F - Kenya Plant Health Inspectorate Service (KEPHIS); 1161 - State Department for Agriculture",
         "rawType": "bool",
         "type": "boolean"
        },
        {
         "name": "Implementing Agency_116 - Ministry of Agriculture, Livestock and Fisheries; 116 - MOAL&F - Kenya Sugar Board (KSB); 116 - MOAL&F - Kenya Sugar Research Foundation (KESREF); 1161 - State Department for Agriculture",
         "rawType": "bool",
         "type": "boolean"
        },
        {
         "name": "Implementing Agency_116 - Ministry of Agriculture, Livestock and Fisheries; 1161 - State Department for Agriculture",
         "rawType": "bool",
         "type": "boolean"
        },
        {
         "name": "Implementing Agency_116 - Ministry of Agriculture, Livestock and Fisheries; 1161 - State Department for Agriculture; 1162 - State Department for Livestock",
         "rawType": "bool",
         "type": "boolean"
        },
        {
         "name": "Implementing Agency_116 - Ministry of Agriculture, Livestock and Fisheries; 1162 - State Department for Livestock",
         "rawType": "bool",
         "type": "boolean"
        },
        {
         "name": "Implementing Agency_116 - Ministry of Agriculture, Livestock and Fisheries; 166 - MOWI - National Irrigation Board; 1161 - State Department for Agriculture",
         "rawType": "bool",
         "type": "boolean"
        },
        {
         "name": "Implementing Agency_1161 - State Department for Agriculture",
         "rawType": "bool",
         "type": "boolean"
        },
        {
         "name": "Implementing Agency_1161 - State Department for Agriculture; 1102 - State Department for Water and Regional Authorities.",
         "rawType": "bool",
         "type": "boolean"
        },
        {
         "name": "Implementing Agency_1163 - State Department for Fisheries",
         "rawType": "bool",
         "type": "boolean"
        },
        {
         "name": "Implementing Agency_1171 - Ministry of Industrialization and Enterprise Development",
         "rawType": "bool",
         "type": "boolean"
        },
        {
         "name": "Implementing Agency_1171 - Ministry of Industrialization and Enterprise Development; 149 - MOTR - Export Promotion Council",
         "rawType": "bool",
         "type": "boolean"
        },
        {
         "name": "Implementing Agency_1171 - Ministry of Industrialization and Enterprise Development; 93 - MOIND - Kenya Bureau of Standards",
         "rawType": "bool",
         "type": "boolean"
        },
        {
         "name": "Implementing Agency_118 - Ministry of Commerce Tourism and East African Affairs",
         "rawType": "bool",
         "type": "boolean"
        },
        {
         "name": "Implementing Agency_118 - Ministry of Commerce Tourism and East African Affairs; 1111 - Ministry of Land Housing and Urban Development",
         "rawType": "bool",
         "type": "boolean"
        },
        {
         "name": "Implementing Agency_118 - Ministry of Commerce Tourism and East African Affairs; 1171 - Ministry of Industrialization and Enterprise Development",
         "rawType": "bool",
         "type": "boolean"
        },
        {
         "name": "Implementing Agency_118 - Ministry of Commerce Tourism and East African Affairs; 1182 - State Department for East African Affairs",
         "rawType": "bool",
         "type": "boolean"
        },
        {
         "name": "Implementing Agency_118 - Ministry of Commerce Tourism and East African Affairs; 149 - MOTR - Export Promotion Council",
         "rawType": "bool",
         "type": "boolean"
        },
        {
         "name": "Implementing Agency_122 - MOPBHS - Kenya Medical Research Institute(KEMRI)",
         "rawType": "bool",
         "type": "boolean"
        },
        {
         "name": "Implementing Agency_124 - MOPND - Kenya National Bureau of Statistics",
         "rawType": "bool",
         "type": "boolean"
        },
        {
         "name": "Implementing Agency_125 - MOPND - National Cordinating Agency for Population and Dev. (NCAPD)",
         "rawType": "bool",
         "type": "boolean"
        },
        {
         "name": "Implementing Agency_1251 - Office of The Attorney General and Department of Justice",
         "rawType": "bool",
         "type": "boolean"
        },
        {
         "name": "Implementing Agency_1251 - Office of The Attorney General and Department of Justice; 1121 - Ministry of Information and Communications and Technology; Private Sector",
         "rawType": "bool",
         "type": "boolean"
        },
        {
         "name": "Implementing Agency_1251 - Office of The Attorney General and Department of Justice; 1261 - The Judiciary",
         "rawType": "bool",
         "type": "boolean"
        },
        {
         "name": "Implementing Agency_1251 - Office of The Attorney General and Department of Justice; 2031 - Independent Electoral and Boundaries Commission",
         "rawType": "bool",
         "type": "boolean"
        },
        {
         "name": "Implementing Agency_1261 - The Judiciary",
         "rawType": "bool",
         "type": "boolean"
        },
        {
         "name": "Implementing Agency_127 - MRDA - Coast Development Authority (CDA)",
         "rawType": "bool",
         "type": "boolean"
        },
        {
         "name": "Implementing Agency_1271 - Ethics and Anti-Corruption Commission",
         "rawType": "bool",
         "type": "boolean"
        },
        {
         "name": "Implementing Agency_128 - MRDA - Ewaso Ngiro North Dev. Authority (ENNDA)",
         "rawType": "bool",
         "type": "boolean"
        },
        {
         "name": "Implementing Agency_129 - MRDA - Ewaso Ngiro South Dev. Authority (ENSDA)",
         "rawType": "bool",
         "type": "boolean"
        },
        {
         "name": "Implementing Agency_130 - MRDA - Kerio Valley Dev. Authority (KVDA)",
         "rawType": "bool",
         "type": "boolean"
        },
        {
         "name": "Implementing Agency_131 - MRDA - Lake Basin Dev. Authority",
         "rawType": "bool",
         "type": "boolean"
        },
        {
         "name": "Implementing Agency_132 - MRDA - Tana and Athi River Development Authority",
         "rawType": "bool",
         "type": "boolean"
        },
        {
         "name": "Implementing Agency_132 - MRDA - Tana and Athi River Development Authority; Private Sector",
         "rawType": "bool",
         "type": "boolean"
        },
        {
         "name": "Implementing Agency_133 - MOR - Kenya National Highway Authority",
         "rawType": "bool",
         "type": "boolean"
        },
        {
         "name": "Implementing Agency_133 - MOR - Kenya National Highway Authority; 1091 - State Department of Infrastructure",
         "rawType": "bool",
         "type": "boolean"
        },
        {
         "name": "Implementing Agency_135 - MOR - Kenya Rural Roads Authority (KERA)",
         "rawType": "bool",
         "type": "boolean"
        },
        {
         "name": "Implementing Agency_136 - MOR - Kenya Urban Roads Authority (KURA)",
         "rawType": "bool",
         "type": "boolean"
        },
        {
         "name": "Implementing Agency_136 - MOR - Kenya Urban Roads Authority (KURA); Constituency Development Fund (CDF)",
         "rawType": "bool",
         "type": "boolean"
        },
        {
         "name": "Implementing Agency_136 - MOR - Kenya Urban Roads Authority (KURA); Private Sector",
         "rawType": "bool",
         "type": "boolean"
        },
        {
         "name": "Implementing Agency_148 - MOTR - Export Processing Zones Authority (EPZA)",
         "rawType": "bool",
         "type": "boolean"
        },
        {
         "name": "Implementing Agency_149 - MOTR - Export Promotion Council",
         "rawType": "bool",
         "type": "boolean"
        },
        {
         "name": "Implementing Agency_159 - MOWI - Athi Water Service Board",
         "rawType": "bool",
         "type": "boolean"
        },
        {
         "name": "Implementing Agency_159 - MOWI - Athi Water Service Board; 164 - MOWI - Lake Victoria South Water Services Board ; 168 - MOWI - Northern Water Services Board; 170 - MOWI - Tana Water Services Board; 1102 - State Department for Water and Regional Authorities.",
         "rawType": "bool",
         "type": "boolean"
        },
        {
         "name": "Implementing Agency_161 - MOWI - Coast Water Services Board",
         "rawType": "bool",
         "type": "boolean"
        },
        {
         "name": "Implementing Agency_162 - MOWI - Kenya Water Institute",
         "rawType": "bool",
         "type": "boolean"
        },
        {
         "name": "Implementing Agency_167 - MOWI - National Water Conservation and Pipeline Corporation",
         "rawType": "bool",
         "type": "boolean"
        },
        {
         "name": "Implementing Agency_168 - MOWI - Northern Water Services Board",
         "rawType": "bool",
         "type": "boolean"
        },
        {
         "name": "Implementing Agency_169 - MOWI - Rift Valley Water Services Board",
         "rawType": "bool",
         "type": "boolean"
        },
        {
         "name": "Implementing Agency_170 - MOWI - Tana Water Services Board",
         "rawType": "bool",
         "type": "boolean"
        },
        {
         "name": "Implementing Agency_172 - MOWI - Water Resources Management Authority",
         "rawType": "bool",
         "type": "boolean"
        },
        {
         "name": "Implementing Agency_2031 - Independent Electoral and Boundaries Commission",
         "rawType": "bool",
         "type": "boolean"
        },
        {
         "name": "Implementing Agency_501 - International Development Association (IDA); 109 - Ministry of Transport and Infrastructure; 153 - MOT - Kenya Airports Authority; 154 - MOT - Kenya Civil Aviation Authority; 1091 - State Department of Infrastructure; 1092 - State Department of Transport",
         "rawType": "bool",
         "type": "boolean"
        },
        {
         "name": "Implementing Agency_501 - International Development Association (IDA); 133 - MOR - Kenya National Highway Authority",
         "rawType": "bool",
         "type": "boolean"
        },
        {
         "name": "Implementing Agency_517 - United Nations Development Programme (UNDP); 103 - Ministry of Devolution and Planning; 1032 - State Department for Devolution",
         "rawType": "bool",
         "type": "boolean"
        },
        {
         "name": "Implementing Agency_517 - United Nations Development Programme (UNDP); 110 - Ministry of Environment Water and Natural Resources; Nature Kenya",
         "rawType": "bool",
         "type": "boolean"
        },
        {
         "name": "Implementing Agency_517 - United Nations Development Programme (UNDP); 1151 - Ministry of Energy & Petroleum; 106 - MOES&T - University of Nairobi",
         "rawType": "bool",
         "type": "boolean"
        },
        {
         "name": "Implementing Agency_519 - United Nations Fund for Population Activities (UNFPA); 103 - Ministry of Devolution and Planning; 1031 - State Department for Planning",
         "rawType": "bool",
         "type": "boolean"
        },
        {
         "name": "Implementing Agency_52 - ODPMMOF - Kenya Revenue Authority",
         "rawType": "bool",
         "type": "boolean"
        },
        {
         "name": "Implementing Agency_522 - United Nations International Children Education Fund (UNICEF); 103 - Ministry of Devolution and Planning; 106 - Ministry of Education; 1131 - Ministry of Sports Culture and Arts",
         "rawType": "bool",
         "type": "boolean"
        },
        {
         "name": "Implementing Agency_522 - United Nations International Children Education Fund (UNICEF); 110 - Ministry of Environment Water and Natural Resources; 1081 - Ministry of Health; 106 - Ministry of Education; 1061 - State Department for Education; 1102 - State Department for Water and Regional Authorities.",
         "rawType": "bool",
         "type": "boolean"
        },
        {
         "name": "Implementing Agency_523 - World Food Programme",
         "rawType": "bool",
         "type": "boolean"
        },
        {
         "name": "Implementing Agency_81 - MoHEST - Maasai Mara University",
         "rawType": "bool",
         "type": "boolean"
        },
        {
         "name": "Implementing Agency_99 - MOIC - Communications Technology Board",
         "rawType": "bool",
         "type": "boolean"
        },
        {
         "name": "Implementing Agency_Constituency Development Fund (CDF)",
         "rawType": "bool",
         "type": "boolean"
        },
        {
         "name": "Implementing Agency_J.H.P.I.E.G.O",
         "rawType": "bool",
         "type": "boolean"
        },
        {
         "name": "Implementing Agency_MAPIA Enterprises Ltd",
         "rawType": "bool",
         "type": "boolean"
        },
        {
         "name": "Implementing Agency_MOIC - Department of Information (DI)",
         "rawType": "bool",
         "type": "boolean"
        },
        {
         "name": "Implementing Agency_MoHEST - Bumbe Technical Training Institute",
         "rawType": "bool",
         "type": "boolean"
        },
        {
         "name": "Implementing Agency_MoHEST - Bushiangala Technical Training institute",
         "rawType": "bool",
         "type": "boolean"
        },
        {
         "name": "Implementing Agency_MoHEST - Coast Institute of Technology",
         "rawType": "bool",
         "type": "boolean"
        },
        {
         "name": "Implementing Agency_MoHEST - Gusii Institute of Technology",
         "rawType": "bool",
         "type": "boolean"
        },
        {
         "name": "Implementing Agency_MoHEST - Kaiboi Technical Training Institute",
         "rawType": "bool",
         "type": "boolean"
        },
        {
         "name": "Implementing Agency_MoHEST - Karen Technical Training Institute",
         "rawType": "bool",
         "type": "boolean"
        },
        {
         "name": "Implementing Agency_MoHEST - Keroka Technical Training Institute",
         "rawType": "bool",
         "type": "boolean"
        },
        {
         "name": "Implementing Agency_MoHEST - Kiirua Technical Training Institute",
         "rawType": "bool",
         "type": "boolean"
        },
        {
         "name": "Implementing Agency_MoHEST - Kitale Technical Training Institute",
         "rawType": "bool",
         "type": "boolean"
        },
        {
         "name": "Implementing Agency_MoHEST - Machakos Technical Institute for the blind",
         "rawType": "bool",
         "type": "boolean"
        },
        {
         "name": "Implementing Agency_MoHEST - Matili Technical Training Institute",
         "rawType": "bool",
         "type": "boolean"
        },
        {
         "name": "Implementing Agency_MoHEST - Mawego Technical Training Institute",
         "rawType": "bool",
         "type": "boolean"
        },
        {
         "name": "Implementing Agency_MoHEST - NEP Technical Training Institute",
         "rawType": "bool",
         "type": "boolean"
        },
        {
         "name": "Implementing Agency_MoHEST - Nkabune Technical Training Institute",
         "rawType": "bool",
         "type": "boolean"
        },
        {
         "name": "Implementing Agency_MoHEST - Nyeri Technical Training Institute",
         "rawType": "bool",
         "type": "boolean"
        },
        {
         "name": "Implementing Agency_MoHEST - Ramogi Institute of Advanced Technology",
         "rawType": "bool",
         "type": "boolean"
        },
        {
         "name": "Implementing Agency_MoHEST - Rift Valley Institute of Science and Technology",
         "rawType": "bool",
         "type": "boolean"
        },
        {
         "name": "Implementing Agency_MoHEST - Rift Valley Technical Training Institute",
         "rawType": "bool",
         "type": "boolean"
        },
        {
         "name": "Implementing Agency_MoHEST - Wote Technical Training Institute",
         "rawType": "bool",
         "type": "boolean"
        },
        {
         "name": "Implementing Agency_POPULATION SERVICES INTERNATIONAL (P.S.I)",
         "rawType": "bool",
         "type": "boolean"
        },
        {
         "name": "Implementing Agency_Private Sector",
         "rawType": "bool",
         "type": "boolean"
        },
        {
         "name": "Implementing Agency_Unspecified",
         "rawType": "bool",
         "type": "boolean"
        }
       ],
       "conversionMethod": "pd.DataFrame",
       "ref": "eeede2d3-c212-4ce7-a863-d6d35e78da9f",
       "rows": [
        [
         "0",
         "65600000.0",
         "46.0",
         "0",
         "True",
         "False",
         "False",
         "False",
         "False",
         "False",
         "False",
         "False",
         "False",
         "False",
         "False",
         "False",
         "False",
         "False",
         "False",
         "False",
         "False",
         "False",
         "False",
         "False",
         "False",
         "False",
         "False",
         "False",
         "False",
         "False",
         "False",
         "False",
         "False",
         "False",
         "False",
         "False",
         "False",
         "False",
         "False",
         "False",
         "False",
         "False",
         "False",
         "False",
         "False",
         "False",
         "False",
         "False",
         "False",
         "False",
         "False",
         "False",
         "False",
         "False",
         "False",
         "False",
         "False",
         "False",
         "False",
         "False",
         "False",
         "False",
         "False",
         "False",
         "False",
         "False",
         "False",
         "False",
         "False",
         "False",
         "False",
         "False",
         "False",
         "False",
         "False",
         "False",
         "False",
         "False",
         "False",
         "False",
         "False",
         "False",
         "False",
         "False",
         "False",
         "False",
         "False",
         "False",
         "False",
         "False",
         "False",
         "False",
         "False",
         "False",
         "False",
         "False",
         "False",
         "False",
         "False",
         "False",
         "False",
         "False",
         "False",
         "False",
         "False",
         "False",
         "False",
         "False",
         "False",
         "False",
         "False",
         "False",
         "False",
         "False",
         "False",
         "False",
         "False",
         "False",
         "False",
         "False",
         "False",
         "False",
         "False",
         "False",
         "False",
         "False",
         "False",
         "False",
         "False",
         "False",
         "False",
         "False",
         "False",
         "False",
         "False",
         "False",
         "False",
         "False",
         "False",
         "False",
         "False",
         "False",
         "False",
         "False",
         "True",
         "False",
         "False",
         "False",
         "False",
         "False",
         "False",
         "False",
         "False",
         "False",
         "False",
         "False",
         "False",
         "False",
         "False",
         "False",
         "False",
         "False",
         "False",
         "False",
         "False",
         "False",
         "True",
         "False",
         "False",
         "False",
         "False",
         "False",
         "False",
         "False",
         "False",
         "False",
         "False",
         "False",
         "True",
         "False",
         "False",
         "False",
         "False",
         "False",
         "False",
         "False",
         "False",
         "False",
         "False",
         "False",
         "False",
         "False",
         "False",
         "False",
         "False",
         "False",
         "True",
         "False",
         "False",
         "False",
         "False",
         "False",
         "False",
         "False",
         "False",
         "False",
         "False",
         "False",
         "False",
         "False",
         "False",
         "False",
         "False",
         "False",
         "False",
         "False",
         "False",
         "False",
         "False",
         "False",
         "False",
         "False",
         "False",
         "False",
         "False",
         "False",
         "False",
         "False",
         "False",
         "False",
         "False",
         "False",
         "False",
         "False",
         "False",
         "False",
         "False",
         "False",
         "False",
         "False",
         "False",
         "False",
         "False",
         "False",
         "False",
         "False",
         "False",
         "False",
         "False",
         "False",
         "False",
         "False",
         "False",
         "False",
         "False",
         "False",
         "False",
         "False",
         "False",
         "False",
         "False",
         "False",
         "False",
         "False",
         "False",
         "False",
         "False",
         "False",
         "False",
         "False",
         "False",
         "False",
         "False",
         "False",
         "False",
         "False",
         "False",
         "False",
         "False",
         "False",
         "False",
         "False",
         "False",
         "False",
         "False",
         "False",
         "False",
         "False",
         "False",
         "False",
         "False",
         "False",
         "False",
         "False",
         "False",
         "False",
         "False",
         "False",
         "False",
         "False",
         "False",
         "False",
         "False",
         "False",
         "False",
         "False",
         "False",
         "False",
         "False",
         "False",
         "False",
         "False",
         "False",
         "False",
         "False",
         "False",
         "False",
         "False",
         "False",
         "False",
         "False",
         "False",
         "False",
         "False",
         "False",
         "False",
         "False",
         "False",
         "False",
         "False",
         "False",
         "False",
         "False",
         "False",
         "False",
         "False",
         "False",
         "False",
         "False",
         "False",
         "False",
         "False",
         "False",
         "False",
         "False",
         "False",
         "False",
         "False",
         "False",
         "False",
         "False",
         "False",
         "False",
         "False",
         "False",
         "False",
         "False",
         "False",
         "False",
         "False",
         "False",
         "False",
         "False",
         "False",
         "False",
         "False",
         "False",
         "False",
         "False",
         "False",
         "False",
         "False",
         "False",
         "False",
         "False",
         "False",
         "False",
         "False",
         "False",
         "False",
         "False",
         "False",
         "False",
         "False",
         "False",
         "False",
         "False",
         "False",
         "False",
         "False",
         "False",
         "False",
         "False",
         "False",
         "False",
         "False",
         "False",
         "False",
         "False",
         "False",
         "False",
         "False",
         "False",
         "False",
         "False",
         "False",
         "False",
         "False",
         "False",
         "False",
         "False",
         "False",
         "False",
         "False",
         "False",
         "False",
         "False",
         "False",
         "False",
         "False",
         "False",
         "False",
         "False",
         "False",
         "False",
         "False",
         "False",
         "False",
         "False",
         "False",
         "False",
         "False",
         "False",
         "False",
         "False",
         "False",
         "False",
         "False",
         "False",
         "False",
         "False",
         "False",
         "False",
         "False",
         "False",
         "False",
         "False",
         "False",
         "False",
         "False",
         "False",
         "False",
         "False",
         "False",
         "False",
         "False",
         "False",
         "False",
         "False",
         "False",
         "False",
         "False",
         "False",
         "False",
         "False",
         "False",
         "False",
         "False",
         "False",
         "False",
         "False",
         "False",
         "False",
         "False",
         "False",
         "False",
         "False",
         "False",
         "False",
         "False",
         "False",
         "False",
         "False",
         "False",
         "False",
         "False",
         "False"
        ],
        [
         "1",
         "35000000.0",
         "40.0",
         "0",
         "True",
         "False",
         "False",
         "False",
         "False",
         "False",
         "False",
         "False",
         "False",
         "False",
         "False",
         "False",
         "False",
         "False",
         "False",
         "False",
         "False",
         "False",
         "False",
         "False",
         "False",
         "False",
         "False",
         "False",
         "False",
         "False",
         "False",
         "False",
         "False",
         "False",
         "False",
         "False",
         "False",
         "False",
         "False",
         "False",
         "False",
         "False",
         "False",
         "False",
         "False",
         "False",
         "False",
         "False",
         "False",
         "False",
         "False",
         "False",
         "False",
         "False",
         "False",
         "False",
         "False",
         "False",
         "False",
         "False",
         "False",
         "False",
         "False",
         "False",
         "False",
         "False",
         "False",
         "False",
         "False",
         "False",
         "False",
         "False",
         "False",
         "False",
         "False",
         "False",
         "False",
         "False",
         "False",
         "False",
         "False",
         "False",
         "False",
         "False",
         "False",
         "False",
         "False",
         "False",
         "False",
         "False",
         "False",
         "False",
         "False",
         "False",
         "False",
         "False",
         "False",
         "False",
         "False",
         "False",
         "False",
         "False",
         "False",
         "False",
         "False",
         "False",
         "False",
         "False",
         "False",
         "False",
         "False",
         "False",
         "False",
         "False",
         "False",
         "False",
         "False",
         "False",
         "False",
         "False",
         "False",
         "False",
         "False",
         "False",
         "False",
         "False",
         "False",
         "False",
         "False",
         "False",
         "False",
         "False",
         "False",
         "False",
         "False",
         "False",
         "False",
         "False",
         "False",
         "False",
         "False",
         "False",
         "False",
         "False",
         "True",
         "False",
         "False",
         "False",
         "False",
         "False",
         "False",
         "False",
         "False",
         "False",
         "False",
         "False",
         "False",
         "False",
         "False",
         "False",
         "False",
         "False",
         "False",
         "False",
         "False",
         "False",
         "True",
         "False",
         "False",
         "False",
         "False",
         "False",
         "False",
         "False",
         "False",
         "False",
         "False",
         "False",
         "True",
         "False",
         "False",
         "False",
         "False",
         "False",
         "False",
         "False",
         "False",
         "False",
         "False",
         "False",
         "False",
         "False",
         "False",
         "False",
         "False",
         "False",
         "True",
         "False",
         "False",
         "False",
         "False",
         "False",
         "False",
         "False",
         "False",
         "False",
         "False",
         "False",
         "False",
         "False",
         "False",
         "False",
         "False",
         "False",
         "False",
         "False",
         "False",
         "False",
         "False",
         "False",
         "False",
         "False",
         "False",
         "False",
         "False",
         "False",
         "False",
         "False",
         "False",
         "False",
         "False",
         "False",
         "False",
         "False",
         "False",
         "False",
         "False",
         "False",
         "False",
         "False",
         "False",
         "False",
         "False",
         "False",
         "False",
         "False",
         "False",
         "False",
         "False",
         "False",
         "False",
         "False",
         "False",
         "False",
         "False",
         "False",
         "False",
         "False",
         "False",
         "False",
         "False",
         "False",
         "False",
         "False",
         "False",
         "False",
         "False",
         "False",
         "False",
         "False",
         "False",
         "False",
         "False",
         "False",
         "False",
         "False",
         "False",
         "False",
         "False",
         "False",
         "False",
         "False",
         "False",
         "False",
         "False",
         "False",
         "False",
         "False",
         "False",
         "False",
         "False",
         "False",
         "False",
         "False",
         "False",
         "False",
         "False",
         "False",
         "False",
         "False",
         "False",
         "False",
         "False",
         "False",
         "False",
         "False",
         "False",
         "False",
         "False",
         "False",
         "False",
         "False",
         "False",
         "False",
         "False",
         "False",
         "False",
         "False",
         "False",
         "False",
         "False",
         "False",
         "False",
         "False",
         "False",
         "False",
         "False",
         "False",
         "False",
         "False",
         "False",
         "False",
         "False",
         "False",
         "False",
         "False",
         "False",
         "False",
         "False",
         "False",
         "False",
         "False",
         "False",
         "False",
         "False",
         "False",
         "False",
         "False",
         "False",
         "False",
         "False",
         "False",
         "False",
         "False",
         "False",
         "False",
         "False",
         "False",
         "False",
         "False",
         "False",
         "False",
         "False",
         "False",
         "False",
         "False",
         "False",
         "False",
         "False",
         "False",
         "False",
         "False",
         "False",
         "False",
         "False",
         "False",
         "False",
         "False",
         "False",
         "False",
         "False",
         "False",
         "False",
         "False",
         "False",
         "False",
         "False",
         "False",
         "False",
         "False",
         "False",
         "False",
         "False",
         "False",
         "False",
         "False",
         "False",
         "False",
         "False",
         "False",
         "False",
         "False",
         "False",
         "False",
         "False",
         "False",
         "False",
         "False",
         "False",
         "False",
         "False",
         "False",
         "False",
         "False",
         "False",
         "False",
         "False",
         "False",
         "False",
         "False",
         "False",
         "False",
         "False",
         "False",
         "False",
         "False",
         "False",
         "False",
         "False",
         "False",
         "False",
         "False",
         "False",
         "False",
         "False",
         "False",
         "False",
         "False",
         "False",
         "False",
         "False",
         "False",
         "False",
         "False",
         "False",
         "False",
         "False",
         "False",
         "False",
         "False",
         "False",
         "False",
         "False",
         "False",
         "False",
         "False",
         "False",
         "False",
         "False",
         "False",
         "False",
         "False",
         "False",
         "False",
         "False",
         "False",
         "False",
         "False",
         "False",
         "False",
         "False",
         "False",
         "False",
         "False",
         "False",
         "False",
         "False",
         "False",
         "False",
         "False",
         "False",
         "False",
         "False",
         "False",
         "False",
         "False",
         "False"
        ],
        [
         "2",
         "25000000.0",
         "40.0",
         "0",
         "True",
         "False",
         "False",
         "False",
         "False",
         "False",
         "False",
         "False",
         "False",
         "False",
         "False",
         "False",
         "False",
         "False",
         "False",
         "False",
         "False",
         "False",
         "False",
         "False",
         "False",
         "False",
         "False",
         "False",
         "False",
         "False",
         "False",
         "False",
         "False",
         "False",
         "False",
         "False",
         "False",
         "False",
         "False",
         "False",
         "False",
         "False",
         "False",
         "False",
         "False",
         "False",
         "False",
         "False",
         "False",
         "False",
         "False",
         "False",
         "False",
         "False",
         "False",
         "False",
         "False",
         "False",
         "False",
         "False",
         "False",
         "False",
         "False",
         "False",
         "False",
         "False",
         "False",
         "False",
         "False",
         "False",
         "False",
         "False",
         "False",
         "False",
         "False",
         "False",
         "False",
         "False",
         "False",
         "False",
         "False",
         "False",
         "False",
         "False",
         "False",
         "False",
         "False",
         "False",
         "False",
         "False",
         "False",
         "False",
         "False",
         "False",
         "False",
         "False",
         "False",
         "False",
         "False",
         "False",
         "False",
         "False",
         "False",
         "False",
         "False",
         "False",
         "False",
         "False",
         "False",
         "False",
         "False",
         "False",
         "False",
         "False",
         "False",
         "False",
         "False",
         "False",
         "False",
         "False",
         "False",
         "False",
         "False",
         "False",
         "False",
         "False",
         "False",
         "False",
         "False",
         "False",
         "False",
         "False",
         "False",
         "False",
         "False",
         "False",
         "False",
         "False",
         "False",
         "False",
         "False",
         "False",
         "False",
         "False",
         "True",
         "False",
         "False",
         "False",
         "False",
         "False",
         "False",
         "False",
         "False",
         "False",
         "False",
         "False",
         "False",
         "False",
         "False",
         "False",
         "False",
         "False",
         "False",
         "False",
         "False",
         "False",
         "True",
         "False",
         "False",
         "False",
         "False",
         "False",
         "False",
         "False",
         "False",
         "False",
         "False",
         "False",
         "True",
         "False",
         "False",
         "False",
         "False",
         "False",
         "False",
         "False",
         "False",
         "False",
         "False",
         "False",
         "False",
         "False",
         "False",
         "False",
         "False",
         "False",
         "True",
         "False",
         "False",
         "False",
         "False",
         "False",
         "False",
         "False",
         "False",
         "False",
         "False",
         "False",
         "False",
         "False",
         "False",
         "False",
         "False",
         "False",
         "False",
         "False",
         "False",
         "False",
         "False",
         "False",
         "False",
         "False",
         "False",
         "False",
         "False",
         "False",
         "False",
         "False",
         "False",
         "False",
         "False",
         "False",
         "False",
         "False",
         "False",
         "False",
         "False",
         "False",
         "False",
         "False",
         "False",
         "False",
         "False",
         "False",
         "False",
         "False",
         "False",
         "False",
         "False",
         "False",
         "False",
         "False",
         "False",
         "False",
         "False",
         "False",
         "False",
         "False",
         "False",
         "False",
         "False",
         "False",
         "False",
         "False",
         "False",
         "False",
         "False",
         "False",
         "False",
         "False",
         "False",
         "False",
         "False",
         "False",
         "False",
         "False",
         "False",
         "False",
         "False",
         "False",
         "False",
         "False",
         "False",
         "False",
         "False",
         "False",
         "False",
         "False",
         "False",
         "False",
         "False",
         "False",
         "False",
         "False",
         "False",
         "False",
         "False",
         "False",
         "False",
         "False",
         "False",
         "False",
         "False",
         "False",
         "False",
         "False",
         "False",
         "False",
         "False",
         "False",
         "False",
         "False",
         "False",
         "False",
         "False",
         "False",
         "False",
         "False",
         "False",
         "False",
         "False",
         "False",
         "False",
         "False",
         "False",
         "False",
         "False",
         "False",
         "False",
         "False",
         "False",
         "False",
         "False",
         "False",
         "False",
         "False",
         "False",
         "False",
         "False",
         "False",
         "False",
         "False",
         "False",
         "False",
         "False",
         "False",
         "False",
         "False",
         "False",
         "False",
         "False",
         "False",
         "False",
         "False",
         "False",
         "False",
         "False",
         "False",
         "False",
         "False",
         "False",
         "False",
         "False",
         "False",
         "False",
         "False",
         "False",
         "False",
         "False",
         "False",
         "False",
         "False",
         "False",
         "False",
         "False",
         "False",
         "False",
         "False",
         "False",
         "False",
         "False",
         "False",
         "False",
         "False",
         "False",
         "False",
         "False",
         "False",
         "False",
         "False",
         "False",
         "False",
         "False",
         "False",
         "False",
         "False",
         "False",
         "False",
         "False",
         "False",
         "False",
         "False",
         "False",
         "False",
         "False",
         "False",
         "False",
         "False",
         "False",
         "False",
         "False",
         "False",
         "False",
         "False",
         "False",
         "False",
         "False",
         "False",
         "False",
         "False",
         "False",
         "False",
         "False",
         "False",
         "False",
         "False",
         "False",
         "False",
         "False",
         "False",
         "False",
         "False",
         "False",
         "False",
         "False",
         "False",
         "False",
         "False",
         "False",
         "False",
         "False",
         "False",
         "False",
         "False",
         "False",
         "False",
         "False",
         "False",
         "False",
         "False",
         "False",
         "False",
         "False",
         "False",
         "False",
         "False",
         "False",
         "False",
         "False",
         "False",
         "False",
         "False",
         "False",
         "False",
         "False",
         "False",
         "False",
         "False",
         "False",
         "False",
         "False",
         "False",
         "False",
         "False",
         "False",
         "False",
         "False",
         "False",
         "False",
         "False",
         "False",
         "False",
         "False",
         "False",
         "False",
         "False",
         "False"
        ],
        [
         "3",
         "25000000.0",
         "38.0",
         "0",
         "True",
         "False",
         "False",
         "False",
         "False",
         "False",
         "False",
         "False",
         "False",
         "False",
         "False",
         "False",
         "False",
         "False",
         "False",
         "False",
         "False",
         "False",
         "False",
         "False",
         "False",
         "False",
         "False",
         "False",
         "False",
         "False",
         "False",
         "False",
         "False",
         "False",
         "False",
         "False",
         "False",
         "False",
         "False",
         "False",
         "False",
         "False",
         "False",
         "False",
         "False",
         "False",
         "False",
         "False",
         "False",
         "False",
         "False",
         "False",
         "False",
         "False",
         "False",
         "False",
         "False",
         "False",
         "False",
         "False",
         "False",
         "False",
         "False",
         "False",
         "False",
         "False",
         "False",
         "False",
         "False",
         "False",
         "False",
         "False",
         "False",
         "False",
         "False",
         "False",
         "False",
         "False",
         "False",
         "False",
         "False",
         "False",
         "False",
         "False",
         "False",
         "False",
         "False",
         "False",
         "False",
         "False",
         "False",
         "False",
         "False",
         "False",
         "False",
         "False",
         "False",
         "False",
         "False",
         "False",
         "False",
         "False",
         "False",
         "False",
         "False",
         "False",
         "False",
         "False",
         "False",
         "False",
         "False",
         "False",
         "False",
         "False",
         "False",
         "False",
         "False",
         "False",
         "False",
         "False",
         "False",
         "False",
         "False",
         "False",
         "False",
         "False",
         "False",
         "False",
         "False",
         "False",
         "False",
         "False",
         "False",
         "False",
         "False",
         "False",
         "False",
         "False",
         "False",
         "False",
         "False",
         "False",
         "False",
         "False",
         "True",
         "False",
         "False",
         "False",
         "False",
         "False",
         "False",
         "False",
         "False",
         "False",
         "False",
         "False",
         "False",
         "False",
         "False",
         "False",
         "False",
         "False",
         "False",
         "False",
         "False",
         "False",
         "True",
         "False",
         "False",
         "False",
         "False",
         "False",
         "False",
         "False",
         "False",
         "False",
         "False",
         "False",
         "True",
         "False",
         "False",
         "False",
         "False",
         "False",
         "False",
         "False",
         "False",
         "False",
         "False",
         "False",
         "False",
         "False",
         "False",
         "False",
         "False",
         "False",
         "True",
         "False",
         "False",
         "False",
         "False",
         "False",
         "False",
         "False",
         "False",
         "False",
         "False",
         "False",
         "False",
         "False",
         "False",
         "False",
         "False",
         "False",
         "False",
         "False",
         "False",
         "False",
         "False",
         "False",
         "False",
         "False",
         "False",
         "False",
         "False",
         "False",
         "False",
         "False",
         "False",
         "False",
         "False",
         "False",
         "False",
         "False",
         "False",
         "False",
         "False",
         "False",
         "False",
         "False",
         "False",
         "False",
         "False",
         "False",
         "False",
         "False",
         "False",
         "False",
         "False",
         "False",
         "False",
         "False",
         "False",
         "False",
         "False",
         "False",
         "False",
         "False",
         "False",
         "False",
         "False",
         "False",
         "False",
         "False",
         "False",
         "False",
         "False",
         "False",
         "False",
         "False",
         "False",
         "False",
         "False",
         "False",
         "False",
         "False",
         "False",
         "False",
         "False",
         "False",
         "False",
         "False",
         "False",
         "False",
         "False",
         "False",
         "False",
         "False",
         "False",
         "False",
         "False",
         "False",
         "False",
         "False",
         "False",
         "False",
         "False",
         "False",
         "False",
         "False",
         "False",
         "False",
         "False",
         "False",
         "False",
         "False",
         "False",
         "False",
         "False",
         "False",
         "False",
         "False",
         "False",
         "False",
         "False",
         "False",
         "False",
         "False",
         "False",
         "False",
         "False",
         "False",
         "False",
         "False",
         "False",
         "False",
         "False",
         "False",
         "False",
         "False",
         "False",
         "False",
         "False",
         "False",
         "False",
         "False",
         "False",
         "False",
         "False",
         "False",
         "False",
         "False",
         "False",
         "False",
         "False",
         "False",
         "False",
         "False",
         "False",
         "False",
         "False",
         "False",
         "False",
         "False",
         "False",
         "False",
         "False",
         "False",
         "False",
         "False",
         "False",
         "False",
         "False",
         "False",
         "False",
         "False",
         "False",
         "False",
         "False",
         "False",
         "False",
         "False",
         "False",
         "False",
         "False",
         "False",
         "False",
         "False",
         "False",
         "False",
         "False",
         "False",
         "False",
         "False",
         "False",
         "False",
         "False",
         "False",
         "False",
         "False",
         "False",
         "False",
         "False",
         "False",
         "False",
         "False",
         "False",
         "False",
         "False",
         "False",
         "False",
         "False",
         "False",
         "False",
         "False",
         "False",
         "False",
         "False",
         "False",
         "False",
         "False",
         "False",
         "False",
         "False",
         "False",
         "False",
         "False",
         "False",
         "False",
         "False",
         "False",
         "False",
         "False",
         "False",
         "False",
         "False",
         "False",
         "False",
         "False",
         "False",
         "False",
         "False",
         "False",
         "False",
         "False",
         "False",
         "False",
         "False",
         "False",
         "False",
         "False",
         "False",
         "False",
         "False",
         "False",
         "False",
         "False",
         "False",
         "False",
         "False",
         "False",
         "False",
         "False",
         "False",
         "False",
         "False",
         "False",
         "False",
         "False",
         "False",
         "False",
         "False",
         "False",
         "False",
         "False",
         "False",
         "False",
         "False",
         "False",
         "False",
         "False",
         "False",
         "False",
         "False",
         "False",
         "False",
         "False",
         "False",
         "False",
         "False",
         "False",
         "False",
         "False",
         "False",
         "False",
         "False",
         "False"
        ],
        [
         "4",
         "37500000.0",
         "37.0",
         "0",
         "True",
         "False",
         "False",
         "False",
         "False",
         "False",
         "False",
         "False",
         "False",
         "False",
         "False",
         "False",
         "False",
         "False",
         "False",
         "False",
         "False",
         "False",
         "False",
         "False",
         "False",
         "False",
         "False",
         "False",
         "False",
         "False",
         "False",
         "False",
         "False",
         "False",
         "False",
         "False",
         "False",
         "False",
         "False",
         "False",
         "False",
         "False",
         "False",
         "False",
         "False",
         "False",
         "False",
         "False",
         "False",
         "False",
         "False",
         "False",
         "False",
         "False",
         "False",
         "False",
         "False",
         "False",
         "False",
         "False",
         "False",
         "False",
         "False",
         "False",
         "False",
         "False",
         "False",
         "False",
         "False",
         "False",
         "False",
         "False",
         "False",
         "False",
         "False",
         "False",
         "False",
         "False",
         "False",
         "False",
         "False",
         "False",
         "False",
         "False",
         "False",
         "False",
         "False",
         "False",
         "False",
         "False",
         "False",
         "False",
         "False",
         "False",
         "False",
         "False",
         "False",
         "False",
         "False",
         "False",
         "False",
         "False",
         "False",
         "False",
         "False",
         "False",
         "False",
         "False",
         "False",
         "False",
         "False",
         "False",
         "False",
         "False",
         "False",
         "False",
         "False",
         "False",
         "False",
         "False",
         "False",
         "False",
         "False",
         "False",
         "False",
         "False",
         "False",
         "False",
         "False",
         "False",
         "False",
         "False",
         "False",
         "False",
         "False",
         "False",
         "False",
         "False",
         "False",
         "False",
         "False",
         "False",
         "False",
         "False",
         "True",
         "False",
         "False",
         "False",
         "False",
         "False",
         "False",
         "False",
         "False",
         "False",
         "False",
         "False",
         "False",
         "False",
         "False",
         "False",
         "False",
         "False",
         "False",
         "False",
         "False",
         "False",
         "True",
         "False",
         "False",
         "False",
         "False",
         "False",
         "False",
         "False",
         "False",
         "False",
         "False",
         "False",
         "True",
         "False",
         "False",
         "False",
         "False",
         "False",
         "False",
         "False",
         "False",
         "False",
         "False",
         "False",
         "False",
         "False",
         "False",
         "False",
         "False",
         "False",
         "True",
         "False",
         "False",
         "False",
         "False",
         "False",
         "False",
         "False",
         "False",
         "False",
         "False",
         "False",
         "False",
         "False",
         "False",
         "False",
         "False",
         "False",
         "False",
         "False",
         "False",
         "False",
         "False",
         "False",
         "False",
         "False",
         "False",
         "False",
         "False",
         "False",
         "False",
         "False",
         "False",
         "False",
         "False",
         "False",
         "False",
         "False",
         "False",
         "False",
         "False",
         "False",
         "False",
         "False",
         "False",
         "False",
         "False",
         "False",
         "False",
         "False",
         "False",
         "False",
         "False",
         "False",
         "False",
         "False",
         "False",
         "False",
         "False",
         "False",
         "False",
         "False",
         "False",
         "False",
         "False",
         "False",
         "False",
         "False",
         "False",
         "False",
         "False",
         "False",
         "False",
         "False",
         "False",
         "False",
         "False",
         "False",
         "False",
         "False",
         "False",
         "False",
         "False",
         "False",
         "False",
         "False",
         "False",
         "False",
         "False",
         "False",
         "False",
         "False",
         "False",
         "False",
         "False",
         "False",
         "False",
         "False",
         "False",
         "False",
         "False",
         "False",
         "False",
         "False",
         "False",
         "False",
         "False",
         "False",
         "False",
         "False",
         "False",
         "False",
         "False",
         "False",
         "False",
         "False",
         "False",
         "False",
         "False",
         "False",
         "False",
         "False",
         "False",
         "False",
         "False",
         "False",
         "False",
         "False",
         "False",
         "False",
         "False",
         "False",
         "False",
         "False",
         "False",
         "False",
         "False",
         "False",
         "False",
         "False",
         "False",
         "False",
         "False",
         "False",
         "False",
         "False",
         "False",
         "False",
         "False",
         "False",
         "False",
         "False",
         "False",
         "False",
         "False",
         "False",
         "False",
         "False",
         "False",
         "False",
         "False",
         "False",
         "False",
         "False",
         "False",
         "False",
         "False",
         "False",
         "False",
         "False",
         "False",
         "False",
         "False",
         "False",
         "False",
         "False",
         "False",
         "False",
         "False",
         "False",
         "False",
         "False",
         "False",
         "False",
         "False",
         "False",
         "False",
         "False",
         "False",
         "False",
         "False",
         "False",
         "False",
         "False",
         "False",
         "False",
         "False",
         "False",
         "False",
         "False",
         "False",
         "False",
         "False",
         "False",
         "False",
         "False",
         "False",
         "False",
         "False",
         "False",
         "False",
         "False",
         "False",
         "False",
         "False",
         "False",
         "False",
         "False",
         "False",
         "False",
         "False",
         "False",
         "False",
         "False",
         "False",
         "False",
         "False",
         "False",
         "False",
         "False",
         "False",
         "False",
         "False",
         "False",
         "False",
         "False",
         "False",
         "False",
         "False",
         "False",
         "False",
         "False",
         "False",
         "False",
         "False",
         "False",
         "False",
         "False",
         "False",
         "False",
         "False",
         "False",
         "False",
         "False",
         "False",
         "False",
         "False",
         "False",
         "False",
         "False",
         "False",
         "False",
         "False",
         "False",
         "False",
         "False",
         "False",
         "False",
         "False",
         "False",
         "False",
         "False",
         "False",
         "False",
         "False",
         "False",
         "False",
         "False",
         "False",
         "False",
         "False",
         "False",
         "False",
         "False",
         "False",
         "False",
         "False",
         "False",
         "False",
         "False",
         "False"
        ]
       ],
       "shape": {
        "columns": 486,
        "rows": 5
       }
      },
      "text/html": [
       "<div>\n",
       "<style scoped>\n",
       "    .dataframe tbody tr th:only-of-type {\n",
       "        vertical-align: middle;\n",
       "    }\n",
       "\n",
       "    .dataframe tbody tr th {\n",
       "        vertical-align: top;\n",
       "    }\n",
       "\n",
       "    .dataframe thead th {\n",
       "        text-align: right;\n",
       "    }\n",
       "</style>\n",
       "<table border=\"1\" class=\"dataframe\">\n",
       "  <thead>\n",
       "    <tr style=\"text-align: right;\">\n",
       "      <th></th>\n",
       "      <th>Total Project Cost (KES)</th>\n",
       "      <th>Duration (Months)</th>\n",
       "      <th>Success</th>\n",
       "      <th>Funding Type_GoK; Unspecified</th>\n",
       "      <th>Funding Type_Grant</th>\n",
       "      <th>Funding Type_Grant; GoK</th>\n",
       "      <th>Funding Type_Grant; GoK; Unspecified</th>\n",
       "      <th>Funding Type_Grant; Unspecified</th>\n",
       "      <th>Funding Type_Loan</th>\n",
       "      <th>Funding Type_Loan ; GoK</th>\n",
       "      <th>...</th>\n",
       "      <th>Implementing Agency_MoHEST - NEP Technical Training Institute</th>\n",
       "      <th>Implementing Agency_MoHEST - Nkabune Technical Training Institute</th>\n",
       "      <th>Implementing Agency_MoHEST - Nyeri Technical Training Institute</th>\n",
       "      <th>Implementing Agency_MoHEST - Ramogi Institute of Advanced Technology</th>\n",
       "      <th>Implementing Agency_MoHEST - Rift Valley Institute of Science and Technology</th>\n",
       "      <th>Implementing Agency_MoHEST - Rift Valley Technical Training Institute</th>\n",
       "      <th>Implementing Agency_MoHEST - Wote Technical Training Institute</th>\n",
       "      <th>Implementing Agency_POPULATION SERVICES INTERNATIONAL (P.S.I)</th>\n",
       "      <th>Implementing Agency_Private Sector</th>\n",
       "      <th>Implementing Agency_Unspecified</th>\n",
       "    </tr>\n",
       "  </thead>\n",
       "  <tbody>\n",
       "    <tr>\n",
       "      <th>0</th>\n",
       "      <td>65600000.0</td>\n",
       "      <td>46.0</td>\n",
       "      <td>0</td>\n",
       "      <td>True</td>\n",
       "      <td>False</td>\n",
       "      <td>False</td>\n",
       "      <td>False</td>\n",
       "      <td>False</td>\n",
       "      <td>False</td>\n",
       "      <td>False</td>\n",
       "      <td>...</td>\n",
       "      <td>False</td>\n",
       "      <td>False</td>\n",
       "      <td>False</td>\n",
       "      <td>False</td>\n",
       "      <td>False</td>\n",
       "      <td>False</td>\n",
       "      <td>False</td>\n",
       "      <td>False</td>\n",
       "      <td>False</td>\n",
       "      <td>False</td>\n",
       "    </tr>\n",
       "    <tr>\n",
       "      <th>1</th>\n",
       "      <td>35000000.0</td>\n",
       "      <td>40.0</td>\n",
       "      <td>0</td>\n",
       "      <td>True</td>\n",
       "      <td>False</td>\n",
       "      <td>False</td>\n",
       "      <td>False</td>\n",
       "      <td>False</td>\n",
       "      <td>False</td>\n",
       "      <td>False</td>\n",
       "      <td>...</td>\n",
       "      <td>False</td>\n",
       "      <td>False</td>\n",
       "      <td>False</td>\n",
       "      <td>False</td>\n",
       "      <td>False</td>\n",
       "      <td>False</td>\n",
       "      <td>False</td>\n",
       "      <td>False</td>\n",
       "      <td>False</td>\n",
       "      <td>False</td>\n",
       "    </tr>\n",
       "    <tr>\n",
       "      <th>2</th>\n",
       "      <td>25000000.0</td>\n",
       "      <td>40.0</td>\n",
       "      <td>0</td>\n",
       "      <td>True</td>\n",
       "      <td>False</td>\n",
       "      <td>False</td>\n",
       "      <td>False</td>\n",
       "      <td>False</td>\n",
       "      <td>False</td>\n",
       "      <td>False</td>\n",
       "      <td>...</td>\n",
       "      <td>False</td>\n",
       "      <td>False</td>\n",
       "      <td>False</td>\n",
       "      <td>False</td>\n",
       "      <td>False</td>\n",
       "      <td>False</td>\n",
       "      <td>False</td>\n",
       "      <td>False</td>\n",
       "      <td>False</td>\n",
       "      <td>False</td>\n",
       "    </tr>\n",
       "    <tr>\n",
       "      <th>3</th>\n",
       "      <td>25000000.0</td>\n",
       "      <td>38.0</td>\n",
       "      <td>0</td>\n",
       "      <td>True</td>\n",
       "      <td>False</td>\n",
       "      <td>False</td>\n",
       "      <td>False</td>\n",
       "      <td>False</td>\n",
       "      <td>False</td>\n",
       "      <td>False</td>\n",
       "      <td>...</td>\n",
       "      <td>False</td>\n",
       "      <td>False</td>\n",
       "      <td>False</td>\n",
       "      <td>False</td>\n",
       "      <td>False</td>\n",
       "      <td>False</td>\n",
       "      <td>False</td>\n",
       "      <td>False</td>\n",
       "      <td>False</td>\n",
       "      <td>False</td>\n",
       "    </tr>\n",
       "    <tr>\n",
       "      <th>4</th>\n",
       "      <td>37500000.0</td>\n",
       "      <td>37.0</td>\n",
       "      <td>0</td>\n",
       "      <td>True</td>\n",
       "      <td>False</td>\n",
       "      <td>False</td>\n",
       "      <td>False</td>\n",
       "      <td>False</td>\n",
       "      <td>False</td>\n",
       "      <td>False</td>\n",
       "      <td>...</td>\n",
       "      <td>False</td>\n",
       "      <td>False</td>\n",
       "      <td>False</td>\n",
       "      <td>False</td>\n",
       "      <td>False</td>\n",
       "      <td>False</td>\n",
       "      <td>False</td>\n",
       "      <td>False</td>\n",
       "      <td>False</td>\n",
       "      <td>False</td>\n",
       "    </tr>\n",
       "  </tbody>\n",
       "</table>\n",
       "<p>5 rows × 486 columns</p>\n",
       "</div>"
      ],
      "text/plain": [
       "   Total Project Cost (KES)  Duration (Months)  Success  \\\n",
       "0                65600000.0               46.0        0   \n",
       "1                35000000.0               40.0        0   \n",
       "2                25000000.0               40.0        0   \n",
       "3                25000000.0               38.0        0   \n",
       "4                37500000.0               37.0        0   \n",
       "\n",
       "   Funding Type_GoK; Unspecified  Funding Type_Grant  Funding Type_Grant; GoK  \\\n",
       "0                           True               False                    False   \n",
       "1                           True               False                    False   \n",
       "2                           True               False                    False   \n",
       "3                           True               False                    False   \n",
       "4                           True               False                    False   \n",
       "\n",
       "   Funding Type_Grant; GoK; Unspecified  Funding Type_Grant; Unspecified  \\\n",
       "0                                 False                            False   \n",
       "1                                 False                            False   \n",
       "2                                 False                            False   \n",
       "3                                 False                            False   \n",
       "4                                 False                            False   \n",
       "\n",
       "   Funding Type_Loan  Funding Type_Loan ; GoK  ...  \\\n",
       "0              False                    False  ...   \n",
       "1              False                    False  ...   \n",
       "2              False                    False  ...   \n",
       "3              False                    False  ...   \n",
       "4              False                    False  ...   \n",
       "\n",
       "   Implementing Agency_MoHEST - NEP Technical Training Institute  \\\n",
       "0                                              False               \n",
       "1                                              False               \n",
       "2                                              False               \n",
       "3                                              False               \n",
       "4                                              False               \n",
       "\n",
       "   Implementing Agency_MoHEST - Nkabune Technical Training Institute  \\\n",
       "0                                              False                   \n",
       "1                                              False                   \n",
       "2                                              False                   \n",
       "3                                              False                   \n",
       "4                                              False                   \n",
       "\n",
       "   Implementing Agency_MoHEST - Nyeri Technical Training Institute  \\\n",
       "0                                              False                 \n",
       "1                                              False                 \n",
       "2                                              False                 \n",
       "3                                              False                 \n",
       "4                                              False                 \n",
       "\n",
       "   Implementing Agency_MoHEST - Ramogi Institute of Advanced Technology  \\\n",
       "0                                              False                      \n",
       "1                                              False                      \n",
       "2                                              False                      \n",
       "3                                              False                      \n",
       "4                                              False                      \n",
       "\n",
       "   Implementing Agency_MoHEST - Rift Valley Institute of Science and Technology  \\\n",
       "0                                              False                              \n",
       "1                                              False                              \n",
       "2                                              False                              \n",
       "3                                              False                              \n",
       "4                                              False                              \n",
       "\n",
       "   Implementing Agency_MoHEST - Rift Valley Technical Training Institute  \\\n",
       "0                                              False                       \n",
       "1                                              False                       \n",
       "2                                              False                       \n",
       "3                                              False                       \n",
       "4                                              False                       \n",
       "\n",
       "   Implementing Agency_MoHEST - Wote Technical Training Institute  \\\n",
       "0                                              False                \n",
       "1                                              False                \n",
       "2                                              False                \n",
       "3                                              False                \n",
       "4                                              False                \n",
       "\n",
       "   Implementing Agency_POPULATION SERVICES INTERNATIONAL (P.S.I)  \\\n",
       "0                                              False               \n",
       "1                                              False               \n",
       "2                                              False               \n",
       "3                                              False               \n",
       "4                                              False               \n",
       "\n",
       "   Implementing Agency_Private Sector  Implementing Agency_Unspecified  \n",
       "0                               False                            False  \n",
       "1                               False                            False  \n",
       "2                               False                            False  \n",
       "3                               False                            False  \n",
       "4                               False                            False  \n",
       "\n",
       "[5 rows x 486 columns]"
      ]
     },
     "execution_count": 12,
     "metadata": {},
     "output_type": "execute_result"
    }
   ],
   "source": [
    "# Data cleaning and preprocessing \n",
    "\n",
    "# Rename columns using the second row\n",
    "df.columns = df.iloc[1]\n",
    "df = df[2:].reset_index(drop=True)\n",
    "\n",
    "# Drop any remaining unnamed columns with mostly missing data\n",
    "df = df.dropna(axis=1, how='all')\n",
    "\n",
    "# Rename columns to match expected names\n",
    "df.columns = [\n",
    "    \"Project\", \"Project Title\", \"Total Project Cost (KES)\", \"Funding Type\", \n",
    "    \"Funding Source\", \"Start Date (Planned)\", \"Start Date (Actual)\", \n",
    "    \"Duration (Months)\", \"Vision 2030 Flagship Ministry\", \"MTEF Sector\",\n",
    "    \"Implementing Agency\", \"Implementation Status\", \"Success\"\n",
    "]\n",
    "\n",
    "# Keep relevant columns\n",
    "columns_to_keep = [\n",
    "    \"Project\", \"Project Title\", \"Total Project Cost (KES)\", \"Funding Type\", \n",
    "    \"Funding Source\", \"Start Date (Planned)\", \"Start Date (Actual)\", \n",
    "    \"Duration (Months)\", \"Vision 2030 Flagship Ministry\", \"MTEF Sector\",\n",
    "    \"Implementing Agency\", \"Implementation Status\"\n",
    "]\n",
    "df = df[columns_to_keep]\n",
    "\n",
    "# Drop rows with missing critical data\n",
    "df = df.dropna(subset=[\"Project Title\", \"Total Project Cost (KES)\", \"Implementation Status\"])\n",
    "\n",
    "# Clean cost column\n",
    "df[\"Total Project Cost (KES)\"] = df[\"Total Project Cost (KES)\"].replace({',': ''}, regex=True)\n",
    "\n",
    "# Remove non-numeric rows (e.g., headers or invalid data)\n",
    "df = df[pd.to_numeric(df[\"Total Project Cost (KES)\"], errors=\"coerce\").notnull()]\n",
    "\n",
    "# Convert to float\n",
    "df[\"Total Project Cost (KES)\"] = df[\"Total Project Cost (KES)\"].astype(float)\n",
    "\n",
    "# Convert start dates\n",
    "df[\"Start Date (Planned)\"] = pd.to_datetime(df[\"Start Date (Planned)\"], errors=\"coerce\")\n",
    "df[\"Start Date (Actual)\"] = pd.to_datetime(df[\"Start Date (Actual)\"], errors=\"coerce\")\n",
    "\n",
    "# Clean duration\n",
    "df[\"Duration (Months)\"] = df[\"Duration (Months)\"].astype(str).str.extract(r'(\\d+)').astype(float)\n",
    "\n",
    "# Create binary target label\n",
    "df[\"Success\"] = df[\"Implementation Status\"].apply(lambda x: 1 if \"Completed\" in str(x) else 0)\n",
    "\n",
    "# Drop unused columns\n",
    "df_model = df.drop(columns=[\"Project\", \"Project Title\", \"Start Date (Planned)\", \"Start Date (Actual)\", \"Implementation Status\"])\n",
    "\n",
    "# One-hot encoding\n",
    "df_model = pd.get_dummies(df_model, drop_first=True)\n",
    "\n",
    "# Preview processed data\n",
    "df_model.head()\n"
   ]
  },
  {
   "cell_type": "code",
   "execution_count": 18,
   "id": "87ba6ce8",
   "metadata": {},
   "outputs": [
    {
     "name": "stdout",
     "output_type": "stream",
     "text": [
      "Columns: ['project', 'project_title', 'total_project_cost_(kes)', 'funding_type', 'funding_source', 'start_date_(planned)', 'start_date_(actual)', 'duration_(months)', 'vision_2030_flagship_ministry', 'mtef_sector', 'implementing_agency', 'implementation_status', 'success']\n",
      "<class 'pandas.core.frame.DataFrame'>\n",
      "Index: 2840 entries, 0 to 6346\n",
      "Data columns (total 13 columns):\n",
      " #   Column                         Non-Null Count  Dtype         \n",
      "---  ------                         --------------  -----         \n",
      " 0   project                        2840 non-null   object        \n",
      " 1   project_title                  2840 non-null   object        \n",
      " 2   total_project_cost_(kes)       2840 non-null   float64       \n",
      " 3   funding_type                   2840 non-null   object        \n",
      " 4   funding_source                 2840 non-null   object        \n",
      " 5   start_date_(planned)           1946 non-null   datetime64[ns]\n",
      " 6   start_date_(actual)            2105 non-null   datetime64[ns]\n",
      " 7   duration_(months)              2840 non-null   float64       \n",
      " 8   vision_2030_flagship_ministry  2840 non-null   object        \n",
      " 9   mtef_sector                    2840 non-null   object        \n",
      " 10  implementing_agency            2840 non-null   object        \n",
      " 11  implementation_status          2840 non-null   object        \n",
      " 12  success                        2840 non-null   int64         \n",
      "dtypes: datetime64[ns](2), float64(2), int64(1), object(8)\n",
      "memory usage: 310.6+ KB\n",
      "\n",
      "Missing values:\n",
      " project                            0\n",
      "project_title                      0\n",
      "total_project_cost_(kes)           0\n",
      "funding_type                       0\n",
      "funding_source                     0\n",
      "start_date_(planned)             894\n",
      "start_date_(actual)              735\n",
      "duration_(months)                  0\n",
      "vision_2030_flagship_ministry      0\n",
      "mtef_sector                        0\n",
      "implementing_agency                0\n",
      "implementation_status              0\n",
      "success                            0\n",
      "dtype: int64\n"
     ]
    },
    {
     "name": "stderr",
     "output_type": "stream",
     "text": [
      "C:\\Users\\Joyce\\AppData\\Local\\Temp\\ipykernel_27828\\3171393661.py:28: FutureWarning: A value is trying to be set on a copy of a DataFrame or Series through chained assignment using an inplace method.\n",
      "The behavior will change in pandas 3.0. This inplace method will never work because the intermediate object on which we are setting values always behaves as a copy.\n",
      "\n",
      "For example, when doing 'df[col].method(value, inplace=True)', try using 'df.method({col: value}, inplace=True)' or df[col] = df[col].method(value) instead, to perform the operation inplace on the original object.\n",
      "\n",
      "\n",
      "  df[\"start_date_(actual)\"].fillna(df[\"start_date_(planned)\"], inplace=True)\n"
     ]
    },
    {
     "data": {
      "application/vnd.microsoft.datawrangler.viewer.v0+json": {
       "columns": [
        {
         "name": "index",
         "rawType": "int64",
         "type": "integer"
        },
        {
         "name": "project",
         "rawType": "object",
         "type": "string"
        },
        {
         "name": "project_title",
         "rawType": "object",
         "type": "string"
        },
        {
         "name": "total_project_cost_(kes)",
         "rawType": "float64",
         "type": "float"
        },
        {
         "name": "funding_type",
         "rawType": "object",
         "type": "string"
        },
        {
         "name": "funding_source",
         "rawType": "object",
         "type": "string"
        },
        {
         "name": "start_date_(planned)",
         "rawType": "datetime64[ns]",
         "type": "datetime"
        },
        {
         "name": "start_date_(actual)",
         "rawType": "datetime64[ns]",
         "type": "datetime"
        },
        {
         "name": "duration_(months)",
         "rawType": "float64",
         "type": "float"
        },
        {
         "name": "vision_2030_flagship_ministry",
         "rawType": "object",
         "type": "string"
        },
        {
         "name": "mtef_sector",
         "rawType": "object",
         "type": "string"
        },
        {
         "name": "implementing_agency",
         "rawType": "object",
         "type": "string"
        },
        {
         "name": "implementation_status",
         "rawType": "object",
         "type": "string"
        },
        {
         "name": "success",
         "rawType": "int64",
         "type": "integer"
        }
       ],
       "conversionMethod": "pd.DataFrame",
       "ref": "8d018e52-ef1d-438a-9e02-c7905bfab562",
       "rows": [
        [
         "0",
         "2010/051503",
         "Construction Of Nzaui District Headquarters",
         "65600000.0",
         "gok; unspecified",
         "government of kenya",
         "2008-08-03 00:00:00",
         "2008-04-03 00:00:00",
         "46.0",
         "unspecified",
         "governance, justice, law and order (gjlos)",
         "102 - ministry of interior and coordination of national government",
         "Ongoing",
         "0"
        ],
        [
         "1",
         "2010/051509",
         "Construction Of Kibwezi District Headquarters",
         "35000000.0",
         "gok; unspecified",
         "government of kenya",
         "2009-02-03 00:00:00",
         "2009-02-03 00:00:00",
         "40.0",
         "unspecified",
         "governance, justice, law and order (gjlos)",
         "102 - ministry of interior and coordination of national government",
         "Ongoing",
         "0"
        ],
        [
         "2",
         "2010/051517",
         "Construction Of Meru Central District Headquarters",
         "25000000.0",
         "gok; unspecified",
         "government of kenya",
         "2009-02-04 00:00:00",
         "2009-02-04 00:00:00",
         "40.0",
         "unspecified",
         "governance, justice, law and order (gjlos)",
         "102 - ministry of interior and coordination of national government",
         "Ongoing",
         "0"
        ],
        [
         "3",
         "2010/051518",
         "Construction Of Imenti South District Headquarters",
         "25000000.0",
         "gok; unspecified",
         "government of kenya",
         null,
         "2009-05-01 00:00:00",
         "38.0",
         "unspecified",
         "governance, justice, law and order (gjlos)",
         "102 - ministry of interior and coordination of national government",
         "Ongoing",
         "0"
        ],
        [
         "4",
         "2010/051519",
         "Construction Of Lagdera District Headquarters",
         "37500000.0",
         "gok; unspecified",
         "government of kenya",
         "2009-05-01 00:00:00",
         "2009-06-01 00:00:00",
         "37.0",
         "unspecified",
         "governance, justice, law and order (gjlos)",
         "102 - ministry of interior and coordination of national government",
         "Ongoing",
         "0"
        ]
       ],
       "shape": {
        "columns": 13,
        "rows": 5
       }
      },
      "text/html": [
       "<div>\n",
       "<style scoped>\n",
       "    .dataframe tbody tr th:only-of-type {\n",
       "        vertical-align: middle;\n",
       "    }\n",
       "\n",
       "    .dataframe tbody tr th {\n",
       "        vertical-align: top;\n",
       "    }\n",
       "\n",
       "    .dataframe thead th {\n",
       "        text-align: right;\n",
       "    }\n",
       "</style>\n",
       "<table border=\"1\" class=\"dataframe\">\n",
       "  <thead>\n",
       "    <tr style=\"text-align: right;\">\n",
       "      <th></th>\n",
       "      <th>project</th>\n",
       "      <th>project_title</th>\n",
       "      <th>total_project_cost_(kes)</th>\n",
       "      <th>funding_type</th>\n",
       "      <th>funding_source</th>\n",
       "      <th>start_date_(planned)</th>\n",
       "      <th>start_date_(actual)</th>\n",
       "      <th>duration_(months)</th>\n",
       "      <th>vision_2030_flagship_ministry</th>\n",
       "      <th>mtef_sector</th>\n",
       "      <th>implementing_agency</th>\n",
       "      <th>implementation_status</th>\n",
       "      <th>success</th>\n",
       "    </tr>\n",
       "  </thead>\n",
       "  <tbody>\n",
       "    <tr>\n",
       "      <th>0</th>\n",
       "      <td>2010/051503</td>\n",
       "      <td>Construction Of Nzaui District Headquarters</td>\n",
       "      <td>65600000.0</td>\n",
       "      <td>gok; unspecified</td>\n",
       "      <td>government of kenya</td>\n",
       "      <td>2008-08-03</td>\n",
       "      <td>2008-04-03</td>\n",
       "      <td>46.0</td>\n",
       "      <td>unspecified</td>\n",
       "      <td>governance, justice, law and order (gjlos)</td>\n",
       "      <td>102 - ministry of interior and coordination of...</td>\n",
       "      <td>Ongoing</td>\n",
       "      <td>0</td>\n",
       "    </tr>\n",
       "    <tr>\n",
       "      <th>1</th>\n",
       "      <td>2010/051509</td>\n",
       "      <td>Construction Of Kibwezi District Headquarters</td>\n",
       "      <td>35000000.0</td>\n",
       "      <td>gok; unspecified</td>\n",
       "      <td>government of kenya</td>\n",
       "      <td>2009-02-03</td>\n",
       "      <td>2009-02-03</td>\n",
       "      <td>40.0</td>\n",
       "      <td>unspecified</td>\n",
       "      <td>governance, justice, law and order (gjlos)</td>\n",
       "      <td>102 - ministry of interior and coordination of...</td>\n",
       "      <td>Ongoing</td>\n",
       "      <td>0</td>\n",
       "    </tr>\n",
       "    <tr>\n",
       "      <th>2</th>\n",
       "      <td>2010/051517</td>\n",
       "      <td>Construction Of Meru Central District Headquar...</td>\n",
       "      <td>25000000.0</td>\n",
       "      <td>gok; unspecified</td>\n",
       "      <td>government of kenya</td>\n",
       "      <td>2009-02-04</td>\n",
       "      <td>2009-02-04</td>\n",
       "      <td>40.0</td>\n",
       "      <td>unspecified</td>\n",
       "      <td>governance, justice, law and order (gjlos)</td>\n",
       "      <td>102 - ministry of interior and coordination of...</td>\n",
       "      <td>Ongoing</td>\n",
       "      <td>0</td>\n",
       "    </tr>\n",
       "    <tr>\n",
       "      <th>3</th>\n",
       "      <td>2010/051518</td>\n",
       "      <td>Construction Of Imenti South District Headquar...</td>\n",
       "      <td>25000000.0</td>\n",
       "      <td>gok; unspecified</td>\n",
       "      <td>government of kenya</td>\n",
       "      <td>NaT</td>\n",
       "      <td>2009-05-01</td>\n",
       "      <td>38.0</td>\n",
       "      <td>unspecified</td>\n",
       "      <td>governance, justice, law and order (gjlos)</td>\n",
       "      <td>102 - ministry of interior and coordination of...</td>\n",
       "      <td>Ongoing</td>\n",
       "      <td>0</td>\n",
       "    </tr>\n",
       "    <tr>\n",
       "      <th>4</th>\n",
       "      <td>2010/051519</td>\n",
       "      <td>Construction Of Lagdera District Headquarters</td>\n",
       "      <td>37500000.0</td>\n",
       "      <td>gok; unspecified</td>\n",
       "      <td>government of kenya</td>\n",
       "      <td>2009-05-01</td>\n",
       "      <td>2009-06-01</td>\n",
       "      <td>37.0</td>\n",
       "      <td>unspecified</td>\n",
       "      <td>governance, justice, law and order (gjlos)</td>\n",
       "      <td>102 - ministry of interior and coordination of...</td>\n",
       "      <td>Ongoing</td>\n",
       "      <td>0</td>\n",
       "    </tr>\n",
       "  </tbody>\n",
       "</table>\n",
       "</div>"
      ],
      "text/plain": [
       "       project                                      project_title  \\\n",
       "0  2010/051503        Construction Of Nzaui District Headquarters   \n",
       "1  2010/051509      Construction Of Kibwezi District Headquarters   \n",
       "2  2010/051517  Construction Of Meru Central District Headquar...   \n",
       "3  2010/051518  Construction Of Imenti South District Headquar...   \n",
       "4  2010/051519      Construction Of Lagdera District Headquarters   \n",
       "\n",
       "   total_project_cost_(kes)      funding_type       funding_source  \\\n",
       "0                65600000.0  gok; unspecified  government of kenya   \n",
       "1                35000000.0  gok; unspecified  government of kenya   \n",
       "2                25000000.0  gok; unspecified  government of kenya   \n",
       "3                25000000.0  gok; unspecified  government of kenya   \n",
       "4                37500000.0  gok; unspecified  government of kenya   \n",
       "\n",
       "  start_date_(planned) start_date_(actual)  duration_(months)  \\\n",
       "0           2008-08-03          2008-04-03               46.0   \n",
       "1           2009-02-03          2009-02-03               40.0   \n",
       "2           2009-02-04          2009-02-04               40.0   \n",
       "3                  NaT          2009-05-01               38.0   \n",
       "4           2009-05-01          2009-06-01               37.0   \n",
       "\n",
       "  vision_2030_flagship_ministry                                 mtef_sector  \\\n",
       "0                   unspecified  governance, justice, law and order (gjlos)   \n",
       "1                   unspecified  governance, justice, law and order (gjlos)   \n",
       "2                   unspecified  governance, justice, law and order (gjlos)   \n",
       "3                   unspecified  governance, justice, law and order (gjlos)   \n",
       "4                   unspecified  governance, justice, law and order (gjlos)   \n",
       "\n",
       "                                 implementing_agency implementation_status  \\\n",
       "0  102 - ministry of interior and coordination of...               Ongoing   \n",
       "1  102 - ministry of interior and coordination of...               Ongoing   \n",
       "2  102 - ministry of interior and coordination of...               Ongoing   \n",
       "3  102 - ministry of interior and coordination of...               Ongoing   \n",
       "4  102 - ministry of interior and coordination of...               Ongoing   \n",
       "\n",
       "   success  \n",
       "0        0  \n",
       "1        0  \n",
       "2        0  \n",
       "3        0  \n",
       "4        0  "
      ]
     },
     "execution_count": 18,
     "metadata": {},
     "output_type": "execute_result"
    }
   ],
   "source": [
    "# Standardize column names\n",
    "df.columns = [col.strip().replace(\" \", \"_\").lower() for col in df.columns]\n",
    "\n",
    "# Confirm column names\n",
    "print(\"Columns:\", df.columns.tolist())\n",
    "\n",
    "# Handle missing values in key fields\n",
    "df = df.dropna(subset=[\"project\", \"implementation_status\"])\n",
    "\n",
    "# Clean total project cost\n",
    "df[\"total_project_cost_(kes)\"] = (\n",
    "    df[\"total_project_cost_(kes)\"]\n",
    "    .astype(str)  # Ensure the column is treated as strings\n",
    "    .str.replace(\",\", \"\", regex=False)\n",
    "    .str.extract(r\"(\\d+)\", expand=False)\n",
    "    .astype(float)\n",
    ")\n",
    "\n",
    "# Clean duration to numeric\n",
    "df[\"duration_(months)\"] = (\n",
    "    df[\"duration_(months)\"]\n",
    "    .astype(str)  # Ensure the column is treated as strings\n",
    "    .str.extract(r\"(\\d+)\", expand=False)\n",
    "    .astype(float)\n",
    ")\n",
    "\n",
    "# Fill missing actual start dates with planned dates\n",
    "df[\"start_date_(actual)\"].fillna(df[\"start_date_(planned)\"], inplace=True)\n",
    "\n",
    "# Handle missing categorical fields\n",
    "categorical_cols = [\n",
    "    \"funding_type\", \"funding_source\",\n",
    "    \"vision_2030_flagship_ministry\", \"mtef_sector\", \"implementing_agency\"\n",
    "]\n",
    "df[categorical_cols] = df[categorical_cols].fillna(\"Unknown\")\n",
    "\n",
    "# Remove duplicates\n",
    "df = df.drop_duplicates()\n",
    "\n",
    "# Standardize categorical values (lowercase, no extra spaces)\n",
    "df[categorical_cols] = df[categorical_cols].apply(lambda x: x.str.lower().str.strip())\n",
    "\n",
    "# Show info and remaining nulls\n",
    "df.info()\n",
    "print(\"\\nMissing values:\\n\", df.isnull().sum())\n",
    "\n",
    "df.head()\n"
   ]
  },
  {
   "cell_type": "code",
   "execution_count": 42,
   "id": "84352bb7",
   "metadata": {},
   "outputs": [
    {
     "name": "stdout",
     "output_type": "stream",
     "text": [
      "Requirement already satisfied: plotly in c:\\users\\joyce\\appdata\\local\\packages\\pythonsoftwarefoundation.python.3.11_qbz5n2kfra8p0\\localcache\\local-packages\\python311\\site-packages (5.24.1)\n",
      "Requirement already satisfied: tenacity>=6.2.0 in c:\\users\\joyce\\appdata\\local\\packages\\pythonsoftwarefoundation.python.3.11_qbz5n2kfra8p0\\localcache\\local-packages\\python311\\site-packages (from plotly) (9.0.0)\n",
      "Requirement already satisfied: packaging in c:\\users\\joyce\\appdata\\local\\packages\\pythonsoftwarefoundation.python.3.11_qbz5n2kfra8p0\\localcache\\local-packages\\python311\\site-packages (from plotly) (24.1)\n",
      "Note: you may need to restart the kernel to use updated packages.\n"
     ]
    }
   ],
   "source": [
    "%pip install plotly\n"
   ]
  },
  {
   "cell_type": "code",
   "execution_count": 55,
   "id": "d89057f4",
   "metadata": {},
   "outputs": [
    {
     "data": {
      "application/vnd.plotly.v1+json": {
       "config": {
        "plotlyServerURL": "https://plot.ly"
       },
       "data": [
        {
         "hovertemplate": "Year=%{x}<br>Number of Projects=%{y}<extra></extra>",
         "legendgroup": "",
         "line": {
          "color": "#636EFA",
          "dash": "solid",
          "shape": "linear"
         },
         "marker": {
          "symbol": "circle"
         },
         "mode": "lines+markers",
         "name": "",
         "orientation": "v",
         "showlegend": false,
         "type": "scatter",
         "x": [
          1983,
          1986,
          1988,
          1994,
          1999,
          2000,
          2002,
          2003,
          2004,
          2005,
          2006,
          2007,
          2008,
          2009,
          2010,
          2011,
          2012,
          2013,
          2014,
          2015
         ],
         "xaxis": "x",
         "y": [
          1,
          1,
          1,
          2,
          1,
          1,
          1,
          8,
          10,
          20,
          29,
          57,
          104,
          275,
          437,
          279,
          267,
          177,
          318,
          116
         ],
         "yaxis": "y"
        }
       ],
       "layout": {
        "legend": {
         "tracegroupgap": 0
        },
        "paper_bgcolor": "white",
        "plot_bgcolor": "white",
        "template": {
         "data": {
          "bar": [
           {
            "error_x": {
             "color": "#2a3f5f"
            },
            "error_y": {
             "color": "#2a3f5f"
            },
            "marker": {
             "line": {
              "color": "#E5ECF6",
              "width": 0.5
             },
             "pattern": {
              "fillmode": "overlay",
              "size": 10,
              "solidity": 0.2
             }
            },
            "type": "bar"
           }
          ],
          "barpolar": [
           {
            "marker": {
             "line": {
              "color": "#E5ECF6",
              "width": 0.5
             },
             "pattern": {
              "fillmode": "overlay",
              "size": 10,
              "solidity": 0.2
             }
            },
            "type": "barpolar"
           }
          ],
          "carpet": [
           {
            "aaxis": {
             "endlinecolor": "#2a3f5f",
             "gridcolor": "white",
             "linecolor": "white",
             "minorgridcolor": "white",
             "startlinecolor": "#2a3f5f"
            },
            "baxis": {
             "endlinecolor": "#2a3f5f",
             "gridcolor": "white",
             "linecolor": "white",
             "minorgridcolor": "white",
             "startlinecolor": "#2a3f5f"
            },
            "type": "carpet"
           }
          ],
          "choropleth": [
           {
            "colorbar": {
             "outlinewidth": 0,
             "ticks": ""
            },
            "type": "choropleth"
           }
          ],
          "contour": [
           {
            "colorbar": {
             "outlinewidth": 0,
             "ticks": ""
            },
            "colorscale": [
             [
              0,
              "#0d0887"
             ],
             [
              0.1111111111111111,
              "#46039f"
             ],
             [
              0.2222222222222222,
              "#7201a8"
             ],
             [
              0.3333333333333333,
              "#9c179e"
             ],
             [
              0.4444444444444444,
              "#bd3786"
             ],
             [
              0.5555555555555556,
              "#d8576b"
             ],
             [
              0.6666666666666666,
              "#ed7953"
             ],
             [
              0.7777777777777778,
              "#fb9f3a"
             ],
             [
              0.8888888888888888,
              "#fdca26"
             ],
             [
              1,
              "#f0f921"
             ]
            ],
            "type": "contour"
           }
          ],
          "contourcarpet": [
           {
            "colorbar": {
             "outlinewidth": 0,
             "ticks": ""
            },
            "type": "contourcarpet"
           }
          ],
          "heatmap": [
           {
            "colorbar": {
             "outlinewidth": 0,
             "ticks": ""
            },
            "colorscale": [
             [
              0,
              "#0d0887"
             ],
             [
              0.1111111111111111,
              "#46039f"
             ],
             [
              0.2222222222222222,
              "#7201a8"
             ],
             [
              0.3333333333333333,
              "#9c179e"
             ],
             [
              0.4444444444444444,
              "#bd3786"
             ],
             [
              0.5555555555555556,
              "#d8576b"
             ],
             [
              0.6666666666666666,
              "#ed7953"
             ],
             [
              0.7777777777777778,
              "#fb9f3a"
             ],
             [
              0.8888888888888888,
              "#fdca26"
             ],
             [
              1,
              "#f0f921"
             ]
            ],
            "type": "heatmap"
           }
          ],
          "heatmapgl": [
           {
            "colorbar": {
             "outlinewidth": 0,
             "ticks": ""
            },
            "colorscale": [
             [
              0,
              "#0d0887"
             ],
             [
              0.1111111111111111,
              "#46039f"
             ],
             [
              0.2222222222222222,
              "#7201a8"
             ],
             [
              0.3333333333333333,
              "#9c179e"
             ],
             [
              0.4444444444444444,
              "#bd3786"
             ],
             [
              0.5555555555555556,
              "#d8576b"
             ],
             [
              0.6666666666666666,
              "#ed7953"
             ],
             [
              0.7777777777777778,
              "#fb9f3a"
             ],
             [
              0.8888888888888888,
              "#fdca26"
             ],
             [
              1,
              "#f0f921"
             ]
            ],
            "type": "heatmapgl"
           }
          ],
          "histogram": [
           {
            "marker": {
             "pattern": {
              "fillmode": "overlay",
              "size": 10,
              "solidity": 0.2
             }
            },
            "type": "histogram"
           }
          ],
          "histogram2d": [
           {
            "colorbar": {
             "outlinewidth": 0,
             "ticks": ""
            },
            "colorscale": [
             [
              0,
              "#0d0887"
             ],
             [
              0.1111111111111111,
              "#46039f"
             ],
             [
              0.2222222222222222,
              "#7201a8"
             ],
             [
              0.3333333333333333,
              "#9c179e"
             ],
             [
              0.4444444444444444,
              "#bd3786"
             ],
             [
              0.5555555555555556,
              "#d8576b"
             ],
             [
              0.6666666666666666,
              "#ed7953"
             ],
             [
              0.7777777777777778,
              "#fb9f3a"
             ],
             [
              0.8888888888888888,
              "#fdca26"
             ],
             [
              1,
              "#f0f921"
             ]
            ],
            "type": "histogram2d"
           }
          ],
          "histogram2dcontour": [
           {
            "colorbar": {
             "outlinewidth": 0,
             "ticks": ""
            },
            "colorscale": [
             [
              0,
              "#0d0887"
             ],
             [
              0.1111111111111111,
              "#46039f"
             ],
             [
              0.2222222222222222,
              "#7201a8"
             ],
             [
              0.3333333333333333,
              "#9c179e"
             ],
             [
              0.4444444444444444,
              "#bd3786"
             ],
             [
              0.5555555555555556,
              "#d8576b"
             ],
             [
              0.6666666666666666,
              "#ed7953"
             ],
             [
              0.7777777777777778,
              "#fb9f3a"
             ],
             [
              0.8888888888888888,
              "#fdca26"
             ],
             [
              1,
              "#f0f921"
             ]
            ],
            "type": "histogram2dcontour"
           }
          ],
          "mesh3d": [
           {
            "colorbar": {
             "outlinewidth": 0,
             "ticks": ""
            },
            "type": "mesh3d"
           }
          ],
          "parcoords": [
           {
            "line": {
             "colorbar": {
              "outlinewidth": 0,
              "ticks": ""
             }
            },
            "type": "parcoords"
           }
          ],
          "pie": [
           {
            "automargin": true,
            "type": "pie"
           }
          ],
          "scatter": [
           {
            "fillpattern": {
             "fillmode": "overlay",
             "size": 10,
             "solidity": 0.2
            },
            "type": "scatter"
           }
          ],
          "scatter3d": [
           {
            "line": {
             "colorbar": {
              "outlinewidth": 0,
              "ticks": ""
             }
            },
            "marker": {
             "colorbar": {
              "outlinewidth": 0,
              "ticks": ""
             }
            },
            "type": "scatter3d"
           }
          ],
          "scattercarpet": [
           {
            "marker": {
             "colorbar": {
              "outlinewidth": 0,
              "ticks": ""
             }
            },
            "type": "scattercarpet"
           }
          ],
          "scattergeo": [
           {
            "marker": {
             "colorbar": {
              "outlinewidth": 0,
              "ticks": ""
             }
            },
            "type": "scattergeo"
           }
          ],
          "scattergl": [
           {
            "marker": {
             "colorbar": {
              "outlinewidth": 0,
              "ticks": ""
             }
            },
            "type": "scattergl"
           }
          ],
          "scattermapbox": [
           {
            "marker": {
             "colorbar": {
              "outlinewidth": 0,
              "ticks": ""
             }
            },
            "type": "scattermapbox"
           }
          ],
          "scatterpolar": [
           {
            "marker": {
             "colorbar": {
              "outlinewidth": 0,
              "ticks": ""
             }
            },
            "type": "scatterpolar"
           }
          ],
          "scatterpolargl": [
           {
            "marker": {
             "colorbar": {
              "outlinewidth": 0,
              "ticks": ""
             }
            },
            "type": "scatterpolargl"
           }
          ],
          "scatterternary": [
           {
            "marker": {
             "colorbar": {
              "outlinewidth": 0,
              "ticks": ""
             }
            },
            "type": "scatterternary"
           }
          ],
          "surface": [
           {
            "colorbar": {
             "outlinewidth": 0,
             "ticks": ""
            },
            "colorscale": [
             [
              0,
              "#0d0887"
             ],
             [
              0.1111111111111111,
              "#46039f"
             ],
             [
              0.2222222222222222,
              "#7201a8"
             ],
             [
              0.3333333333333333,
              "#9c179e"
             ],
             [
              0.4444444444444444,
              "#bd3786"
             ],
             [
              0.5555555555555556,
              "#d8576b"
             ],
             [
              0.6666666666666666,
              "#ed7953"
             ],
             [
              0.7777777777777778,
              "#fb9f3a"
             ],
             [
              0.8888888888888888,
              "#fdca26"
             ],
             [
              1,
              "#f0f921"
             ]
            ],
            "type": "surface"
           }
          ],
          "table": [
           {
            "cells": {
             "fill": {
              "color": "#EBF0F8"
             },
             "line": {
              "color": "white"
             }
            },
            "header": {
             "fill": {
              "color": "#C8D4E3"
             },
             "line": {
              "color": "white"
             }
            },
            "type": "table"
           }
          ]
         },
         "layout": {
          "annotationdefaults": {
           "arrowcolor": "#2a3f5f",
           "arrowhead": 0,
           "arrowwidth": 1
          },
          "autotypenumbers": "strict",
          "coloraxis": {
           "colorbar": {
            "outlinewidth": 0,
            "ticks": ""
           }
          },
          "colorscale": {
           "diverging": [
            [
             0,
             "#8e0152"
            ],
            [
             0.1,
             "#c51b7d"
            ],
            [
             0.2,
             "#de77ae"
            ],
            [
             0.3,
             "#f1b6da"
            ],
            [
             0.4,
             "#fde0ef"
            ],
            [
             0.5,
             "#f7f7f7"
            ],
            [
             0.6,
             "#e6f5d0"
            ],
            [
             0.7,
             "#b8e186"
            ],
            [
             0.8,
             "#7fbc41"
            ],
            [
             0.9,
             "#4d9221"
            ],
            [
             1,
             "#276419"
            ]
           ],
           "sequential": [
            [
             0,
             "#0d0887"
            ],
            [
             0.1111111111111111,
             "#46039f"
            ],
            [
             0.2222222222222222,
             "#7201a8"
            ],
            [
             0.3333333333333333,
             "#9c179e"
            ],
            [
             0.4444444444444444,
             "#bd3786"
            ],
            [
             0.5555555555555556,
             "#d8576b"
            ],
            [
             0.6666666666666666,
             "#ed7953"
            ],
            [
             0.7777777777777778,
             "#fb9f3a"
            ],
            [
             0.8888888888888888,
             "#fdca26"
            ],
            [
             1,
             "#f0f921"
            ]
           ],
           "sequentialminus": [
            [
             0,
             "#0d0887"
            ],
            [
             0.1111111111111111,
             "#46039f"
            ],
            [
             0.2222222222222222,
             "#7201a8"
            ],
            [
             0.3333333333333333,
             "#9c179e"
            ],
            [
             0.4444444444444444,
             "#bd3786"
            ],
            [
             0.5555555555555556,
             "#d8576b"
            ],
            [
             0.6666666666666666,
             "#ed7953"
            ],
            [
             0.7777777777777778,
             "#fb9f3a"
            ],
            [
             0.8888888888888888,
             "#fdca26"
            ],
            [
             1,
             "#f0f921"
            ]
           ]
          },
          "colorway": [
           "#636efa",
           "#EF553B",
           "#00cc96",
           "#ab63fa",
           "#FFA15A",
           "#19d3f3",
           "#FF6692",
           "#B6E880",
           "#FF97FF",
           "#FECB52"
          ],
          "font": {
           "color": "#2a3f5f"
          },
          "geo": {
           "bgcolor": "white",
           "lakecolor": "white",
           "landcolor": "#E5ECF6",
           "showlakes": true,
           "showland": true,
           "subunitcolor": "white"
          },
          "hoverlabel": {
           "align": "left"
          },
          "hovermode": "closest",
          "mapbox": {
           "style": "light"
          },
          "paper_bgcolor": "white",
          "plot_bgcolor": "#E5ECF6",
          "polar": {
           "angularaxis": {
            "gridcolor": "white",
            "linecolor": "white",
            "ticks": ""
           },
           "bgcolor": "#E5ECF6",
           "radialaxis": {
            "gridcolor": "white",
            "linecolor": "white",
            "ticks": ""
           }
          },
          "scene": {
           "xaxis": {
            "backgroundcolor": "#E5ECF6",
            "gridcolor": "white",
            "gridwidth": 2,
            "linecolor": "white",
            "showbackground": true,
            "ticks": "",
            "zerolinecolor": "white"
           },
           "yaxis": {
            "backgroundcolor": "#E5ECF6",
            "gridcolor": "white",
            "gridwidth": 2,
            "linecolor": "white",
            "showbackground": true,
            "ticks": "",
            "zerolinecolor": "white"
           },
           "zaxis": {
            "backgroundcolor": "#E5ECF6",
            "gridcolor": "white",
            "gridwidth": 2,
            "linecolor": "white",
            "showbackground": true,
            "ticks": "",
            "zerolinecolor": "white"
           }
          },
          "shapedefaults": {
           "line": {
            "color": "#2a3f5f"
           }
          },
          "ternary": {
           "aaxis": {
            "gridcolor": "white",
            "linecolor": "white",
            "ticks": ""
           },
           "baxis": {
            "gridcolor": "white",
            "linecolor": "white",
            "ticks": ""
           },
           "bgcolor": "#E5ECF6",
           "caxis": {
            "gridcolor": "white",
            "linecolor": "white",
            "ticks": ""
           }
          },
          "title": {
           "x": 0.05
          },
          "xaxis": {
           "automargin": true,
           "gridcolor": "white",
           "linecolor": "white",
           "ticks": "",
           "title": {
            "standoff": 15
           },
           "zerolinecolor": "white",
           "zerolinewidth": 2
          },
          "yaxis": {
           "automargin": true,
           "gridcolor": "white",
           "linecolor": "white",
           "ticks": "",
           "title": {
            "standoff": 15
           },
           "zerolinecolor": "white",
           "zerolinewidth": 2
          }
         }
        },
        "title": {
         "text": "Trend of Donor-Funded Projects Over Time",
         "x": 0.5
        },
        "xaxis": {
         "anchor": "y",
         "domain": [
          0,
          1
         ],
         "title": {
          "text": "Year"
         }
        },
        "yaxis": {
         "anchor": "x",
         "domain": [
          0,
          1
         ],
         "title": {
          "text": "Number of Projects"
         }
        }
       }
      }
     },
     "metadata": {},
     "output_type": "display_data"
    }
   ],
   "source": [
    "import plotly.express as px\n",
    "\n",
    "# Extract year from start dates\n",
    "df[\"Start_Year\"] = df[\"start_date_(actual)\"].dt.year\n",
    "\n",
    "# Count projects per year\n",
    "projects_per_year = df.groupby(\"Start_Year\").size().reset_index(name=\"Number of Projects\")\n",
    "\n",
    "# Create an interactive line plot for projects started over time with a modern color palette\n",
    "fig = px.line(projects_per_year, \n",
    "              x=\"Start_Year\", \n",
    "              y=\"Number of Projects\", \n",
    "              markers=True,\n",
    "              title=\"Trend of Donor-Funded Projects Over Time\",\n",
    "              labels={\"Start_Year\": \"Year\", \"Number of Projects\": \"Number of Projects\"},\n",
    "              line_shape=\"linear\",\n",
    "              color_discrete_sequence=[\"#636EFA\"])  # Modern blue color\n",
    "\n",
    "fig.update_layout(\n",
    "    xaxis_title=\"Year\", \n",
    "    yaxis_title=\"Number of Projects\", \n",
    "    template=\"plotly\",  # Use a clean modern theme\n",
    "    title_x=0.5,  # Center the title\n",
    "    plot_bgcolor=\"white\",  # Set plot background to white\n",
    "    paper_bgcolor=\"white\"  # Set the overall paper background to white\n",
    ")\n",
    "fig.show()\n",
    "\n"
   ]
  },
  {
   "cell_type": "code",
   "execution_count": 56,
   "id": "ef1fc62d",
   "metadata": {},
   "outputs": [
    {
     "data": {
      "application/vnd.plotly.v1+json": {
       "config": {
        "plotlyServerURL": "https://plot.ly"
       },
       "data": [
        {
         "alignmentgroup": "True",
         "hovertemplate": "Implementation Status=%{x}<br>Number of Projects=%{y}<extra></extra>",
         "legendgroup": "Ongoing",
         "marker": {
          "color": "#F39C12",
          "pattern": {
           "shape": ""
          }
         },
         "name": "Ongoing",
         "offsetgroup": "Ongoing",
         "orientation": "v",
         "showlegend": true,
         "textposition": "auto",
         "type": "bar",
         "x": [
          "Ongoing"
         ],
         "xaxis": "x",
         "y": [
          1791
         ],
         "yaxis": "y"
        },
        {
         "alignmentgroup": "True",
         "hovertemplate": "Implementation Status=%{x}<br>Number of Projects=%{y}<extra></extra>",
         "legendgroup": "Completed",
         "marker": {
          "color": "#8E44AD",
          "pattern": {
           "shape": ""
          }
         },
         "name": "Completed",
         "offsetgroup": "Completed",
         "orientation": "v",
         "showlegend": true,
         "textposition": "auto",
         "type": "bar",
         "x": [
          "Completed"
         ],
         "xaxis": "x",
         "y": [
          492
         ],
         "yaxis": "y"
        },
        {
         "alignmentgroup": "True",
         "hovertemplate": "Implementation Status=%{x}<br>Number of Projects=%{y}<extra></extra>",
         "legendgroup": "Planned",
         "marker": {
          "color": "#1ABC9C",
          "pattern": {
           "shape": ""
          }
         },
         "name": "Planned",
         "offsetgroup": "Planned",
         "orientation": "v",
         "showlegend": true,
         "textposition": "auto",
         "type": "bar",
         "x": [
          "Planned"
         ],
         "xaxis": "x",
         "y": [
          333
         ],
         "yaxis": "y"
        },
        {
         "alignmentgroup": "True",
         "hovertemplate": "Implementation Status=%{x}<br>Number of Projects=%{y}<extra></extra>",
         "legendgroup": "Pipelined",
         "marker": {
          "color": "#E74C3C",
          "pattern": {
           "shape": ""
          }
         },
         "name": "Pipelined",
         "offsetgroup": "Pipelined",
         "orientation": "v",
         "showlegend": true,
         "textposition": "auto",
         "type": "bar",
         "x": [
          "Pipelined"
         ],
         "xaxis": "x",
         "y": [
          149
         ],
         "yaxis": "y"
        },
        {
         "alignmentgroup": "True",
         "hovertemplate": "Implementation Status=%{x}<br>Number of Projects=%{y}<extra></extra>",
         "legendgroup": "Stalled",
         "marker": {
          "color": "#F39C12",
          "pattern": {
           "shape": ""
          }
         },
         "name": "Stalled",
         "offsetgroup": "Stalled",
         "orientation": "v",
         "showlegend": true,
         "textposition": "auto",
         "type": "bar",
         "x": [
          "Stalled"
         ],
         "xaxis": "x",
         "y": [
          25
         ],
         "yaxis": "y"
        },
        {
         "alignmentgroup": "True",
         "hovertemplate": "Implementation Status=%{x}<br>Number of Projects=%{y}<extra></extra>",
         "legendgroup": "Unspecified",
         "marker": {
          "color": "#8E44AD",
          "pattern": {
           "shape": ""
          }
         },
         "name": "Unspecified",
         "offsetgroup": "Unspecified",
         "orientation": "v",
         "showlegend": true,
         "textposition": "auto",
         "type": "bar",
         "x": [
          "Unspecified"
         ],
         "xaxis": "x",
         "y": [
          24
         ],
         "yaxis": "y"
        },
        {
         "alignmentgroup": "True",
         "hovertemplate": "Implementation Status=%{x}<br>Number of Projects=%{y}<extra></extra>",
         "legendgroup": "Terminated",
         "marker": {
          "color": "#1ABC9C",
          "pattern": {
           "shape": ""
          }
         },
         "name": "Terminated",
         "offsetgroup": "Terminated",
         "orientation": "v",
         "showlegend": true,
         "textposition": "auto",
         "type": "bar",
         "x": [
          "Terminated"
         ],
         "xaxis": "x",
         "y": [
          22
         ],
         "yaxis": "y"
        },
        {
         "alignmentgroup": "True",
         "hovertemplate": "Implementation Status=%{x}<br>Number of Projects=%{y}<extra></extra>",
         "legendgroup": "Suspended",
         "marker": {
          "color": "#E74C3C",
          "pattern": {
           "shape": ""
          }
         },
         "name": "Suspended",
         "offsetgroup": "Suspended",
         "orientation": "v",
         "showlegend": true,
         "textposition": "auto",
         "type": "bar",
         "x": [
          "Suspended"
         ],
         "xaxis": "x",
         "y": [
          4
         ],
         "yaxis": "y"
        }
       ],
       "layout": {
        "barmode": "relative",
        "legend": {
         "title": {
          "text": "Implementation Status"
         },
         "tracegroupgap": 0
        },
        "paper_bgcolor": "white",
        "plot_bgcolor": "white",
        "template": {
         "data": {
          "bar": [
           {
            "error_x": {
             "color": "#2a3f5f"
            },
            "error_y": {
             "color": "#2a3f5f"
            },
            "marker": {
             "line": {
              "color": "#E5ECF6",
              "width": 0.5
             },
             "pattern": {
              "fillmode": "overlay",
              "size": 10,
              "solidity": 0.2
             }
            },
            "type": "bar"
           }
          ],
          "barpolar": [
           {
            "marker": {
             "line": {
              "color": "#E5ECF6",
              "width": 0.5
             },
             "pattern": {
              "fillmode": "overlay",
              "size": 10,
              "solidity": 0.2
             }
            },
            "type": "barpolar"
           }
          ],
          "carpet": [
           {
            "aaxis": {
             "endlinecolor": "#2a3f5f",
             "gridcolor": "white",
             "linecolor": "white",
             "minorgridcolor": "white",
             "startlinecolor": "#2a3f5f"
            },
            "baxis": {
             "endlinecolor": "#2a3f5f",
             "gridcolor": "white",
             "linecolor": "white",
             "minorgridcolor": "white",
             "startlinecolor": "#2a3f5f"
            },
            "type": "carpet"
           }
          ],
          "choropleth": [
           {
            "colorbar": {
             "outlinewidth": 0,
             "ticks": ""
            },
            "type": "choropleth"
           }
          ],
          "contour": [
           {
            "colorbar": {
             "outlinewidth": 0,
             "ticks": ""
            },
            "colorscale": [
             [
              0,
              "#0d0887"
             ],
             [
              0.1111111111111111,
              "#46039f"
             ],
             [
              0.2222222222222222,
              "#7201a8"
             ],
             [
              0.3333333333333333,
              "#9c179e"
             ],
             [
              0.4444444444444444,
              "#bd3786"
             ],
             [
              0.5555555555555556,
              "#d8576b"
             ],
             [
              0.6666666666666666,
              "#ed7953"
             ],
             [
              0.7777777777777778,
              "#fb9f3a"
             ],
             [
              0.8888888888888888,
              "#fdca26"
             ],
             [
              1,
              "#f0f921"
             ]
            ],
            "type": "contour"
           }
          ],
          "contourcarpet": [
           {
            "colorbar": {
             "outlinewidth": 0,
             "ticks": ""
            },
            "type": "contourcarpet"
           }
          ],
          "heatmap": [
           {
            "colorbar": {
             "outlinewidth": 0,
             "ticks": ""
            },
            "colorscale": [
             [
              0,
              "#0d0887"
             ],
             [
              0.1111111111111111,
              "#46039f"
             ],
             [
              0.2222222222222222,
              "#7201a8"
             ],
             [
              0.3333333333333333,
              "#9c179e"
             ],
             [
              0.4444444444444444,
              "#bd3786"
             ],
             [
              0.5555555555555556,
              "#d8576b"
             ],
             [
              0.6666666666666666,
              "#ed7953"
             ],
             [
              0.7777777777777778,
              "#fb9f3a"
             ],
             [
              0.8888888888888888,
              "#fdca26"
             ],
             [
              1,
              "#f0f921"
             ]
            ],
            "type": "heatmap"
           }
          ],
          "heatmapgl": [
           {
            "colorbar": {
             "outlinewidth": 0,
             "ticks": ""
            },
            "colorscale": [
             [
              0,
              "#0d0887"
             ],
             [
              0.1111111111111111,
              "#46039f"
             ],
             [
              0.2222222222222222,
              "#7201a8"
             ],
             [
              0.3333333333333333,
              "#9c179e"
             ],
             [
              0.4444444444444444,
              "#bd3786"
             ],
             [
              0.5555555555555556,
              "#d8576b"
             ],
             [
              0.6666666666666666,
              "#ed7953"
             ],
             [
              0.7777777777777778,
              "#fb9f3a"
             ],
             [
              0.8888888888888888,
              "#fdca26"
             ],
             [
              1,
              "#f0f921"
             ]
            ],
            "type": "heatmapgl"
           }
          ],
          "histogram": [
           {
            "marker": {
             "pattern": {
              "fillmode": "overlay",
              "size": 10,
              "solidity": 0.2
             }
            },
            "type": "histogram"
           }
          ],
          "histogram2d": [
           {
            "colorbar": {
             "outlinewidth": 0,
             "ticks": ""
            },
            "colorscale": [
             [
              0,
              "#0d0887"
             ],
             [
              0.1111111111111111,
              "#46039f"
             ],
             [
              0.2222222222222222,
              "#7201a8"
             ],
             [
              0.3333333333333333,
              "#9c179e"
             ],
             [
              0.4444444444444444,
              "#bd3786"
             ],
             [
              0.5555555555555556,
              "#d8576b"
             ],
             [
              0.6666666666666666,
              "#ed7953"
             ],
             [
              0.7777777777777778,
              "#fb9f3a"
             ],
             [
              0.8888888888888888,
              "#fdca26"
             ],
             [
              1,
              "#f0f921"
             ]
            ],
            "type": "histogram2d"
           }
          ],
          "histogram2dcontour": [
           {
            "colorbar": {
             "outlinewidth": 0,
             "ticks": ""
            },
            "colorscale": [
             [
              0,
              "#0d0887"
             ],
             [
              0.1111111111111111,
              "#46039f"
             ],
             [
              0.2222222222222222,
              "#7201a8"
             ],
             [
              0.3333333333333333,
              "#9c179e"
             ],
             [
              0.4444444444444444,
              "#bd3786"
             ],
             [
              0.5555555555555556,
              "#d8576b"
             ],
             [
              0.6666666666666666,
              "#ed7953"
             ],
             [
              0.7777777777777778,
              "#fb9f3a"
             ],
             [
              0.8888888888888888,
              "#fdca26"
             ],
             [
              1,
              "#f0f921"
             ]
            ],
            "type": "histogram2dcontour"
           }
          ],
          "mesh3d": [
           {
            "colorbar": {
             "outlinewidth": 0,
             "ticks": ""
            },
            "type": "mesh3d"
           }
          ],
          "parcoords": [
           {
            "line": {
             "colorbar": {
              "outlinewidth": 0,
              "ticks": ""
             }
            },
            "type": "parcoords"
           }
          ],
          "pie": [
           {
            "automargin": true,
            "type": "pie"
           }
          ],
          "scatter": [
           {
            "fillpattern": {
             "fillmode": "overlay",
             "size": 10,
             "solidity": 0.2
            },
            "type": "scatter"
           }
          ],
          "scatter3d": [
           {
            "line": {
             "colorbar": {
              "outlinewidth": 0,
              "ticks": ""
             }
            },
            "marker": {
             "colorbar": {
              "outlinewidth": 0,
              "ticks": ""
             }
            },
            "type": "scatter3d"
           }
          ],
          "scattercarpet": [
           {
            "marker": {
             "colorbar": {
              "outlinewidth": 0,
              "ticks": ""
             }
            },
            "type": "scattercarpet"
           }
          ],
          "scattergeo": [
           {
            "marker": {
             "colorbar": {
              "outlinewidth": 0,
              "ticks": ""
             }
            },
            "type": "scattergeo"
           }
          ],
          "scattergl": [
           {
            "marker": {
             "colorbar": {
              "outlinewidth": 0,
              "ticks": ""
             }
            },
            "type": "scattergl"
           }
          ],
          "scattermapbox": [
           {
            "marker": {
             "colorbar": {
              "outlinewidth": 0,
              "ticks": ""
             }
            },
            "type": "scattermapbox"
           }
          ],
          "scatterpolar": [
           {
            "marker": {
             "colorbar": {
              "outlinewidth": 0,
              "ticks": ""
             }
            },
            "type": "scatterpolar"
           }
          ],
          "scatterpolargl": [
           {
            "marker": {
             "colorbar": {
              "outlinewidth": 0,
              "ticks": ""
             }
            },
            "type": "scatterpolargl"
           }
          ],
          "scatterternary": [
           {
            "marker": {
             "colorbar": {
              "outlinewidth": 0,
              "ticks": ""
             }
            },
            "type": "scatterternary"
           }
          ],
          "surface": [
           {
            "colorbar": {
             "outlinewidth": 0,
             "ticks": ""
            },
            "colorscale": [
             [
              0,
              "#0d0887"
             ],
             [
              0.1111111111111111,
              "#46039f"
             ],
             [
              0.2222222222222222,
              "#7201a8"
             ],
             [
              0.3333333333333333,
              "#9c179e"
             ],
             [
              0.4444444444444444,
              "#bd3786"
             ],
             [
              0.5555555555555556,
              "#d8576b"
             ],
             [
              0.6666666666666666,
              "#ed7953"
             ],
             [
              0.7777777777777778,
              "#fb9f3a"
             ],
             [
              0.8888888888888888,
              "#fdca26"
             ],
             [
              1,
              "#f0f921"
             ]
            ],
            "type": "surface"
           }
          ],
          "table": [
           {
            "cells": {
             "fill": {
              "color": "#EBF0F8"
             },
             "line": {
              "color": "white"
             }
            },
            "header": {
             "fill": {
              "color": "#C8D4E3"
             },
             "line": {
              "color": "white"
             }
            },
            "type": "table"
           }
          ]
         },
         "layout": {
          "annotationdefaults": {
           "arrowcolor": "#2a3f5f",
           "arrowhead": 0,
           "arrowwidth": 1
          },
          "autotypenumbers": "strict",
          "coloraxis": {
           "colorbar": {
            "outlinewidth": 0,
            "ticks": ""
           }
          },
          "colorscale": {
           "diverging": [
            [
             0,
             "#8e0152"
            ],
            [
             0.1,
             "#c51b7d"
            ],
            [
             0.2,
             "#de77ae"
            ],
            [
             0.3,
             "#f1b6da"
            ],
            [
             0.4,
             "#fde0ef"
            ],
            [
             0.5,
             "#f7f7f7"
            ],
            [
             0.6,
             "#e6f5d0"
            ],
            [
             0.7,
             "#b8e186"
            ],
            [
             0.8,
             "#7fbc41"
            ],
            [
             0.9,
             "#4d9221"
            ],
            [
             1,
             "#276419"
            ]
           ],
           "sequential": [
            [
             0,
             "#0d0887"
            ],
            [
             0.1111111111111111,
             "#46039f"
            ],
            [
             0.2222222222222222,
             "#7201a8"
            ],
            [
             0.3333333333333333,
             "#9c179e"
            ],
            [
             0.4444444444444444,
             "#bd3786"
            ],
            [
             0.5555555555555556,
             "#d8576b"
            ],
            [
             0.6666666666666666,
             "#ed7953"
            ],
            [
             0.7777777777777778,
             "#fb9f3a"
            ],
            [
             0.8888888888888888,
             "#fdca26"
            ],
            [
             1,
             "#f0f921"
            ]
           ],
           "sequentialminus": [
            [
             0,
             "#0d0887"
            ],
            [
             0.1111111111111111,
             "#46039f"
            ],
            [
             0.2222222222222222,
             "#7201a8"
            ],
            [
             0.3333333333333333,
             "#9c179e"
            ],
            [
             0.4444444444444444,
             "#bd3786"
            ],
            [
             0.5555555555555556,
             "#d8576b"
            ],
            [
             0.6666666666666666,
             "#ed7953"
            ],
            [
             0.7777777777777778,
             "#fb9f3a"
            ],
            [
             0.8888888888888888,
             "#fdca26"
            ],
            [
             1,
             "#f0f921"
            ]
           ]
          },
          "colorway": [
           "#636efa",
           "#EF553B",
           "#00cc96",
           "#ab63fa",
           "#FFA15A",
           "#19d3f3",
           "#FF6692",
           "#B6E880",
           "#FF97FF",
           "#FECB52"
          ],
          "font": {
           "color": "#2a3f5f"
          },
          "geo": {
           "bgcolor": "white",
           "lakecolor": "white",
           "landcolor": "#E5ECF6",
           "showlakes": true,
           "showland": true,
           "subunitcolor": "white"
          },
          "hoverlabel": {
           "align": "left"
          },
          "hovermode": "closest",
          "mapbox": {
           "style": "light"
          },
          "paper_bgcolor": "white",
          "plot_bgcolor": "#E5ECF6",
          "polar": {
           "angularaxis": {
            "gridcolor": "white",
            "linecolor": "white",
            "ticks": ""
           },
           "bgcolor": "#E5ECF6",
           "radialaxis": {
            "gridcolor": "white",
            "linecolor": "white",
            "ticks": ""
           }
          },
          "scene": {
           "xaxis": {
            "backgroundcolor": "#E5ECF6",
            "gridcolor": "white",
            "gridwidth": 2,
            "linecolor": "white",
            "showbackground": true,
            "ticks": "",
            "zerolinecolor": "white"
           },
           "yaxis": {
            "backgroundcolor": "#E5ECF6",
            "gridcolor": "white",
            "gridwidth": 2,
            "linecolor": "white",
            "showbackground": true,
            "ticks": "",
            "zerolinecolor": "white"
           },
           "zaxis": {
            "backgroundcolor": "#E5ECF6",
            "gridcolor": "white",
            "gridwidth": 2,
            "linecolor": "white",
            "showbackground": true,
            "ticks": "",
            "zerolinecolor": "white"
           }
          },
          "shapedefaults": {
           "line": {
            "color": "#2a3f5f"
           }
          },
          "ternary": {
           "aaxis": {
            "gridcolor": "white",
            "linecolor": "white",
            "ticks": ""
           },
           "baxis": {
            "gridcolor": "white",
            "linecolor": "white",
            "ticks": ""
           },
           "bgcolor": "#E5ECF6",
           "caxis": {
            "gridcolor": "white",
            "linecolor": "white",
            "ticks": ""
           }
          },
          "title": {
           "x": 0.05
          },
          "xaxis": {
           "automargin": true,
           "gridcolor": "white",
           "linecolor": "white",
           "ticks": "",
           "title": {
            "standoff": 15
           },
           "zerolinecolor": "white",
           "zerolinewidth": 2
          },
          "yaxis": {
           "automargin": true,
           "gridcolor": "white",
           "linecolor": "white",
           "ticks": "",
           "title": {
            "standoff": 15
           },
           "zerolinecolor": "white",
           "zerolinewidth": 2
          }
         }
        },
        "title": {
         "text": "Project Success Distribution",
         "x": 0.5
        },
        "xaxis": {
         "anchor": "y",
         "categoryarray": [
          "Ongoing",
          "Completed",
          "Planned",
          "Pipelined",
          "Stalled",
          "Unspecified",
          "Terminated",
          "Suspended"
         ],
         "categoryorder": "array",
         "domain": [
          0,
          1
         ],
         "title": {
          "text": "Implementation Status"
         }
        },
        "yaxis": {
         "anchor": "x",
         "domain": [
          0,
          1
         ],
         "title": {
          "text": "Number of Projects"
         }
        }
       }
      }
     },
     "metadata": {},
     "output_type": "display_data"
    }
   ],
   "source": [
    "# Investigating project success based on implementation status\n",
    "success_counts = df[\"implementation_status\"].value_counts().reset_index(name=\"Number of Projects\")\n",
    "success_counts.columns = [\"Implementation Status\", \"Number of Projects\"]\n",
    "\n",
    "# Create an interactive bar plot for project success distribution with modern color palette\n",
    "fig = px.bar(success_counts, \n",
    "             x=\"Implementation Status\", \n",
    "             y=\"Number of Projects\", \n",
    "             title=\"Project Success Distribution\",\n",
    "             labels={\"Implementation Status\": \"Implementation Status\", \"Number of Projects\": \"Number of Projects\"},\n",
    "             color=\"Implementation Status\",  # Color bars by Implementation Status\n",
    "             color_discrete_sequence=[\"#F39C12\", \"#8E44AD\", \"#1ABC9C\", \"#E74C3C\"])  # Vibrant modern colors\n",
    "fig.update_layout(\n",
    "    xaxis_title=\"Implementation Status\", \n",
    "    yaxis_title=\"Number of Projects\", \n",
    "    template=\"plotly\",  # Use a clean modern theme\n",
    "    title_x=0.5,  # Center the title\n",
    "    plot_bgcolor=\"white\",  # Set plot background to white\n",
    "    paper_bgcolor=\"white\"  # Set the overall paper background to white\n",
    ")\n",
    "fig.show()\n",
    "\n",
    "\n"
   ]
  },
  {
   "cell_type": "code",
   "execution_count": 57,
   "id": "09ae33eb",
   "metadata": {},
   "outputs": [
    {
     "data": {
      "application/vnd.plotly.v1+json": {
       "config": {
        "plotlyServerURL": "https://plot.ly"
       },
       "data": [
        {
         "coloraxis": "coloraxis",
         "hovertemplate": "Funding Type: %{x}<br>Implementation Status: %{y}<br>% Projects: %{z}<extra></extra>",
         "name": "0",
         "type": "heatmap",
         "x": [
          "gok",
          "gok; unspecified",
          "grant",
          "grant; gok",
          "grant; gok; unspecified",
          "grant; unspecified",
          "loan",
          "loan ; gok",
          "loan ; gok; unspecified",
          "loan ; grant",
          "loan ; grant; gok",
          "loan ; grant; gok; unspecified",
          "loan ; grant; unspecified",
          "loan ; unspecified",
          "unspecified"
         ],
         "xaxis": "x",
         "y": [
          "Completed",
          "Ongoing",
          "Pipelined",
          "Planned",
          "Stalled",
          "Suspended",
          "Terminated",
          "Unspecified"
         ],
         "yaxis": "y",
         "z": [
          [
           32.87671232876712,
           16.275862068965516,
           17.142857142857142,
           null,
           2.2988505747126435,
           7.717041800643088,
           null,
           null,
           2.1052631578947367,
           null,
           null,
           2.564102564102564,
           6.25,
           2.564102564102564,
           21.631736526946106
          ],
          [
           41.0958904109589,
           70.62068965517241,
           22.857142857142858,
           50,
           79.3103448275862,
           75.2411575562701,
           null,
           null,
           83.15789473684211,
           66.66666666666666,
           100,
           76.92307692307693,
           87.5,
           76.92307692307693,
           56.137724550898206
          ],
          [
           4.794520547945205,
           2.0689655172413794,
           31.428571428571427,
           25,
           5.747126436781609,
           6.752411575562702,
           50,
           100,
           4.2105263157894735,
           33.33333333333333,
           null,
           10.256410256410255,
           null,
           10.256410256410255,
           5.538922155688622
          ],
          [
           17.80821917808219,
           7.724137931034483,
           28.57142857142857,
           25,
           12.643678160919542,
           9.003215434083602,
           50,
           null,
           9.473684210526317,
           null,
           null,
           10.256410256410255,
           6.25,
           7.6923076923076925,
           13.697604790419163
          ],
          [
           1.36986301369863,
           0.6896551724137931,
           null,
           null,
           null,
           0.3215434083601286,
           null,
           null,
           null,
           null,
           null,
           null,
           null,
           null,
           1.2724550898203593
          ],
          [
           null,
           0.13793103448275862,
           null,
           null,
           null,
           null,
           null,
           null,
           1.0526315789473684,
           null,
           null,
           null,
           null,
           2.564102564102564,
           0.07485029940119761
          ],
          [
           1.36986301369863,
           1.5172413793103448,
           null,
           null,
           null,
           0.3215434083601286,
           null,
           null,
           null,
           null,
           null,
           null,
           null,
           null,
           0.5988023952095809
          ],
          [
           0.684931506849315,
           0.9655172413793104,
           null,
           null,
           null,
           0.6430868167202572,
           null,
           null,
           null,
           null,
           null,
           null,
           null,
           null,
           1.0479041916167664
          ]
         ]
        }
       ],
       "layout": {
        "coloraxis": {
         "colorbar": {
          "title": {
           "text": "% Projects"
          }
         },
         "colorscale": [
          [
           0,
           "rgb(247,251,255)"
          ],
          [
           0.125,
           "rgb(222,235,247)"
          ],
          [
           0.25,
           "rgb(198,219,239)"
          ],
          [
           0.375,
           "rgb(158,202,225)"
          ],
          [
           0.5,
           "rgb(107,174,214)"
          ],
          [
           0.625,
           "rgb(66,146,198)"
          ],
          [
           0.75,
           "rgb(33,113,181)"
          ],
          [
           0.875,
           "rgb(8,81,156)"
          ],
          [
           1,
           "rgb(8,48,107)"
          ]
         ]
        },
        "paper_bgcolor": "white",
        "plot_bgcolor": "white",
        "template": {
         "data": {
          "bar": [
           {
            "error_x": {
             "color": "#2a3f5f"
            },
            "error_y": {
             "color": "#2a3f5f"
            },
            "marker": {
             "line": {
              "color": "#E5ECF6",
              "width": 0.5
             },
             "pattern": {
              "fillmode": "overlay",
              "size": 10,
              "solidity": 0.2
             }
            },
            "type": "bar"
           }
          ],
          "barpolar": [
           {
            "marker": {
             "line": {
              "color": "#E5ECF6",
              "width": 0.5
             },
             "pattern": {
              "fillmode": "overlay",
              "size": 10,
              "solidity": 0.2
             }
            },
            "type": "barpolar"
           }
          ],
          "carpet": [
           {
            "aaxis": {
             "endlinecolor": "#2a3f5f",
             "gridcolor": "white",
             "linecolor": "white",
             "minorgridcolor": "white",
             "startlinecolor": "#2a3f5f"
            },
            "baxis": {
             "endlinecolor": "#2a3f5f",
             "gridcolor": "white",
             "linecolor": "white",
             "minorgridcolor": "white",
             "startlinecolor": "#2a3f5f"
            },
            "type": "carpet"
           }
          ],
          "choropleth": [
           {
            "colorbar": {
             "outlinewidth": 0,
             "ticks": ""
            },
            "type": "choropleth"
           }
          ],
          "contour": [
           {
            "colorbar": {
             "outlinewidth": 0,
             "ticks": ""
            },
            "colorscale": [
             [
              0,
              "#0d0887"
             ],
             [
              0.1111111111111111,
              "#46039f"
             ],
             [
              0.2222222222222222,
              "#7201a8"
             ],
             [
              0.3333333333333333,
              "#9c179e"
             ],
             [
              0.4444444444444444,
              "#bd3786"
             ],
             [
              0.5555555555555556,
              "#d8576b"
             ],
             [
              0.6666666666666666,
              "#ed7953"
             ],
             [
              0.7777777777777778,
              "#fb9f3a"
             ],
             [
              0.8888888888888888,
              "#fdca26"
             ],
             [
              1,
              "#f0f921"
             ]
            ],
            "type": "contour"
           }
          ],
          "contourcarpet": [
           {
            "colorbar": {
             "outlinewidth": 0,
             "ticks": ""
            },
            "type": "contourcarpet"
           }
          ],
          "heatmap": [
           {
            "colorbar": {
             "outlinewidth": 0,
             "ticks": ""
            },
            "colorscale": [
             [
              0,
              "#0d0887"
             ],
             [
              0.1111111111111111,
              "#46039f"
             ],
             [
              0.2222222222222222,
              "#7201a8"
             ],
             [
              0.3333333333333333,
              "#9c179e"
             ],
             [
              0.4444444444444444,
              "#bd3786"
             ],
             [
              0.5555555555555556,
              "#d8576b"
             ],
             [
              0.6666666666666666,
              "#ed7953"
             ],
             [
              0.7777777777777778,
              "#fb9f3a"
             ],
             [
              0.8888888888888888,
              "#fdca26"
             ],
             [
              1,
              "#f0f921"
             ]
            ],
            "type": "heatmap"
           }
          ],
          "heatmapgl": [
           {
            "colorbar": {
             "outlinewidth": 0,
             "ticks": ""
            },
            "colorscale": [
             [
              0,
              "#0d0887"
             ],
             [
              0.1111111111111111,
              "#46039f"
             ],
             [
              0.2222222222222222,
              "#7201a8"
             ],
             [
              0.3333333333333333,
              "#9c179e"
             ],
             [
              0.4444444444444444,
              "#bd3786"
             ],
             [
              0.5555555555555556,
              "#d8576b"
             ],
             [
              0.6666666666666666,
              "#ed7953"
             ],
             [
              0.7777777777777778,
              "#fb9f3a"
             ],
             [
              0.8888888888888888,
              "#fdca26"
             ],
             [
              1,
              "#f0f921"
             ]
            ],
            "type": "heatmapgl"
           }
          ],
          "histogram": [
           {
            "marker": {
             "pattern": {
              "fillmode": "overlay",
              "size": 10,
              "solidity": 0.2
             }
            },
            "type": "histogram"
           }
          ],
          "histogram2d": [
           {
            "colorbar": {
             "outlinewidth": 0,
             "ticks": ""
            },
            "colorscale": [
             [
              0,
              "#0d0887"
             ],
             [
              0.1111111111111111,
              "#46039f"
             ],
             [
              0.2222222222222222,
              "#7201a8"
             ],
             [
              0.3333333333333333,
              "#9c179e"
             ],
             [
              0.4444444444444444,
              "#bd3786"
             ],
             [
              0.5555555555555556,
              "#d8576b"
             ],
             [
              0.6666666666666666,
              "#ed7953"
             ],
             [
              0.7777777777777778,
              "#fb9f3a"
             ],
             [
              0.8888888888888888,
              "#fdca26"
             ],
             [
              1,
              "#f0f921"
             ]
            ],
            "type": "histogram2d"
           }
          ],
          "histogram2dcontour": [
           {
            "colorbar": {
             "outlinewidth": 0,
             "ticks": ""
            },
            "colorscale": [
             [
              0,
              "#0d0887"
             ],
             [
              0.1111111111111111,
              "#46039f"
             ],
             [
              0.2222222222222222,
              "#7201a8"
             ],
             [
              0.3333333333333333,
              "#9c179e"
             ],
             [
              0.4444444444444444,
              "#bd3786"
             ],
             [
              0.5555555555555556,
              "#d8576b"
             ],
             [
              0.6666666666666666,
              "#ed7953"
             ],
             [
              0.7777777777777778,
              "#fb9f3a"
             ],
             [
              0.8888888888888888,
              "#fdca26"
             ],
             [
              1,
              "#f0f921"
             ]
            ],
            "type": "histogram2dcontour"
           }
          ],
          "mesh3d": [
           {
            "colorbar": {
             "outlinewidth": 0,
             "ticks": ""
            },
            "type": "mesh3d"
           }
          ],
          "parcoords": [
           {
            "line": {
             "colorbar": {
              "outlinewidth": 0,
              "ticks": ""
             }
            },
            "type": "parcoords"
           }
          ],
          "pie": [
           {
            "automargin": true,
            "type": "pie"
           }
          ],
          "scatter": [
           {
            "fillpattern": {
             "fillmode": "overlay",
             "size": 10,
             "solidity": 0.2
            },
            "type": "scatter"
           }
          ],
          "scatter3d": [
           {
            "line": {
             "colorbar": {
              "outlinewidth": 0,
              "ticks": ""
             }
            },
            "marker": {
             "colorbar": {
              "outlinewidth": 0,
              "ticks": ""
             }
            },
            "type": "scatter3d"
           }
          ],
          "scattercarpet": [
           {
            "marker": {
             "colorbar": {
              "outlinewidth": 0,
              "ticks": ""
             }
            },
            "type": "scattercarpet"
           }
          ],
          "scattergeo": [
           {
            "marker": {
             "colorbar": {
              "outlinewidth": 0,
              "ticks": ""
             }
            },
            "type": "scattergeo"
           }
          ],
          "scattergl": [
           {
            "marker": {
             "colorbar": {
              "outlinewidth": 0,
              "ticks": ""
             }
            },
            "type": "scattergl"
           }
          ],
          "scattermapbox": [
           {
            "marker": {
             "colorbar": {
              "outlinewidth": 0,
              "ticks": ""
             }
            },
            "type": "scattermapbox"
           }
          ],
          "scatterpolar": [
           {
            "marker": {
             "colorbar": {
              "outlinewidth": 0,
              "ticks": ""
             }
            },
            "type": "scatterpolar"
           }
          ],
          "scatterpolargl": [
           {
            "marker": {
             "colorbar": {
              "outlinewidth": 0,
              "ticks": ""
             }
            },
            "type": "scatterpolargl"
           }
          ],
          "scatterternary": [
           {
            "marker": {
             "colorbar": {
              "outlinewidth": 0,
              "ticks": ""
             }
            },
            "type": "scatterternary"
           }
          ],
          "surface": [
           {
            "colorbar": {
             "outlinewidth": 0,
             "ticks": ""
            },
            "colorscale": [
             [
              0,
              "#0d0887"
             ],
             [
              0.1111111111111111,
              "#46039f"
             ],
             [
              0.2222222222222222,
              "#7201a8"
             ],
             [
              0.3333333333333333,
              "#9c179e"
             ],
             [
              0.4444444444444444,
              "#bd3786"
             ],
             [
              0.5555555555555556,
              "#d8576b"
             ],
             [
              0.6666666666666666,
              "#ed7953"
             ],
             [
              0.7777777777777778,
              "#fb9f3a"
             ],
             [
              0.8888888888888888,
              "#fdca26"
             ],
             [
              1,
              "#f0f921"
             ]
            ],
            "type": "surface"
           }
          ],
          "table": [
           {
            "cells": {
             "fill": {
              "color": "#EBF0F8"
             },
             "line": {
              "color": "white"
             }
            },
            "header": {
             "fill": {
              "color": "#C8D4E3"
             },
             "line": {
              "color": "white"
             }
            },
            "type": "table"
           }
          ]
         },
         "layout": {
          "annotationdefaults": {
           "arrowcolor": "#2a3f5f",
           "arrowhead": 0,
           "arrowwidth": 1
          },
          "autotypenumbers": "strict",
          "coloraxis": {
           "colorbar": {
            "outlinewidth": 0,
            "ticks": ""
           }
          },
          "colorscale": {
           "diverging": [
            [
             0,
             "#8e0152"
            ],
            [
             0.1,
             "#c51b7d"
            ],
            [
             0.2,
             "#de77ae"
            ],
            [
             0.3,
             "#f1b6da"
            ],
            [
             0.4,
             "#fde0ef"
            ],
            [
             0.5,
             "#f7f7f7"
            ],
            [
             0.6,
             "#e6f5d0"
            ],
            [
             0.7,
             "#b8e186"
            ],
            [
             0.8,
             "#7fbc41"
            ],
            [
             0.9,
             "#4d9221"
            ],
            [
             1,
             "#276419"
            ]
           ],
           "sequential": [
            [
             0,
             "#0d0887"
            ],
            [
             0.1111111111111111,
             "#46039f"
            ],
            [
             0.2222222222222222,
             "#7201a8"
            ],
            [
             0.3333333333333333,
             "#9c179e"
            ],
            [
             0.4444444444444444,
             "#bd3786"
            ],
            [
             0.5555555555555556,
             "#d8576b"
            ],
            [
             0.6666666666666666,
             "#ed7953"
            ],
            [
             0.7777777777777778,
             "#fb9f3a"
            ],
            [
             0.8888888888888888,
             "#fdca26"
            ],
            [
             1,
             "#f0f921"
            ]
           ],
           "sequentialminus": [
            [
             0,
             "#0d0887"
            ],
            [
             0.1111111111111111,
             "#46039f"
            ],
            [
             0.2222222222222222,
             "#7201a8"
            ],
            [
             0.3333333333333333,
             "#9c179e"
            ],
            [
             0.4444444444444444,
             "#bd3786"
            ],
            [
             0.5555555555555556,
             "#d8576b"
            ],
            [
             0.6666666666666666,
             "#ed7953"
            ],
            [
             0.7777777777777778,
             "#fb9f3a"
            ],
            [
             0.8888888888888888,
             "#fdca26"
            ],
            [
             1,
             "#f0f921"
            ]
           ]
          },
          "colorway": [
           "#636efa",
           "#EF553B",
           "#00cc96",
           "#ab63fa",
           "#FFA15A",
           "#19d3f3",
           "#FF6692",
           "#B6E880",
           "#FF97FF",
           "#FECB52"
          ],
          "font": {
           "color": "#2a3f5f"
          },
          "geo": {
           "bgcolor": "white",
           "lakecolor": "white",
           "landcolor": "#E5ECF6",
           "showlakes": true,
           "showland": true,
           "subunitcolor": "white"
          },
          "hoverlabel": {
           "align": "left"
          },
          "hovermode": "closest",
          "mapbox": {
           "style": "light"
          },
          "paper_bgcolor": "white",
          "plot_bgcolor": "#E5ECF6",
          "polar": {
           "angularaxis": {
            "gridcolor": "white",
            "linecolor": "white",
            "ticks": ""
           },
           "bgcolor": "#E5ECF6",
           "radialaxis": {
            "gridcolor": "white",
            "linecolor": "white",
            "ticks": ""
           }
          },
          "scene": {
           "xaxis": {
            "backgroundcolor": "#E5ECF6",
            "gridcolor": "white",
            "gridwidth": 2,
            "linecolor": "white",
            "showbackground": true,
            "ticks": "",
            "zerolinecolor": "white"
           },
           "yaxis": {
            "backgroundcolor": "#E5ECF6",
            "gridcolor": "white",
            "gridwidth": 2,
            "linecolor": "white",
            "showbackground": true,
            "ticks": "",
            "zerolinecolor": "white"
           },
           "zaxis": {
            "backgroundcolor": "#E5ECF6",
            "gridcolor": "white",
            "gridwidth": 2,
            "linecolor": "white",
            "showbackground": true,
            "ticks": "",
            "zerolinecolor": "white"
           }
          },
          "shapedefaults": {
           "line": {
            "color": "#2a3f5f"
           }
          },
          "ternary": {
           "aaxis": {
            "gridcolor": "white",
            "linecolor": "white",
            "ticks": ""
           },
           "baxis": {
            "gridcolor": "white",
            "linecolor": "white",
            "ticks": ""
           },
           "bgcolor": "#E5ECF6",
           "caxis": {
            "gridcolor": "white",
            "linecolor": "white",
            "ticks": ""
           }
          },
          "title": {
           "x": 0.05
          },
          "xaxis": {
           "automargin": true,
           "gridcolor": "white",
           "linecolor": "white",
           "ticks": "",
           "title": {
            "standoff": 15
           },
           "zerolinecolor": "white",
           "zerolinewidth": 2
          },
          "yaxis": {
           "automargin": true,
           "gridcolor": "white",
           "linecolor": "white",
           "ticks": "",
           "title": {
            "standoff": 15
           },
           "zerolinecolor": "white",
           "zerolinewidth": 2
          }
         }
        },
        "title": {
         "text": "Funding Type vs. Project Implementation Status (%)",
         "x": 0.5
        },
        "xaxis": {
         "anchor": "y",
         "constrain": "domain",
         "domain": [
          0,
          1
         ],
         "scaleanchor": "y",
         "title": {
          "text": "Funding Type"
         }
        },
        "yaxis": {
         "anchor": "x",
         "autorange": "reversed",
         "constrain": "domain",
         "domain": [
          0,
          1
         ],
         "title": {
          "text": "Implementation Status"
         }
        }
       }
      }
     },
     "metadata": {},
     "output_type": "display_data"
    }
   ],
   "source": [
    "import plotly.express as px\n",
    "import pandas as pd\n",
    "\n",
    "# Grouping and normalizing data for funding type vs implementation status\n",
    "funding_vs_success = df.groupby([\"funding_type\", \"implementation_status\"]).size().unstack()\n",
    "funding_vs_success_percentage = funding_vs_success.div(funding_vs_success.sum(axis=1), axis=0) * 100\n",
    "\n",
    "# Create an interactive heatmap for funding type vs implementation status\n",
    "fig = px.imshow(funding_vs_success_percentage.T,  # Transpose for correct orientation\n",
    "                labels=dict(x=\"Funding Type\", y=\"Implementation Status\", color=\"% Projects\"),\n",
    "                x=funding_vs_success_percentage.index,\n",
    "                y=funding_vs_success_percentage.columns,\n",
    "                color_continuous_scale=\"Blues\",  # Modern blue color scale\n",
    "                title=\"Funding Type vs. Project Implementation Status (%)\")\n",
    "fig.update_layout(\n",
    "    template=\"plotly\",  # Use modern plotly template\n",
    "    title_x=0.5,  # Center the title\n",
    "    plot_bgcolor=\"white\",  # White plot background\n",
    "    paper_bgcolor=\"white\",  # White paper background\n",
    ")\n",
    "fig.show()\n",
    "\n"
   ]
  },
  {
   "cell_type": "code",
   "execution_count": 59,
   "id": "b4158d39",
   "metadata": {},
   "outputs": [
    {
     "data": {
      "application/vnd.plotly.v1+json": {
       "config": {
        "plotlyServerURL": "https://plot.ly"
       },
       "data": [
        {
         "coloraxis": "coloraxis",
         "hovertemplate": "MTEF Sector: %{x}<br>Implementation Status: %{y}<br>% Projects: %{z}<extra></extra>",
         "name": "0",
         "type": "heatmap",
         "x": [
          "agriculture, rural and urban development (arud)",
          "agriculture, rural and urban development (arud); education",
          "agriculture, rural and urban development (arud); environmental protection, water and natural resources",
          "agriculture, rural and urban development (arud); public administration and international relations (pair)",
          "agriculture, rural and urban development (arud); unallocated",
          "education",
          "energy, infrastructure and ict",
          "energy, infrastructure and ict; health",
          "energy, infrastructure and ict; unallocated",
          "environmental protection, water and natural resources",
          "environmental protection, water and natural resources ; unallocated",
          "general economic and commercial affairs",
          "governance, justice, law and order (gjlos)",
          "governance, justice, law and order (gjlos); unallocated",
          "health",
          "health; unallocated",
          "national security",
          "public administration and international relations (pair)",
          "public administration and international relations (pair); governance, justice, law and order (gjlos)",
          "public administration and international relations (pair); unallocated",
          "social protection, culture and recreation",
          "unallocated; education",
          "unspecified"
         ],
         "xaxis": "x",
         "y": [
          "Completed",
          "Ongoing",
          "Pipelined",
          "Planned",
          "Stalled",
          "Suspended",
          "Terminated",
          "Unspecified"
         ],
         "yaxis": "y",
         "z": [
          [
           12.698412698412698,
           null,
           null,
           null,
           15,
           21.686746987951807,
           21.428571428571427,
           null,
           null,
           11.555555555555555,
           null,
           2.083333333333333,
           16.329966329966332,
           25,
           19.310344827586206,
           50,
           null,
           22.151898734177212,
           null,
           null,
           7.462686567164178,
           12.5,
           19.603960396039604
          ],
          [
           69.84126984126983,
           100,
           100,
           100,
           50,
           56.024096385542165,
           66.9047619047619,
           100,
           100,
           66.66666666666666,
           100,
           75,
           58.75420875420876,
           75,
           66.20689655172414,
           50,
           100,
           59.49367088607595,
           100,
           null,
           62.68656716417911,
           62.5,
           62.37623762376238
          ],
          [
           8.73015873015873,
           null,
           null,
           null,
           null,
           6.325301204819277,
           3.0952380952380953,
           null,
           null,
           9.333333333333334,
           null,
           1.0416666666666665,
           6.397306397306397,
           null,
           6.206896551724138,
           null,
           null,
           1.2658227848101267,
           null,
           null,
           1.4925373134328357,
           null,
           4.158415841584159
          ],
          [
           7.936507936507936,
           null,
           null,
           null,
           30,
           12.650602409638553,
           6.428571428571428,
           null,
           null,
           11.555555555555555,
           null,
           18.75,
           16.329966329966332,
           null,
           4.827586206896552,
           null,
           null,
           15.822784810126583,
           null,
           100,
           22.388059701492537,
           25,
           9.306930693069306
          ],
          [
           null,
           null,
           null,
           null,
           5,
           1.8072289156626504,
           0.7142857142857143,
           null,
           null,
           0.4444444444444444,
           null,
           1.0416666666666665,
           0.8417508417508417,
           null,
           1.3793103448275863,
           null,
           null,
           null,
           null,
           null,
           4.477611940298507,
           null,
           0.594059405940594
          ],
          [
           null,
           null,
           null,
           null,
           null,
           null,
           0.2380952380952381,
           null,
           null,
           null,
           null,
           null,
           null,
           null,
           0.6896551724137931,
           null,
           null,
           0.6329113924050633,
           null,
           null,
           null,
           null,
           0.19801980198019803
          ],
          [
           null,
           null,
           null,
           null,
           null,
           1.2048192771084338,
           0.9523809523809524,
           null,
           null,
           0.4444444444444444,
           null,
           1.0416666666666665,
           1.1784511784511784,
           null,
           null,
           null,
           null,
           null,
           null,
           null,
           1.4925373134328357,
           null,
           0.7920792079207921
          ],
          [
           0.7936507936507936,
           null,
           null,
           null,
           null,
           0.30120481927710846,
           0.2380952380952381,
           null,
           null,
           null,
           null,
           1.0416666666666665,
           0.16835016835016833,
           null,
           1.3793103448275863,
           null,
           null,
           0.6329113924050633,
           null,
           null,
           null,
           null,
           2.9702970297029703
          ]
         ]
        }
       ],
       "layout": {
        "coloraxis": {
         "colorbar": {
          "title": {
           "text": "% Projects"
          }
         },
         "colorscale": [
          [
           0,
           "rgb(247,252,245)"
          ],
          [
           0.125,
           "rgb(229,245,224)"
          ],
          [
           0.25,
           "rgb(199,233,192)"
          ],
          [
           0.375,
           "rgb(161,217,155)"
          ],
          [
           0.5,
           "rgb(116,196,118)"
          ],
          [
           0.625,
           "rgb(65,171,93)"
          ],
          [
           0.75,
           "rgb(35,139,69)"
          ],
          [
           0.875,
           "rgb(0,109,44)"
          ],
          [
           1,
           "rgb(0,68,27)"
          ]
         ]
        },
        "paper_bgcolor": "white",
        "plot_bgcolor": "white",
        "template": {
         "data": {
          "bar": [
           {
            "error_x": {
             "color": "#2a3f5f"
            },
            "error_y": {
             "color": "#2a3f5f"
            },
            "marker": {
             "line": {
              "color": "#E5ECF6",
              "width": 0.5
             },
             "pattern": {
              "fillmode": "overlay",
              "size": 10,
              "solidity": 0.2
             }
            },
            "type": "bar"
           }
          ],
          "barpolar": [
           {
            "marker": {
             "line": {
              "color": "#E5ECF6",
              "width": 0.5
             },
             "pattern": {
              "fillmode": "overlay",
              "size": 10,
              "solidity": 0.2
             }
            },
            "type": "barpolar"
           }
          ],
          "carpet": [
           {
            "aaxis": {
             "endlinecolor": "#2a3f5f",
             "gridcolor": "white",
             "linecolor": "white",
             "minorgridcolor": "white",
             "startlinecolor": "#2a3f5f"
            },
            "baxis": {
             "endlinecolor": "#2a3f5f",
             "gridcolor": "white",
             "linecolor": "white",
             "minorgridcolor": "white",
             "startlinecolor": "#2a3f5f"
            },
            "type": "carpet"
           }
          ],
          "choropleth": [
           {
            "colorbar": {
             "outlinewidth": 0,
             "ticks": ""
            },
            "type": "choropleth"
           }
          ],
          "contour": [
           {
            "colorbar": {
             "outlinewidth": 0,
             "ticks": ""
            },
            "colorscale": [
             [
              0,
              "#0d0887"
             ],
             [
              0.1111111111111111,
              "#46039f"
             ],
             [
              0.2222222222222222,
              "#7201a8"
             ],
             [
              0.3333333333333333,
              "#9c179e"
             ],
             [
              0.4444444444444444,
              "#bd3786"
             ],
             [
              0.5555555555555556,
              "#d8576b"
             ],
             [
              0.6666666666666666,
              "#ed7953"
             ],
             [
              0.7777777777777778,
              "#fb9f3a"
             ],
             [
              0.8888888888888888,
              "#fdca26"
             ],
             [
              1,
              "#f0f921"
             ]
            ],
            "type": "contour"
           }
          ],
          "contourcarpet": [
           {
            "colorbar": {
             "outlinewidth": 0,
             "ticks": ""
            },
            "type": "contourcarpet"
           }
          ],
          "heatmap": [
           {
            "colorbar": {
             "outlinewidth": 0,
             "ticks": ""
            },
            "colorscale": [
             [
              0,
              "#0d0887"
             ],
             [
              0.1111111111111111,
              "#46039f"
             ],
             [
              0.2222222222222222,
              "#7201a8"
             ],
             [
              0.3333333333333333,
              "#9c179e"
             ],
             [
              0.4444444444444444,
              "#bd3786"
             ],
             [
              0.5555555555555556,
              "#d8576b"
             ],
             [
              0.6666666666666666,
              "#ed7953"
             ],
             [
              0.7777777777777778,
              "#fb9f3a"
             ],
             [
              0.8888888888888888,
              "#fdca26"
             ],
             [
              1,
              "#f0f921"
             ]
            ],
            "type": "heatmap"
           }
          ],
          "heatmapgl": [
           {
            "colorbar": {
             "outlinewidth": 0,
             "ticks": ""
            },
            "colorscale": [
             [
              0,
              "#0d0887"
             ],
             [
              0.1111111111111111,
              "#46039f"
             ],
             [
              0.2222222222222222,
              "#7201a8"
             ],
             [
              0.3333333333333333,
              "#9c179e"
             ],
             [
              0.4444444444444444,
              "#bd3786"
             ],
             [
              0.5555555555555556,
              "#d8576b"
             ],
             [
              0.6666666666666666,
              "#ed7953"
             ],
             [
              0.7777777777777778,
              "#fb9f3a"
             ],
             [
              0.8888888888888888,
              "#fdca26"
             ],
             [
              1,
              "#f0f921"
             ]
            ],
            "type": "heatmapgl"
           }
          ],
          "histogram": [
           {
            "marker": {
             "pattern": {
              "fillmode": "overlay",
              "size": 10,
              "solidity": 0.2
             }
            },
            "type": "histogram"
           }
          ],
          "histogram2d": [
           {
            "colorbar": {
             "outlinewidth": 0,
             "ticks": ""
            },
            "colorscale": [
             [
              0,
              "#0d0887"
             ],
             [
              0.1111111111111111,
              "#46039f"
             ],
             [
              0.2222222222222222,
              "#7201a8"
             ],
             [
              0.3333333333333333,
              "#9c179e"
             ],
             [
              0.4444444444444444,
              "#bd3786"
             ],
             [
              0.5555555555555556,
              "#d8576b"
             ],
             [
              0.6666666666666666,
              "#ed7953"
             ],
             [
              0.7777777777777778,
              "#fb9f3a"
             ],
             [
              0.8888888888888888,
              "#fdca26"
             ],
             [
              1,
              "#f0f921"
             ]
            ],
            "type": "histogram2d"
           }
          ],
          "histogram2dcontour": [
           {
            "colorbar": {
             "outlinewidth": 0,
             "ticks": ""
            },
            "colorscale": [
             [
              0,
              "#0d0887"
             ],
             [
              0.1111111111111111,
              "#46039f"
             ],
             [
              0.2222222222222222,
              "#7201a8"
             ],
             [
              0.3333333333333333,
              "#9c179e"
             ],
             [
              0.4444444444444444,
              "#bd3786"
             ],
             [
              0.5555555555555556,
              "#d8576b"
             ],
             [
              0.6666666666666666,
              "#ed7953"
             ],
             [
              0.7777777777777778,
              "#fb9f3a"
             ],
             [
              0.8888888888888888,
              "#fdca26"
             ],
             [
              1,
              "#f0f921"
             ]
            ],
            "type": "histogram2dcontour"
           }
          ],
          "mesh3d": [
           {
            "colorbar": {
             "outlinewidth": 0,
             "ticks": ""
            },
            "type": "mesh3d"
           }
          ],
          "parcoords": [
           {
            "line": {
             "colorbar": {
              "outlinewidth": 0,
              "ticks": ""
             }
            },
            "type": "parcoords"
           }
          ],
          "pie": [
           {
            "automargin": true,
            "type": "pie"
           }
          ],
          "scatter": [
           {
            "fillpattern": {
             "fillmode": "overlay",
             "size": 10,
             "solidity": 0.2
            },
            "type": "scatter"
           }
          ],
          "scatter3d": [
           {
            "line": {
             "colorbar": {
              "outlinewidth": 0,
              "ticks": ""
             }
            },
            "marker": {
             "colorbar": {
              "outlinewidth": 0,
              "ticks": ""
             }
            },
            "type": "scatter3d"
           }
          ],
          "scattercarpet": [
           {
            "marker": {
             "colorbar": {
              "outlinewidth": 0,
              "ticks": ""
             }
            },
            "type": "scattercarpet"
           }
          ],
          "scattergeo": [
           {
            "marker": {
             "colorbar": {
              "outlinewidth": 0,
              "ticks": ""
             }
            },
            "type": "scattergeo"
           }
          ],
          "scattergl": [
           {
            "marker": {
             "colorbar": {
              "outlinewidth": 0,
              "ticks": ""
             }
            },
            "type": "scattergl"
           }
          ],
          "scattermapbox": [
           {
            "marker": {
             "colorbar": {
              "outlinewidth": 0,
              "ticks": ""
             }
            },
            "type": "scattermapbox"
           }
          ],
          "scatterpolar": [
           {
            "marker": {
             "colorbar": {
              "outlinewidth": 0,
              "ticks": ""
             }
            },
            "type": "scatterpolar"
           }
          ],
          "scatterpolargl": [
           {
            "marker": {
             "colorbar": {
              "outlinewidth": 0,
              "ticks": ""
             }
            },
            "type": "scatterpolargl"
           }
          ],
          "scatterternary": [
           {
            "marker": {
             "colorbar": {
              "outlinewidth": 0,
              "ticks": ""
             }
            },
            "type": "scatterternary"
           }
          ],
          "surface": [
           {
            "colorbar": {
             "outlinewidth": 0,
             "ticks": ""
            },
            "colorscale": [
             [
              0,
              "#0d0887"
             ],
             [
              0.1111111111111111,
              "#46039f"
             ],
             [
              0.2222222222222222,
              "#7201a8"
             ],
             [
              0.3333333333333333,
              "#9c179e"
             ],
             [
              0.4444444444444444,
              "#bd3786"
             ],
             [
              0.5555555555555556,
              "#d8576b"
             ],
             [
              0.6666666666666666,
              "#ed7953"
             ],
             [
              0.7777777777777778,
              "#fb9f3a"
             ],
             [
              0.8888888888888888,
              "#fdca26"
             ],
             [
              1,
              "#f0f921"
             ]
            ],
            "type": "surface"
           }
          ],
          "table": [
           {
            "cells": {
             "fill": {
              "color": "#EBF0F8"
             },
             "line": {
              "color": "white"
             }
            },
            "header": {
             "fill": {
              "color": "#C8D4E3"
             },
             "line": {
              "color": "white"
             }
            },
            "type": "table"
           }
          ]
         },
         "layout": {
          "annotationdefaults": {
           "arrowcolor": "#2a3f5f",
           "arrowhead": 0,
           "arrowwidth": 1
          },
          "autotypenumbers": "strict",
          "coloraxis": {
           "colorbar": {
            "outlinewidth": 0,
            "ticks": ""
           }
          },
          "colorscale": {
           "diverging": [
            [
             0,
             "#8e0152"
            ],
            [
             0.1,
             "#c51b7d"
            ],
            [
             0.2,
             "#de77ae"
            ],
            [
             0.3,
             "#f1b6da"
            ],
            [
             0.4,
             "#fde0ef"
            ],
            [
             0.5,
             "#f7f7f7"
            ],
            [
             0.6,
             "#e6f5d0"
            ],
            [
             0.7,
             "#b8e186"
            ],
            [
             0.8,
             "#7fbc41"
            ],
            [
             0.9,
             "#4d9221"
            ],
            [
             1,
             "#276419"
            ]
           ],
           "sequential": [
            [
             0,
             "#0d0887"
            ],
            [
             0.1111111111111111,
             "#46039f"
            ],
            [
             0.2222222222222222,
             "#7201a8"
            ],
            [
             0.3333333333333333,
             "#9c179e"
            ],
            [
             0.4444444444444444,
             "#bd3786"
            ],
            [
             0.5555555555555556,
             "#d8576b"
            ],
            [
             0.6666666666666666,
             "#ed7953"
            ],
            [
             0.7777777777777778,
             "#fb9f3a"
            ],
            [
             0.8888888888888888,
             "#fdca26"
            ],
            [
             1,
             "#f0f921"
            ]
           ],
           "sequentialminus": [
            [
             0,
             "#0d0887"
            ],
            [
             0.1111111111111111,
             "#46039f"
            ],
            [
             0.2222222222222222,
             "#7201a8"
            ],
            [
             0.3333333333333333,
             "#9c179e"
            ],
            [
             0.4444444444444444,
             "#bd3786"
            ],
            [
             0.5555555555555556,
             "#d8576b"
            ],
            [
             0.6666666666666666,
             "#ed7953"
            ],
            [
             0.7777777777777778,
             "#fb9f3a"
            ],
            [
             0.8888888888888888,
             "#fdca26"
            ],
            [
             1,
             "#f0f921"
            ]
           ]
          },
          "colorway": [
           "#636efa",
           "#EF553B",
           "#00cc96",
           "#ab63fa",
           "#FFA15A",
           "#19d3f3",
           "#FF6692",
           "#B6E880",
           "#FF97FF",
           "#FECB52"
          ],
          "font": {
           "color": "#2a3f5f"
          },
          "geo": {
           "bgcolor": "white",
           "lakecolor": "white",
           "landcolor": "#E5ECF6",
           "showlakes": true,
           "showland": true,
           "subunitcolor": "white"
          },
          "hoverlabel": {
           "align": "left"
          },
          "hovermode": "closest",
          "mapbox": {
           "style": "light"
          },
          "paper_bgcolor": "white",
          "plot_bgcolor": "#E5ECF6",
          "polar": {
           "angularaxis": {
            "gridcolor": "white",
            "linecolor": "white",
            "ticks": ""
           },
           "bgcolor": "#E5ECF6",
           "radialaxis": {
            "gridcolor": "white",
            "linecolor": "white",
            "ticks": ""
           }
          },
          "scene": {
           "xaxis": {
            "backgroundcolor": "#E5ECF6",
            "gridcolor": "white",
            "gridwidth": 2,
            "linecolor": "white",
            "showbackground": true,
            "ticks": "",
            "zerolinecolor": "white"
           },
           "yaxis": {
            "backgroundcolor": "#E5ECF6",
            "gridcolor": "white",
            "gridwidth": 2,
            "linecolor": "white",
            "showbackground": true,
            "ticks": "",
            "zerolinecolor": "white"
           },
           "zaxis": {
            "backgroundcolor": "#E5ECF6",
            "gridcolor": "white",
            "gridwidth": 2,
            "linecolor": "white",
            "showbackground": true,
            "ticks": "",
            "zerolinecolor": "white"
           }
          },
          "shapedefaults": {
           "line": {
            "color": "#2a3f5f"
           }
          },
          "ternary": {
           "aaxis": {
            "gridcolor": "white",
            "linecolor": "white",
            "ticks": ""
           },
           "baxis": {
            "gridcolor": "white",
            "linecolor": "white",
            "ticks": ""
           },
           "bgcolor": "#E5ECF6",
           "caxis": {
            "gridcolor": "white",
            "linecolor": "white",
            "ticks": ""
           }
          },
          "title": {
           "x": 0.05
          },
          "xaxis": {
           "automargin": true,
           "gridcolor": "white",
           "linecolor": "white",
           "ticks": "",
           "title": {
            "standoff": 15
           },
           "zerolinecolor": "white",
           "zerolinewidth": 2
          },
          "yaxis": {
           "automargin": true,
           "gridcolor": "white",
           "linecolor": "white",
           "ticks": "",
           "title": {
            "standoff": 15
           },
           "zerolinecolor": "white",
           "zerolinewidth": 2
          }
         }
        },
        "title": {
         "text": "MTEF Sector vs. Project Implementation Status (%)",
         "x": 0.5
        },
        "xaxis": {
         "anchor": "y",
         "constrain": "domain",
         "domain": [
          0,
          1
         ],
         "scaleanchor": "y",
         "title": {
          "text": "MTEF Sector"
         }
        },
        "yaxis": {
         "anchor": "x",
         "autorange": "reversed",
         "constrain": "domain",
         "domain": [
          0,
          1
         ],
         "title": {
          "text": "Implementation Status"
         }
        }
       }
      }
     },
     "metadata": {},
     "output_type": "display_data"
    }
   ],
   "source": [
    "# Grouping and normalizing data for MTEF sector vs implementation status\n",
    "sector_vs_success = df.groupby([\"mtef_sector\", \"implementation_status\"]).size().unstack()\n",
    "sector_vs_success_percentage = sector_vs_success.div(sector_vs_success.sum(axis=1), axis=0) * 100\n",
    "\n",
    "# Create an interactive heatmap for MTEF sector vs implementation status\n",
    "fig = px.imshow(sector_vs_success_percentage.T,  # Transpose for correct orientation\n",
    "                labels=dict(x=\"MTEF Sector\", y=\"Implementation Status\", color=\"% Projects\"),\n",
    "                x=sector_vs_success_percentage.index,\n",
    "                y=sector_vs_success_percentage.columns,\n",
    "                color_continuous_scale=\"Greens\",  # Modern green color scale\n",
    "                title=\"MTEF Sector vs. Project Implementation Status (%)\")\n",
    "fig.update_layout(\n",
    "    template=\"plotly\",  # Use modern plotly template\n",
    "    title_x=0.5,  # Center the title\n",
    "    plot_bgcolor=\"white\",  # White plot background\n",
    "    paper_bgcolor=\"white\",  # White paper background\n",
    ")\n",
    "fig.show()\n"
   ]
  },
  {
   "cell_type": "code",
   "execution_count": 19,
   "id": "3bc4cd9d",
   "metadata": {},
   "outputs": [
    {
     "name": "stdout",
     "output_type": "stream",
     "text": [
      "\n",
      "Logistic Regression Report:\n",
      "              precision    recall  f1-score   support\n",
      "\n",
      "           0       0.86      1.00      0.92      1087\n",
      "           1       0.00      0.00      0.00       183\n",
      "\n",
      "    accuracy                           0.86      1270\n",
      "   macro avg       0.43      0.50      0.46      1270\n",
      "weighted avg       0.73      0.86      0.79      1270\n",
      "\n",
      "\n",
      "Decision Tree Report:\n",
      "              precision    recall  f1-score   support\n",
      "\n",
      "           0       0.95      0.96      0.96      1087\n",
      "           1       0.77      0.73      0.75       183\n",
      "\n",
      "    accuracy                           0.93      1270\n",
      "   macro avg       0.86      0.84      0.85      1270\n",
      "weighted avg       0.93      0.93      0.93      1270\n",
      "\n"
     ]
    },
    {
     "name": "stderr",
     "output_type": "stream",
     "text": [
      "C:\\Users\\Joyce\\AppData\\Local\\Packages\\PythonSoftwareFoundation.Python.3.11_qbz5n2kfra8p0\\LocalCache\\local-packages\\Python311\\site-packages\\sklearn\\metrics\\_classification.py:1531: UndefinedMetricWarning: Precision is ill-defined and being set to 0.0 in labels with no predicted samples. Use `zero_division` parameter to control this behavior.\n",
      "  _warn_prf(average, modifier, f\"{metric.capitalize()} is\", len(result))\n",
      "C:\\Users\\Joyce\\AppData\\Local\\Packages\\PythonSoftwareFoundation.Python.3.11_qbz5n2kfra8p0\\LocalCache\\local-packages\\Python311\\site-packages\\sklearn\\metrics\\_classification.py:1531: UndefinedMetricWarning: Precision is ill-defined and being set to 0.0 in labels with no predicted samples. Use `zero_division` parameter to control this behavior.\n",
      "  _warn_prf(average, modifier, f\"{metric.capitalize()} is\", len(result))\n",
      "C:\\Users\\Joyce\\AppData\\Local\\Packages\\PythonSoftwareFoundation.Python.3.11_qbz5n2kfra8p0\\LocalCache\\local-packages\\Python311\\site-packages\\sklearn\\metrics\\_classification.py:1531: UndefinedMetricWarning: Precision is ill-defined and being set to 0.0 in labels with no predicted samples. Use `zero_division` parameter to control this behavior.\n",
      "  _warn_prf(average, modifier, f\"{metric.capitalize()} is\", len(result))\n"
     ]
    },
    {
     "name": "stdout",
     "output_type": "stream",
     "text": [
      "\n",
      "Random Forest Report:\n",
      "              precision    recall  f1-score   support\n",
      "\n",
      "           0       0.95      0.98      0.96      1087\n",
      "           1       0.84      0.67      0.75       183\n",
      "\n",
      "    accuracy                           0.93      1270\n",
      "   macro avg       0.89      0.83      0.85      1270\n",
      "weighted avg       0.93      0.93      0.93      1270\n",
      "\n"
     ]
    },
    {
     "name": "stderr",
     "output_type": "stream",
     "text": [
      "C:\\Users\\Joyce\\AppData\\Local\\Packages\\PythonSoftwareFoundation.Python.3.11_qbz5n2kfra8p0\\LocalCache\\local-packages\\Python311\\site-packages\\xgboost\\core.py:158: UserWarning: [12:59:09] WARNING: C:\\buildkite-agent\\builds\\buildkite-windows-cpu-autoscaling-group-i-0015a694724fa8361-1\\xgboost\\xgboost-ci-windows\\src\\learner.cc:740: \n",
      "Parameters: { \"use_label_encoder\" } are not used.\n",
      "\n",
      "  warnings.warn(smsg, UserWarning)\n"
     ]
    },
    {
     "name": "stdout",
     "output_type": "stream",
     "text": [
      "\n",
      "XGBoost Report:\n",
      "              precision    recall  f1-score   support\n",
      "\n",
      "           0       0.93      0.98      0.96      1087\n",
      "           1       0.84      0.57      0.68       183\n",
      "\n",
      "    accuracy                           0.92      1270\n",
      "   macro avg       0.89      0.78      0.82      1270\n",
      "weighted avg       0.92      0.92      0.92      1270\n",
      "\n"
     ]
    }
   ],
   "source": [
    "# Split data\n",
    "X = df_model.drop(\"Success\", axis=1)\n",
    "y = df_model[\"Success\"]\n",
    "\n",
    "X_train, X_test, y_train, y_test = train_test_split(X, y, test_size=0.2, random_state=42)\n",
    "\n",
    "models = {\n",
    "    \"Logistic Regression\": LogisticRegression(max_iter=1000),\n",
    "    \"Decision Tree\": DecisionTreeClassifier(),\n",
    "    \"Random Forest\": RandomForestClassifier(),\n",
    "    \"XGBoost\": XGBClassifier(use_label_encoder=False, eval_metric='logloss')\n",
    "}\n",
    "\n",
    "results = {}\n",
    "for name, model in models.items():\n",
    "    model.fit(X_train, y_train)\n",
    "    y_pred = model.predict(X_test)\n",
    "    print(f\"\\n{name} Report:\")\n",
    "    print(classification_report(y_test, y_pred))\n",
    "    results[name] = {\n",
    "        \"accuracy\": accuracy_score(y_test, y_pred)\n",
    "    }\n",
    "\n",
    "\n"
   ]
  },
  {
   "cell_type": "code",
   "execution_count": 30,
   "id": "77cd9223",
   "metadata": {},
   "outputs": [
    {
     "data": {
      "application/vnd.plotly.v1+json": {
       "config": {
        "plotlyServerURL": "https://plot.ly"
       },
       "data": [
        {
         "alignmentgroup": "True",
         "hovertemplate": "Model=%{y}<br>Accuracy (%)=%{x}<br>text=%{text}<extra></extra>",
         "legendgroup": "Logistic Regression",
         "marker": {
          "color": "#440154",
          "pattern": {
           "shape": ""
          }
         },
         "name": "Logistic Regression",
         "offsetgroup": "Logistic Regression",
         "orientation": "h",
         "showlegend": true,
         "text": [
          "85.59%"
         ],
         "textposition": "outside",
         "type": "bar",
         "x": [
          85.59
         ],
         "xaxis": "x",
         "y": [
          "Logistic Regression"
         ],
         "yaxis": "y"
        },
        {
         "alignmentgroup": "True",
         "hovertemplate": "Model=%{y}<br>Accuracy (%)=%{x}<br>text=%{text}<extra></extra>",
         "legendgroup": "XGBoost",
         "marker": {
          "color": "#482878",
          "pattern": {
           "shape": ""
          }
         },
         "name": "XGBoost",
         "offsetgroup": "XGBoost",
         "orientation": "h",
         "showlegend": true,
         "text": [
          "92.28%"
         ],
         "textposition": "outside",
         "type": "bar",
         "x": [
          92.28
         ],
         "xaxis": "x",
         "y": [
          "XGBoost"
         ],
         "yaxis": "y"
        },
        {
         "alignmentgroup": "True",
         "hovertemplate": "Model=%{y}<br>Accuracy (%)=%{x}<br>text=%{text}<extra></extra>",
         "legendgroup": "Decision Tree",
         "marker": {
          "color": "#3e4989",
          "pattern": {
           "shape": ""
          }
         },
         "name": "Decision Tree",
         "offsetgroup": "Decision Tree",
         "orientation": "h",
         "showlegend": true,
         "text": [
          "92.91%"
         ],
         "textposition": "outside",
         "type": "bar",
         "x": [
          92.91
         ],
         "xaxis": "x",
         "y": [
          "Decision Tree"
         ],
         "yaxis": "y"
        },
        {
         "alignmentgroup": "True",
         "hovertemplate": "Model=%{y}<br>Accuracy (%)=%{x}<br>text=%{text}<extra></extra>",
         "legendgroup": "Random Forest",
         "marker": {
          "color": "#31688e",
          "pattern": {
           "shape": ""
          }
         },
         "name": "Random Forest",
         "offsetgroup": "Random Forest",
         "orientation": "h",
         "showlegend": true,
         "text": [
          "93.39%"
         ],
         "textposition": "outside",
         "type": "bar",
         "x": [
          93.39
         ],
         "xaxis": "x",
         "y": [
          "Random Forest"
         ],
         "yaxis": "y"
        }
       ],
       "layout": {
        "barmode": "relative",
        "height": 450,
        "legend": {
         "title": {
          "text": "Model"
         },
         "tracegroupgap": 0
        },
        "template": {
         "data": {
          "bar": [
           {
            "error_x": {
             "color": "#2a3f5f"
            },
            "error_y": {
             "color": "#2a3f5f"
            },
            "marker": {
             "line": {
              "color": "white",
              "width": 0.5
             },
             "pattern": {
              "fillmode": "overlay",
              "size": 10,
              "solidity": 0.2
             }
            },
            "type": "bar"
           }
          ],
          "barpolar": [
           {
            "marker": {
             "line": {
              "color": "white",
              "width": 0.5
             },
             "pattern": {
              "fillmode": "overlay",
              "size": 10,
              "solidity": 0.2
             }
            },
            "type": "barpolar"
           }
          ],
          "carpet": [
           {
            "aaxis": {
             "endlinecolor": "#2a3f5f",
             "gridcolor": "#C8D4E3",
             "linecolor": "#C8D4E3",
             "minorgridcolor": "#C8D4E3",
             "startlinecolor": "#2a3f5f"
            },
            "baxis": {
             "endlinecolor": "#2a3f5f",
             "gridcolor": "#C8D4E3",
             "linecolor": "#C8D4E3",
             "minorgridcolor": "#C8D4E3",
             "startlinecolor": "#2a3f5f"
            },
            "type": "carpet"
           }
          ],
          "choropleth": [
           {
            "colorbar": {
             "outlinewidth": 0,
             "ticks": ""
            },
            "type": "choropleth"
           }
          ],
          "contour": [
           {
            "colorbar": {
             "outlinewidth": 0,
             "ticks": ""
            },
            "colorscale": [
             [
              0,
              "#0d0887"
             ],
             [
              0.1111111111111111,
              "#46039f"
             ],
             [
              0.2222222222222222,
              "#7201a8"
             ],
             [
              0.3333333333333333,
              "#9c179e"
             ],
             [
              0.4444444444444444,
              "#bd3786"
             ],
             [
              0.5555555555555556,
              "#d8576b"
             ],
             [
              0.6666666666666666,
              "#ed7953"
             ],
             [
              0.7777777777777778,
              "#fb9f3a"
             ],
             [
              0.8888888888888888,
              "#fdca26"
             ],
             [
              1,
              "#f0f921"
             ]
            ],
            "type": "contour"
           }
          ],
          "contourcarpet": [
           {
            "colorbar": {
             "outlinewidth": 0,
             "ticks": ""
            },
            "type": "contourcarpet"
           }
          ],
          "heatmap": [
           {
            "colorbar": {
             "outlinewidth": 0,
             "ticks": ""
            },
            "colorscale": [
             [
              0,
              "#0d0887"
             ],
             [
              0.1111111111111111,
              "#46039f"
             ],
             [
              0.2222222222222222,
              "#7201a8"
             ],
             [
              0.3333333333333333,
              "#9c179e"
             ],
             [
              0.4444444444444444,
              "#bd3786"
             ],
             [
              0.5555555555555556,
              "#d8576b"
             ],
             [
              0.6666666666666666,
              "#ed7953"
             ],
             [
              0.7777777777777778,
              "#fb9f3a"
             ],
             [
              0.8888888888888888,
              "#fdca26"
             ],
             [
              1,
              "#f0f921"
             ]
            ],
            "type": "heatmap"
           }
          ],
          "heatmapgl": [
           {
            "colorbar": {
             "outlinewidth": 0,
             "ticks": ""
            },
            "colorscale": [
             [
              0,
              "#0d0887"
             ],
             [
              0.1111111111111111,
              "#46039f"
             ],
             [
              0.2222222222222222,
              "#7201a8"
             ],
             [
              0.3333333333333333,
              "#9c179e"
             ],
             [
              0.4444444444444444,
              "#bd3786"
             ],
             [
              0.5555555555555556,
              "#d8576b"
             ],
             [
              0.6666666666666666,
              "#ed7953"
             ],
             [
              0.7777777777777778,
              "#fb9f3a"
             ],
             [
              0.8888888888888888,
              "#fdca26"
             ],
             [
              1,
              "#f0f921"
             ]
            ],
            "type": "heatmapgl"
           }
          ],
          "histogram": [
           {
            "marker": {
             "pattern": {
              "fillmode": "overlay",
              "size": 10,
              "solidity": 0.2
             }
            },
            "type": "histogram"
           }
          ],
          "histogram2d": [
           {
            "colorbar": {
             "outlinewidth": 0,
             "ticks": ""
            },
            "colorscale": [
             [
              0,
              "#0d0887"
             ],
             [
              0.1111111111111111,
              "#46039f"
             ],
             [
              0.2222222222222222,
              "#7201a8"
             ],
             [
              0.3333333333333333,
              "#9c179e"
             ],
             [
              0.4444444444444444,
              "#bd3786"
             ],
             [
              0.5555555555555556,
              "#d8576b"
             ],
             [
              0.6666666666666666,
              "#ed7953"
             ],
             [
              0.7777777777777778,
              "#fb9f3a"
             ],
             [
              0.8888888888888888,
              "#fdca26"
             ],
             [
              1,
              "#f0f921"
             ]
            ],
            "type": "histogram2d"
           }
          ],
          "histogram2dcontour": [
           {
            "colorbar": {
             "outlinewidth": 0,
             "ticks": ""
            },
            "colorscale": [
             [
              0,
              "#0d0887"
             ],
             [
              0.1111111111111111,
              "#46039f"
             ],
             [
              0.2222222222222222,
              "#7201a8"
             ],
             [
              0.3333333333333333,
              "#9c179e"
             ],
             [
              0.4444444444444444,
              "#bd3786"
             ],
             [
              0.5555555555555556,
              "#d8576b"
             ],
             [
              0.6666666666666666,
              "#ed7953"
             ],
             [
              0.7777777777777778,
              "#fb9f3a"
             ],
             [
              0.8888888888888888,
              "#fdca26"
             ],
             [
              1,
              "#f0f921"
             ]
            ],
            "type": "histogram2dcontour"
           }
          ],
          "mesh3d": [
           {
            "colorbar": {
             "outlinewidth": 0,
             "ticks": ""
            },
            "type": "mesh3d"
           }
          ],
          "parcoords": [
           {
            "line": {
             "colorbar": {
              "outlinewidth": 0,
              "ticks": ""
             }
            },
            "type": "parcoords"
           }
          ],
          "pie": [
           {
            "automargin": true,
            "type": "pie"
           }
          ],
          "scatter": [
           {
            "fillpattern": {
             "fillmode": "overlay",
             "size": 10,
             "solidity": 0.2
            },
            "type": "scatter"
           }
          ],
          "scatter3d": [
           {
            "line": {
             "colorbar": {
              "outlinewidth": 0,
              "ticks": ""
             }
            },
            "marker": {
             "colorbar": {
              "outlinewidth": 0,
              "ticks": ""
             }
            },
            "type": "scatter3d"
           }
          ],
          "scattercarpet": [
           {
            "marker": {
             "colorbar": {
              "outlinewidth": 0,
              "ticks": ""
             }
            },
            "type": "scattercarpet"
           }
          ],
          "scattergeo": [
           {
            "marker": {
             "colorbar": {
              "outlinewidth": 0,
              "ticks": ""
             }
            },
            "type": "scattergeo"
           }
          ],
          "scattergl": [
           {
            "marker": {
             "colorbar": {
              "outlinewidth": 0,
              "ticks": ""
             }
            },
            "type": "scattergl"
           }
          ],
          "scattermapbox": [
           {
            "marker": {
             "colorbar": {
              "outlinewidth": 0,
              "ticks": ""
             }
            },
            "type": "scattermapbox"
           }
          ],
          "scatterpolar": [
           {
            "marker": {
             "colorbar": {
              "outlinewidth": 0,
              "ticks": ""
             }
            },
            "type": "scatterpolar"
           }
          ],
          "scatterpolargl": [
           {
            "marker": {
             "colorbar": {
              "outlinewidth": 0,
              "ticks": ""
             }
            },
            "type": "scatterpolargl"
           }
          ],
          "scatterternary": [
           {
            "marker": {
             "colorbar": {
              "outlinewidth": 0,
              "ticks": ""
             }
            },
            "type": "scatterternary"
           }
          ],
          "surface": [
           {
            "colorbar": {
             "outlinewidth": 0,
             "ticks": ""
            },
            "colorscale": [
             [
              0,
              "#0d0887"
             ],
             [
              0.1111111111111111,
              "#46039f"
             ],
             [
              0.2222222222222222,
              "#7201a8"
             ],
             [
              0.3333333333333333,
              "#9c179e"
             ],
             [
              0.4444444444444444,
              "#bd3786"
             ],
             [
              0.5555555555555556,
              "#d8576b"
             ],
             [
              0.6666666666666666,
              "#ed7953"
             ],
             [
              0.7777777777777778,
              "#fb9f3a"
             ],
             [
              0.8888888888888888,
              "#fdca26"
             ],
             [
              1,
              "#f0f921"
             ]
            ],
            "type": "surface"
           }
          ],
          "table": [
           {
            "cells": {
             "fill": {
              "color": "#EBF0F8"
             },
             "line": {
              "color": "white"
             }
            },
            "header": {
             "fill": {
              "color": "#C8D4E3"
             },
             "line": {
              "color": "white"
             }
            },
            "type": "table"
           }
          ]
         },
         "layout": {
          "annotationdefaults": {
           "arrowcolor": "#2a3f5f",
           "arrowhead": 0,
           "arrowwidth": 1
          },
          "autotypenumbers": "strict",
          "coloraxis": {
           "colorbar": {
            "outlinewidth": 0,
            "ticks": ""
           }
          },
          "colorscale": {
           "diverging": [
            [
             0,
             "#8e0152"
            ],
            [
             0.1,
             "#c51b7d"
            ],
            [
             0.2,
             "#de77ae"
            ],
            [
             0.3,
             "#f1b6da"
            ],
            [
             0.4,
             "#fde0ef"
            ],
            [
             0.5,
             "#f7f7f7"
            ],
            [
             0.6,
             "#e6f5d0"
            ],
            [
             0.7,
             "#b8e186"
            ],
            [
             0.8,
             "#7fbc41"
            ],
            [
             0.9,
             "#4d9221"
            ],
            [
             1,
             "#276419"
            ]
           ],
           "sequential": [
            [
             0,
             "#0d0887"
            ],
            [
             0.1111111111111111,
             "#46039f"
            ],
            [
             0.2222222222222222,
             "#7201a8"
            ],
            [
             0.3333333333333333,
             "#9c179e"
            ],
            [
             0.4444444444444444,
             "#bd3786"
            ],
            [
             0.5555555555555556,
             "#d8576b"
            ],
            [
             0.6666666666666666,
             "#ed7953"
            ],
            [
             0.7777777777777778,
             "#fb9f3a"
            ],
            [
             0.8888888888888888,
             "#fdca26"
            ],
            [
             1,
             "#f0f921"
            ]
           ],
           "sequentialminus": [
            [
             0,
             "#0d0887"
            ],
            [
             0.1111111111111111,
             "#46039f"
            ],
            [
             0.2222222222222222,
             "#7201a8"
            ],
            [
             0.3333333333333333,
             "#9c179e"
            ],
            [
             0.4444444444444444,
             "#bd3786"
            ],
            [
             0.5555555555555556,
             "#d8576b"
            ],
            [
             0.6666666666666666,
             "#ed7953"
            ],
            [
             0.7777777777777778,
             "#fb9f3a"
            ],
            [
             0.8888888888888888,
             "#fdca26"
            ],
            [
             1,
             "#f0f921"
            ]
           ]
          },
          "colorway": [
           "#636efa",
           "#EF553B",
           "#00cc96",
           "#ab63fa",
           "#FFA15A",
           "#19d3f3",
           "#FF6692",
           "#B6E880",
           "#FF97FF",
           "#FECB52"
          ],
          "font": {
           "color": "#2a3f5f"
          },
          "geo": {
           "bgcolor": "white",
           "lakecolor": "white",
           "landcolor": "white",
           "showlakes": true,
           "showland": true,
           "subunitcolor": "#C8D4E3"
          },
          "hoverlabel": {
           "align": "left"
          },
          "hovermode": "closest",
          "mapbox": {
           "style": "light"
          },
          "paper_bgcolor": "white",
          "plot_bgcolor": "white",
          "polar": {
           "angularaxis": {
            "gridcolor": "#EBF0F8",
            "linecolor": "#EBF0F8",
            "ticks": ""
           },
           "bgcolor": "white",
           "radialaxis": {
            "gridcolor": "#EBF0F8",
            "linecolor": "#EBF0F8",
            "ticks": ""
           }
          },
          "scene": {
           "xaxis": {
            "backgroundcolor": "white",
            "gridcolor": "#DFE8F3",
            "gridwidth": 2,
            "linecolor": "#EBF0F8",
            "showbackground": true,
            "ticks": "",
            "zerolinecolor": "#EBF0F8"
           },
           "yaxis": {
            "backgroundcolor": "white",
            "gridcolor": "#DFE8F3",
            "gridwidth": 2,
            "linecolor": "#EBF0F8",
            "showbackground": true,
            "ticks": "",
            "zerolinecolor": "#EBF0F8"
           },
           "zaxis": {
            "backgroundcolor": "white",
            "gridcolor": "#DFE8F3",
            "gridwidth": 2,
            "linecolor": "#EBF0F8",
            "showbackground": true,
            "ticks": "",
            "zerolinecolor": "#EBF0F8"
           }
          },
          "shapedefaults": {
           "line": {
            "color": "#2a3f5f"
           }
          },
          "ternary": {
           "aaxis": {
            "gridcolor": "#DFE8F3",
            "linecolor": "#A2B1C6",
            "ticks": ""
           },
           "baxis": {
            "gridcolor": "#DFE8F3",
            "linecolor": "#A2B1C6",
            "ticks": ""
           },
           "bgcolor": "white",
           "caxis": {
            "gridcolor": "#DFE8F3",
            "linecolor": "#A2B1C6",
            "ticks": ""
           }
          },
          "title": {
           "x": 0.05
          },
          "xaxis": {
           "automargin": true,
           "gridcolor": "#EBF0F8",
           "linecolor": "#EBF0F8",
           "ticks": "",
           "title": {
            "standoff": 15
           },
           "zerolinecolor": "#EBF0F8",
           "zerolinewidth": 2
          },
          "yaxis": {
           "automargin": true,
           "gridcolor": "#EBF0F8",
           "linecolor": "#EBF0F8",
           "ticks": "",
           "title": {
            "standoff": 15
           },
           "zerolinecolor": "#EBF0F8",
           "zerolinewidth": 2
          }
         }
        },
        "title": {
         "font": {
          "size": 18
         },
         "text": "Accuracy Comparison of ML Models"
        },
        "xaxis": {
         "anchor": "y",
         "domain": [
          0,
          1
         ],
         "range": [
          0,
          105
         ],
         "title": {
          "text": "Accuracy (%)"
         }
        },
        "yaxis": {
         "anchor": "x",
         "categoryarray": [
          "Random Forest",
          "Decision Tree",
          "XGBoost",
          "Logistic Regression"
         ],
         "categoryorder": "array",
         "domain": [
          0,
          1
         ],
         "title": {}
        }
       }
      }
     },
     "metadata": {},
     "output_type": "display_data"
    }
   ],
   "source": [
    "import plotly.express as px\n",
    "import pandas as pd\n",
    "from sklearn.metrics import accuracy_score\n",
    "\n",
    "# Calculate model accuracy scores\n",
    "model_scores = {\n",
    "    \"Logistic Regression\": accuracy_score(y_test, models[\"Logistic Regression\"].predict(X_test)),\n",
    "    \"Decision Tree\": accuracy_score(y_test, models[\"Decision Tree\"].predict(X_test)),\n",
    "    \"Random Forest\": accuracy_score(y_test, models[\"Random Forest\"].predict(X_test)),\n",
    "    \"XGBoost\": accuracy_score(y_test, models[\"XGBoost\"].predict(X_test)),\n",
    "}\n",
    "\n",
    "# Convert to percentage and DataFrame\n",
    "score_df = pd.DataFrame(\n",
    "    [(model, round(score * 100, 2)) for model, score in model_scores.items()],\n",
    "    columns=[\"Model\", \"Accuracy (%)\"]\n",
    ").sort_values(by=\"Accuracy (%)\", ascending=True)\n",
    "\n",
    "# Create interactive bar chart\n",
    "fig = px.bar(\n",
    "    score_df,\n",
    "    x=\"Accuracy (%)\",\n",
    "    y=\"Model\",\n",
    "    orientation='h',\n",
    "    text=score_df[\"Accuracy (%)\"].apply(lambda x: f\"{x:.2f}%\"),\n",
    "    title=\"Accuracy Comparison of ML Models\",\n",
    "    color=\"Model\",\n",
    "    color_discrete_sequence=px.colors.sequential.Viridis\n",
    ")\n",
    "\n",
    "# Customize layout\n",
    "fig.update_traces(textposition='outside')\n",
    "fig.update_layout(\n",
    "    xaxis_range=[0, 105],\n",
    "    xaxis_title=\"Accuracy (%)\",\n",
    "    yaxis_title=None,\n",
    "    title_font_size=18,\n",
    "    template=\"plotly_white\",\n",
    "    height=450\n",
    ")\n",
    "\n",
    "# Display the interactive chart\n",
    "fig.show()\n",
    "\n"
   ]
  }
 ],
 "metadata": {
  "kernelspec": {
   "display_name": "Python 3",
   "language": "python",
   "name": "python3"
  },
  "language_info": {
   "codemirror_mode": {
    "name": "ipython",
    "version": 3
   },
   "file_extension": ".py",
   "mimetype": "text/x-python",
   "name": "python",
   "nbconvert_exporter": "python",
   "pygments_lexer": "ipython3",
   "version": "3.11.9"
  }
 },
 "nbformat": 4,
 "nbformat_minor": 5
}
